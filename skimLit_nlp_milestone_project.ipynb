{
  "nbformat": 4,
  "nbformat_minor": 0,
  "metadata": {
    "colab": {
      "provenance": [],
      "authorship_tag": "ABX9TyPfFCs30qM46a1GvcgBDAub",
      "include_colab_link": true
    },
    "kernelspec": {
      "name": "python3",
      "display_name": "Python 3"
    },
    "language_info": {
      "name": "python"
    },
    "gpuClass": "standard",
    "accelerator": "GPU"
  },
  "cells": [
    {
      "cell_type": "markdown",
      "metadata": {
        "id": "view-in-github",
        "colab_type": "text"
      },
      "source": [
        "<a href=\"https://colab.research.google.com/github/mohammadAliMkh/Tensorflow/blob/main/skimLit_nlp_milestone_project.ipynb\" target=\"_parent\"><img src=\"https://colab.research.google.com/assets/colab-badge.svg\" alt=\"Open In Colab\"/></a>"
      ]
    },
    {
      "cell_type": "code",
      "execution_count": 1,
      "metadata": {
        "id": "QSZGpCLGdGts",
        "colab": {
          "base_uri": "https://localhost:8080/"
        },
        "outputId": "cdd28f90-3a52-4a4e-9d48-a73f2a8e1fb4"
      },
      "outputs": [
        {
          "output_type": "stream",
          "name": "stdout",
          "text": [
            "Cloning into 'pubmed-rct'...\n",
            "remote: Enumerating objects: 33, done.\u001b[K\n",
            "remote: Counting objects: 100% (8/8), done.\u001b[K\n",
            "remote: Compressing objects: 100% (3/3), done.\u001b[K\n",
            "remote: Total 33 (delta 5), reused 5 (delta 5), pack-reused 25\u001b[K\n",
            "Unpacking objects: 100% (33/33), done.\n"
          ]
        }
      ],
      "source": [
        "!git clone 'https://github.com/Franck-Dernoncourt/pubmed-rct.git'"
      ]
    },
    {
      "cell_type": "code",
      "source": [
        "file_dir = '/content/pubmed-rct/' + 'PubMed_20k_RCT_numbers_replaced_with_at_sign'\n",
        "file_dir"
      ],
      "metadata": {
        "colab": {
          "base_uri": "https://localhost:8080/",
          "height": 35
        },
        "id": "l4w0E3TtePog",
        "outputId": "e4dfcb43-3427-41c1-c4b9-1648214ca93d"
      },
      "execution_count": 2,
      "outputs": [
        {
          "output_type": "execute_result",
          "data": {
            "text/plain": [
              "'/content/pubmed-rct/PubMed_20k_RCT_numbers_replaced_with_at_sign'"
            ],
            "application/vnd.google.colaboratory.intrinsic+json": {
              "type": "string"
            }
          },
          "metadata": {},
          "execution_count": 2
        }
      ]
    },
    {
      "cell_type": "code",
      "source": [
        "file_path = file_dir + \"/train.txt\"\n",
        "with open(file_path, 'r') as f:\n",
        "  train_lines = f.readlines()"
      ],
      "metadata": {
        "id": "182pqJrufFjI"
      },
      "execution_count": 3,
      "outputs": []
    },
    {
      "cell_type": "code",
      "source": [
        "def prepare_data_without_total_lines(train_lines):\n",
        "  a = 0\n",
        "  line_number = 0\n",
        "  total_lines_list = []\n",
        "  our_train_list = []\n",
        "  for line in train_lines:\n",
        "    if '###2' in line:\n",
        "      if a>0:\n",
        "        total_lines_list.append(line_number-1)\n",
        "      line_number = 0\n",
        "      a = a + 1\n",
        "    else:\n",
        "      if line != '\\n':\n",
        "        line_splitted = line.split(\"\\t\")\n",
        "        target = line_splitted[0]\n",
        "        text = line_splitted[1]\n",
        "        our_train_list.append({\"line_number\":line_number , \"target\":target, \"text\": text})\n",
        "        line_number = line_number + 1\n",
        "  return total_lines_list, our_train_list\n",
        "\n",
        "def add_total_lines_to_the_dictionary(train_lines , total_lines_list):\n",
        "  a = 0\n",
        "  line_number = 0\n",
        "  our_train_list = []\n",
        "  for line in train_lines:\n",
        "    if '###2' in line:\n",
        "      line_number = 0\n",
        "      total_lines = total_lines_list[a]\n",
        "      a = a +1\n",
        "    else:\n",
        "      if line != '\\n':\n",
        "        line_splitted = line.split(\"\\t\")\n",
        "        target = line_splitted[0]\n",
        "        text = line_splitted[1].split(\"\\n\")[0]\n",
        "        our_train_list.append({\"line_number\":line_number, \"total_lines\":total_lines , \"target\":target, \"text\": text})\n",
        "        line_number = line_number + 1\n",
        "  return our_train_list\n"
      ],
      "metadata": {
        "id": "WCNlCJ4TEo5L"
      },
      "execution_count": 4,
      "outputs": []
    },
    {
      "cell_type": "code",
      "source": [
        "def prepare_data_in_dictionary_format(lines , kind):\n",
        "  total_lines_list , our_train_list = prepare_data_without_total_lines(lines)\n",
        "  if(kind == 0):\n",
        "    ## for train 20k\n",
        "    total_lines_list.append(11)\n",
        "  elif (kind == 1):\n",
        "    ## for test  20K\n",
        "    total_lines_list.append(17)\n",
        "  else:\n",
        "    total_lines_list.append(13)\n",
        "  print(len(total_lines_list) , len(our_train_list))\n",
        "  train_dictionary = add_total_lines_to_the_dictionary(lines, total_lines_list)\n",
        "  return train_dictionary"
      ],
      "metadata": {
        "id": "m2ipHwr8EEfx"
      },
      "execution_count": 5,
      "outputs": []
    },
    {
      "cell_type": "code",
      "source": [
        "train_dictionary = prepare_data_in_dictionary_format(train_lines , 0)"
      ],
      "metadata": {
        "colab": {
          "base_uri": "https://localhost:8080/"
        },
        "id": "U37kiiOrGeTF",
        "outputId": "a823b457-c738-4f7b-ef01-7bf53b7c4075"
      },
      "execution_count": 6,
      "outputs": [
        {
          "output_type": "stream",
          "name": "stdout",
          "text": [
            "15000 180040\n"
          ]
        }
      ]
    },
    {
      "cell_type": "code",
      "source": [
        "train_dictionary[-10:]"
      ],
      "metadata": {
        "colab": {
          "base_uri": "https://localhost:8080/"
        },
        "id": "Tb3Gq9SpGNVK",
        "outputId": "05b3f698-a8b4-4649-ddfa-73316256bf19"
      },
      "execution_count": 7,
      "outputs": [
        {
          "output_type": "execute_result",
          "data": {
            "text/plain": [
              "[{'line_number': 2,\n",
              "  'total_lines': 11,\n",
              "  'target': 'METHODS',\n",
              "  'text': 'This trial was a prospective , randomized , controlled , multicenter study .'},\n",
              " {'line_number': 3,\n",
              "  'total_lines': 11,\n",
              "  'target': 'METHODS',\n",
              "  'text': 'Eligible patients who underwent PCI were randomly assigned to atorvastatin alone or atorvastatin plus ezetimibe ( @ mg ) daily .'},\n",
              " {'line_number': 4,\n",
              "  'total_lines': 11,\n",
              "  'target': 'METHODS',\n",
              "  'text': 'Atorvastatin was uptitrated with a treatment goal of low-density lipoprotein cholesterol ( LDL-C ) < @ mg/dl .'},\n",
              " {'line_number': 5,\n",
              "  'total_lines': 11,\n",
              "  'target': 'METHODS',\n",
              "  'text': 'Serial volumetric intravascular ultrasound was performed at baseline and again at @ to @ months to quantify the coronary plaque response in @ patients .'},\n",
              " {'line_number': 6,\n",
              "  'total_lines': 11,\n",
              "  'target': 'RESULTS',\n",
              "  'text': 'The combination of atorvastatin/ezetimibe resulted in lower levels of LDL-C than atorvastatin monotherapy ( @ @ mg/dl vs. @ @ mg/dl ; p < @ ) .'},\n",
              " {'line_number': 7,\n",
              "  'total_lines': 11,\n",
              "  'target': 'RESULTS',\n",
              "  'text': 'For the absolute change in percent atheroma volume ( PAV ) , themean difference between the @ groups ( -@ % ; @ % confidence interval -LSB- CI -RSB- : -@ % to @ % ) did not exceedthe pre-defined noninferiority margin of @ % , but the absolute change in PAV did show superiority for the dual lipid-lowering strategy ( -@ % ; @ % CI : -@ % to -@ % vs. -@ % ; @ % CI : -@ % to @ % with atorvastatin alone ; p = @ ) .'},\n",
              " {'line_number': 8,\n",
              "  'total_lines': 11,\n",
              "  'target': 'RESULTS',\n",
              "  'text': 'For PAV , a significantly greater percentage of patients who received atorvastatin/ezetimibe showed coronary plaque regression ( @ % vs. @ % ; p = @ ) .'},\n",
              " {'line_number': 9,\n",
              "  'total_lines': 11,\n",
              "  'target': 'RESULTS',\n",
              "  'text': 'Both strategies had acceptable side effect profiles , with a low incidence oflaboratory abnormalities and cardiovascular events .'},\n",
              " {'line_number': 10,\n",
              "  'total_lines': 11,\n",
              "  'target': 'CONCLUSIONS',\n",
              "  'text': 'Compared with standard statin monotherapy , the combination of statin plus ezetimibe showed greater coronary plaque regression , which might be attributed to cholesterol absorption inhibition-induced aggressive lipid lowering .'},\n",
              " {'line_number': 11,\n",
              "  'total_lines': 11,\n",
              "  'target': 'CONCLUSIONS',\n",
              "  'text': '( Plaque Regression With Cholesterol Absorption Inhibitor or Synthesis Inhibitor Evaluated by Intravascular Ultrasound -LSB- PRECISE-IVUS -RSB- ; NCT@ ) .'}]"
            ]
          },
          "metadata": {},
          "execution_count": 7
        }
      ]
    },
    {
      "cell_type": "code",
      "source": [
        "file_path = file_dir + \"/test.txt\"\n",
        "with open(file_path, 'r') as f:\n",
        "  test_lines = f.readlines()"
      ],
      "metadata": {
        "id": "hKc3yEyxCzVm"
      },
      "execution_count": 8,
      "outputs": []
    },
    {
      "cell_type": "code",
      "source": [
        "test_dictionary = prepare_data_in_dictionary_format(test_lines, 1)"
      ],
      "metadata": {
        "colab": {
          "base_uri": "https://localhost:8080/"
        },
        "id": "AbwGEgceL8q2",
        "outputId": "19b5237a-8b61-4f75-dc15-258fa91e7b54"
      },
      "execution_count": 9,
      "outputs": [
        {
          "output_type": "stream",
          "name": "stdout",
          "text": [
            "2500 30135\n"
          ]
        }
      ]
    },
    {
      "cell_type": "code",
      "source": [
        "test_dictionary[:10]"
      ],
      "metadata": {
        "colab": {
          "base_uri": "https://localhost:8080/"
        },
        "id": "DiDPBk9bL_Wf",
        "outputId": "b0e63844-0fee-49ca-bb1d-013e56047f19"
      },
      "execution_count": 10,
      "outputs": [
        {
          "output_type": "execute_result",
          "data": {
            "text/plain": [
              "[{'line_number': 0,\n",
              "  'total_lines': 8,\n",
              "  'target': 'BACKGROUND',\n",
              "  'text': 'This study analyzed liver function abnormalities in heart failure patients admitted with severe acute decompensated heart failure ( ADHF ) .'},\n",
              " {'line_number': 1,\n",
              "  'total_lines': 8,\n",
              "  'target': 'RESULTS',\n",
              "  'text': 'A post hoc analysis was conducted with the use of data from the Evaluation Study of Congestive Heart Failure and Pulmonary Artery Catheterization Effectiveness ( ESCAPE ) .'},\n",
              " {'line_number': 2,\n",
              "  'total_lines': 8,\n",
              "  'target': 'RESULTS',\n",
              "  'text': 'Liver function tests ( LFTs ) were measured at @ time points from baseline , at discharge , and up to @ months follow-up .'},\n",
              " {'line_number': 3,\n",
              "  'total_lines': 8,\n",
              "  'target': 'RESULTS',\n",
              "  'text': 'Survival analyses were used to assess the association between admission Model of End-Stage Liver Disease Excluding International Normalized Ratio ( MELD-XI ) scores and patient outcome.There was a high prevalence of abnormal baseline ( admission ) LFTs ( albumin @ % , aspartate transaminase @ % , alanine transaminase @ % , and total bilirubin @ % ) .'},\n",
              " {'line_number': 4,\n",
              "  'total_lines': 8,\n",
              "  'target': 'RESULTS',\n",
              "  'text': \"The percentage of patients with abnormal LFTs decreased significantly from baseline to @-months ' follow-up .\"},\n",
              " {'line_number': 5,\n",
              "  'total_lines': 8,\n",
              "  'target': 'RESULTS',\n",
              "  'text': 'When mean hemodynamic profiles were compared in patients with abnormal versus normal LFTs , elevated total bilirubin was associated with a significantly lower cardiac index ( @ vs @ ; P < @ ) and higher central venous pressure ( @ vs @ ; P = @ ) .'},\n",
              " {'line_number': 6,\n",
              "  'total_lines': 8,\n",
              "  'target': 'RESULTS',\n",
              "  'text': 'Multivariable analyses revealed that patients with elevated MELD-XI scores ( @ ) had a @-fold ( hazard ratio@ @ , @ % confidence interval @-@ @ ) increased risk of death , rehospitalization , or transplantation after adjusting for baseline LFTs , age , sex , race , body mass index , diabetes , and systolic blood pressure .'},\n",
              " {'line_number': 7,\n",
              "  'total_lines': 8,\n",
              "  'target': 'CONCLUSIONS',\n",
              "  'text': 'Abnormal LFTs are common in the ADHF population and are a dynamic marker of an impaired hemodynamic state .'},\n",
              " {'line_number': 8,\n",
              "  'total_lines': 8,\n",
              "  'target': 'CONCLUSIONS',\n",
              "  'text': 'Elevated MELD-XI scores are associated with poor outcomes among patients admitted with ADHF .'},\n",
              " {'line_number': 0,\n",
              "  'total_lines': 12,\n",
              "  'target': 'BACKGROUND',\n",
              "  'text': 'Minimally invasive endovascular aneurysm repair ( EVAR ) could be a surgical technique that improves outcome of patients with ruptured abdominal aortic aneurysm ( rAAA ) .'}]"
            ]
          },
          "metadata": {},
          "execution_count": 10
        }
      ]
    },
    {
      "cell_type": "code",
      "source": [
        "file_path = file_dir + \"/dev.txt\"\n",
        "with open(file_path, 'r') as f:\n",
        "  validation_lines = f.readlines()"
      ],
      "metadata": {
        "id": "36DSATftMl-Z"
      },
      "execution_count": 11,
      "outputs": []
    },
    {
      "cell_type": "code",
      "source": [
        "validation_dictionary = prepare_data_in_dictionary_format(validation_lines, 2)"
      ],
      "metadata": {
        "colab": {
          "base_uri": "https://localhost:8080/"
        },
        "id": "UoSyNu3DgO_t",
        "outputId": "a033c110-193a-4833-d293-ddbfb22cbb4e"
      },
      "execution_count": 12,
      "outputs": [
        {
          "output_type": "stream",
          "name": "stdout",
          "text": [
            "2500 30212\n"
          ]
        }
      ]
    },
    {
      "cell_type": "code",
      "source": [
        "validation_dictionary[:11]"
      ],
      "metadata": {
        "colab": {
          "base_uri": "https://localhost:8080/"
        },
        "id": "f8bSY_zZgyP6",
        "outputId": "59034d2f-21d5-4be9-d39e-e8bf28c60545"
      },
      "execution_count": 13,
      "outputs": [
        {
          "output_type": "execute_result",
          "data": {
            "text/plain": [
              "[{'line_number': 0,\n",
              "  'total_lines': 9,\n",
              "  'target': 'BACKGROUND',\n",
              "  'text': 'IgE sensitization to Aspergillus fumigatus and a positive sputum fungal culture result are common in patients with refractory asthma .'},\n",
              " {'line_number': 1,\n",
              "  'total_lines': 9,\n",
              "  'target': 'BACKGROUND',\n",
              "  'text': 'It is not clear whether these patients would benefit from antifungal treatment .'},\n",
              " {'line_number': 2,\n",
              "  'total_lines': 9,\n",
              "  'target': 'OBJECTIVE',\n",
              "  'text': 'We sought to determine whether a @-month course of voriconazole improved asthma-related outcomes in patients with asthma who are IgE sensitized to A fumigatus .'},\n",
              " {'line_number': 3,\n",
              "  'total_lines': 9,\n",
              "  'target': 'METHODS',\n",
              "  'text': 'Asthmatic patients who were IgE sensitized to A fumigatus with a history of at least @ severe exacerbations in the previous @ months were treated for @ months with @ mg of voriconazole twice daily , followed by observation for @ months , in a double-blind , placebo-controlled , randomized design .'},\n",
              " {'line_number': 4,\n",
              "  'total_lines': 9,\n",
              "  'target': 'METHODS',\n",
              "  'text': 'Primary outcomes were improvement in quality of life at the end of the treatment period and a reduction in the number of severe exacerbations over the @ months of the study .'},\n",
              " {'line_number': 5,\n",
              "  'total_lines': 9,\n",
              "  'target': 'RESULTS',\n",
              "  'text': 'Sixty-five patients were randomized .'},\n",
              " {'line_number': 6,\n",
              "  'total_lines': 9,\n",
              "  'target': 'RESULTS',\n",
              "  'text': 'Fifty-nine patients started treatment ( @ receiving voriconazole and @ receiving placebo ) and were included in an intention-to-treat analysis .'},\n",
              " {'line_number': 7,\n",
              "  'total_lines': 9,\n",
              "  'target': 'RESULTS',\n",
              "  'text': 'Fifty-six patients took the full @ months of medication .'},\n",
              " {'line_number': 8,\n",
              "  'total_lines': 9,\n",
              "  'target': 'RESULTS',\n",
              "  'text': 'Between the voriconazole and placebo groups , there were no significant differences in the number of severe exacerbations ( @ vs @ per patient per year , respectively ; mean difference , @ ; @ % CI , @-@ @ ) , quality of life ( change in Asthma Quality of Life Questionnaire score , @ vs @ ; mean difference between groups , @ ; @ % CI , -@ to -@ ) , or any of our secondary outcome measures .'},\n",
              " {'line_number': 9,\n",
              "  'total_lines': 9,\n",
              "  'target': 'CONCLUSIONS',\n",
              "  'text': 'We were unable to show a beneficial effect of @ months of treatment with voriconazole in patients with moderate-to-severe asthma who were IgE sensitized to A fumigatus on either the rate of severe exacerbations , quality of life , or other markers of asthma control .'},\n",
              " {'line_number': 0,\n",
              "  'total_lines': 10,\n",
              "  'target': 'BACKGROUND',\n",
              "  'text': 'Opioid antagonists ( e.g. , naltrexone ) and positive modulators of - aminobutyric-acidA ( GABAA ) receptors ( e.g. , alprazolam ) modestly attenuate the abuse-related effects of stimulants like amphetamine .'}]"
            ]
          },
          "metadata": {},
          "execution_count": 13
        }
      ]
    },
    {
      "cell_type": "code",
      "source": [
        "len(train_dictionary) , len(test_dictionary) , len(validation_dictionary)"
      ],
      "metadata": {
        "colab": {
          "base_uri": "https://localhost:8080/"
        },
        "id": "M_e3bG82g0xQ",
        "outputId": "7502af02-b135-40d3-cddf-57cd6caff734"
      },
      "execution_count": 14,
      "outputs": [
        {
          "output_type": "execute_result",
          "data": {
            "text/plain": [
              "(180040, 30135, 30212)"
            ]
          },
          "metadata": {},
          "execution_count": 14
        }
      ]
    },
    {
      "cell_type": "code",
      "source": [
        "import pandas as pd"
      ],
      "metadata": {
        "id": "i59HfDjAhEfx"
      },
      "execution_count": 15,
      "outputs": []
    },
    {
      "cell_type": "code",
      "source": [
        "train_pd = pd.DataFrame(train_dictionary)\n",
        "validation_pd = pd.DataFrame(validation_dictionary)\n",
        "test_pd = pd.DataFrame(test_dictionary)"
      ],
      "metadata": {
        "id": "pQNEYqXHUH63"
      },
      "execution_count": 16,
      "outputs": []
    },
    {
      "cell_type": "code",
      "source": [
        "train_pd.head(20)"
      ],
      "metadata": {
        "colab": {
          "base_uri": "https://localhost:8080/",
          "height": 677
        },
        "id": "4nX8b4i6UcYm",
        "outputId": "acd85030-4c1e-4347-fe23-77db06fa4289"
      },
      "execution_count": 17,
      "outputs": [
        {
          "output_type": "execute_result",
          "data": {
            "text/plain": [
              "    line_number  total_lines       target  \\\n",
              "0             0           11    OBJECTIVE   \n",
              "1             1           11      METHODS   \n",
              "2             2           11      METHODS   \n",
              "3             3           11      METHODS   \n",
              "4             4           11      METHODS   \n",
              "5             5           11      METHODS   \n",
              "6             6           11      RESULTS   \n",
              "7             7           11      RESULTS   \n",
              "8             8           11      RESULTS   \n",
              "9             9           11      RESULTS   \n",
              "10           10           11      RESULTS   \n",
              "11           11           11  CONCLUSIONS   \n",
              "12            0           10   BACKGROUND   \n",
              "13            1           10   BACKGROUND   \n",
              "14            2           10    OBJECTIVE   \n",
              "15            3           10    OBJECTIVE   \n",
              "16            4           10      METHODS   \n",
              "17            5           10      METHODS   \n",
              "18            6           10      METHODS   \n",
              "19            7           10      RESULTS   \n",
              "\n",
              "                                                 text  \n",
              "0   To investigate the efficacy of @ weeks of dail...  \n",
              "1   A total of @ patients with primary knee OA wer...  \n",
              "2   Outcome measures included pain reduction and i...  \n",
              "3   Pain was assessed using the visual analog pain...  \n",
              "4   Secondary outcome measures included the Wester...  \n",
              "5   Serum levels of interleukin @ ( IL-@ ) , IL-@ ...  \n",
              "6   There was a clinically relevant reduction in t...  \n",
              "7   The mean difference between treatment arms ( @...  \n",
              "8   Further , there was a clinically relevant redu...  \n",
              "9   These differences remained significant at @ we...  \n",
              "10  The Outcome Measures in Rheumatology Clinical ...  \n",
              "11  Low-dose oral prednisolone had both a short-te...  \n",
              "12  Emotional eating is associated with overeating...  \n",
              "13  Yet , empirical evidence for individual ( trai...  \n",
              "14  The aim of this study was to test if attention...  \n",
              "15  It was expected that emotional eating is predi...  \n",
              "16  Participants ( N = @ ) were randomly assigned ...  \n",
              "17  Attentional biases for high caloric foods were...  \n",
              "18  Self-reported emotional eating was assessed wi...  \n",
              "19  Hierarchical multivariate regression modeling ...  "
            ],
            "text/html": [
              "\n",
              "  <div id=\"df-2e5ed223-d200-47d0-8eff-34f6cf9c7ba0\">\n",
              "    <div class=\"colab-df-container\">\n",
              "      <div>\n",
              "<style scoped>\n",
              "    .dataframe tbody tr th:only-of-type {\n",
              "        vertical-align: middle;\n",
              "    }\n",
              "\n",
              "    .dataframe tbody tr th {\n",
              "        vertical-align: top;\n",
              "    }\n",
              "\n",
              "    .dataframe thead th {\n",
              "        text-align: right;\n",
              "    }\n",
              "</style>\n",
              "<table border=\"1\" class=\"dataframe\">\n",
              "  <thead>\n",
              "    <tr style=\"text-align: right;\">\n",
              "      <th></th>\n",
              "      <th>line_number</th>\n",
              "      <th>total_lines</th>\n",
              "      <th>target</th>\n",
              "      <th>text</th>\n",
              "    </tr>\n",
              "  </thead>\n",
              "  <tbody>\n",
              "    <tr>\n",
              "      <th>0</th>\n",
              "      <td>0</td>\n",
              "      <td>11</td>\n",
              "      <td>OBJECTIVE</td>\n",
              "      <td>To investigate the efficacy of @ weeks of dail...</td>\n",
              "    </tr>\n",
              "    <tr>\n",
              "      <th>1</th>\n",
              "      <td>1</td>\n",
              "      <td>11</td>\n",
              "      <td>METHODS</td>\n",
              "      <td>A total of @ patients with primary knee OA wer...</td>\n",
              "    </tr>\n",
              "    <tr>\n",
              "      <th>2</th>\n",
              "      <td>2</td>\n",
              "      <td>11</td>\n",
              "      <td>METHODS</td>\n",
              "      <td>Outcome measures included pain reduction and i...</td>\n",
              "    </tr>\n",
              "    <tr>\n",
              "      <th>3</th>\n",
              "      <td>3</td>\n",
              "      <td>11</td>\n",
              "      <td>METHODS</td>\n",
              "      <td>Pain was assessed using the visual analog pain...</td>\n",
              "    </tr>\n",
              "    <tr>\n",
              "      <th>4</th>\n",
              "      <td>4</td>\n",
              "      <td>11</td>\n",
              "      <td>METHODS</td>\n",
              "      <td>Secondary outcome measures included the Wester...</td>\n",
              "    </tr>\n",
              "    <tr>\n",
              "      <th>5</th>\n",
              "      <td>5</td>\n",
              "      <td>11</td>\n",
              "      <td>METHODS</td>\n",
              "      <td>Serum levels of interleukin @ ( IL-@ ) , IL-@ ...</td>\n",
              "    </tr>\n",
              "    <tr>\n",
              "      <th>6</th>\n",
              "      <td>6</td>\n",
              "      <td>11</td>\n",
              "      <td>RESULTS</td>\n",
              "      <td>There was a clinically relevant reduction in t...</td>\n",
              "    </tr>\n",
              "    <tr>\n",
              "      <th>7</th>\n",
              "      <td>7</td>\n",
              "      <td>11</td>\n",
              "      <td>RESULTS</td>\n",
              "      <td>The mean difference between treatment arms ( @...</td>\n",
              "    </tr>\n",
              "    <tr>\n",
              "      <th>8</th>\n",
              "      <td>8</td>\n",
              "      <td>11</td>\n",
              "      <td>RESULTS</td>\n",
              "      <td>Further , there was a clinically relevant redu...</td>\n",
              "    </tr>\n",
              "    <tr>\n",
              "      <th>9</th>\n",
              "      <td>9</td>\n",
              "      <td>11</td>\n",
              "      <td>RESULTS</td>\n",
              "      <td>These differences remained significant at @ we...</td>\n",
              "    </tr>\n",
              "    <tr>\n",
              "      <th>10</th>\n",
              "      <td>10</td>\n",
              "      <td>11</td>\n",
              "      <td>RESULTS</td>\n",
              "      <td>The Outcome Measures in Rheumatology Clinical ...</td>\n",
              "    </tr>\n",
              "    <tr>\n",
              "      <th>11</th>\n",
              "      <td>11</td>\n",
              "      <td>11</td>\n",
              "      <td>CONCLUSIONS</td>\n",
              "      <td>Low-dose oral prednisolone had both a short-te...</td>\n",
              "    </tr>\n",
              "    <tr>\n",
              "      <th>12</th>\n",
              "      <td>0</td>\n",
              "      <td>10</td>\n",
              "      <td>BACKGROUND</td>\n",
              "      <td>Emotional eating is associated with overeating...</td>\n",
              "    </tr>\n",
              "    <tr>\n",
              "      <th>13</th>\n",
              "      <td>1</td>\n",
              "      <td>10</td>\n",
              "      <td>BACKGROUND</td>\n",
              "      <td>Yet , empirical evidence for individual ( trai...</td>\n",
              "    </tr>\n",
              "    <tr>\n",
              "      <th>14</th>\n",
              "      <td>2</td>\n",
              "      <td>10</td>\n",
              "      <td>OBJECTIVE</td>\n",
              "      <td>The aim of this study was to test if attention...</td>\n",
              "    </tr>\n",
              "    <tr>\n",
              "      <th>15</th>\n",
              "      <td>3</td>\n",
              "      <td>10</td>\n",
              "      <td>OBJECTIVE</td>\n",
              "      <td>It was expected that emotional eating is predi...</td>\n",
              "    </tr>\n",
              "    <tr>\n",
              "      <th>16</th>\n",
              "      <td>4</td>\n",
              "      <td>10</td>\n",
              "      <td>METHODS</td>\n",
              "      <td>Participants ( N = @ ) were randomly assigned ...</td>\n",
              "    </tr>\n",
              "    <tr>\n",
              "      <th>17</th>\n",
              "      <td>5</td>\n",
              "      <td>10</td>\n",
              "      <td>METHODS</td>\n",
              "      <td>Attentional biases for high caloric foods were...</td>\n",
              "    </tr>\n",
              "    <tr>\n",
              "      <th>18</th>\n",
              "      <td>6</td>\n",
              "      <td>10</td>\n",
              "      <td>METHODS</td>\n",
              "      <td>Self-reported emotional eating was assessed wi...</td>\n",
              "    </tr>\n",
              "    <tr>\n",
              "      <th>19</th>\n",
              "      <td>7</td>\n",
              "      <td>10</td>\n",
              "      <td>RESULTS</td>\n",
              "      <td>Hierarchical multivariate regression modeling ...</td>\n",
              "    </tr>\n",
              "  </tbody>\n",
              "</table>\n",
              "</div>\n",
              "      <button class=\"colab-df-convert\" onclick=\"convertToInteractive('df-2e5ed223-d200-47d0-8eff-34f6cf9c7ba0')\"\n",
              "              title=\"Convert this dataframe to an interactive table.\"\n",
              "              style=\"display:none;\">\n",
              "        \n",
              "  <svg xmlns=\"http://www.w3.org/2000/svg\" height=\"24px\"viewBox=\"0 0 24 24\"\n",
              "       width=\"24px\">\n",
              "    <path d=\"M0 0h24v24H0V0z\" fill=\"none\"/>\n",
              "    <path d=\"M18.56 5.44l.94 2.06.94-2.06 2.06-.94-2.06-.94-.94-2.06-.94 2.06-2.06.94zm-11 1L8.5 8.5l.94-2.06 2.06-.94-2.06-.94L8.5 2.5l-.94 2.06-2.06.94zm10 10l.94 2.06.94-2.06 2.06-.94-2.06-.94-.94-2.06-.94 2.06-2.06.94z\"/><path d=\"M17.41 7.96l-1.37-1.37c-.4-.4-.92-.59-1.43-.59-.52 0-1.04.2-1.43.59L10.3 9.45l-7.72 7.72c-.78.78-.78 2.05 0 2.83L4 21.41c.39.39.9.59 1.41.59.51 0 1.02-.2 1.41-.59l7.78-7.78 2.81-2.81c.8-.78.8-2.07 0-2.86zM5.41 20L4 18.59l7.72-7.72 1.47 1.35L5.41 20z\"/>\n",
              "  </svg>\n",
              "      </button>\n",
              "      \n",
              "  <style>\n",
              "    .colab-df-container {\n",
              "      display:flex;\n",
              "      flex-wrap:wrap;\n",
              "      gap: 12px;\n",
              "    }\n",
              "\n",
              "    .colab-df-convert {\n",
              "      background-color: #E8F0FE;\n",
              "      border: none;\n",
              "      border-radius: 50%;\n",
              "      cursor: pointer;\n",
              "      display: none;\n",
              "      fill: #1967D2;\n",
              "      height: 32px;\n",
              "      padding: 0 0 0 0;\n",
              "      width: 32px;\n",
              "    }\n",
              "\n",
              "    .colab-df-convert:hover {\n",
              "      background-color: #E2EBFA;\n",
              "      box-shadow: 0px 1px 2px rgba(60, 64, 67, 0.3), 0px 1px 3px 1px rgba(60, 64, 67, 0.15);\n",
              "      fill: #174EA6;\n",
              "    }\n",
              "\n",
              "    [theme=dark] .colab-df-convert {\n",
              "      background-color: #3B4455;\n",
              "      fill: #D2E3FC;\n",
              "    }\n",
              "\n",
              "    [theme=dark] .colab-df-convert:hover {\n",
              "      background-color: #434B5C;\n",
              "      box-shadow: 0px 1px 3px 1px rgba(0, 0, 0, 0.15);\n",
              "      filter: drop-shadow(0px 1px 2px rgba(0, 0, 0, 0.3));\n",
              "      fill: #FFFFFF;\n",
              "    }\n",
              "  </style>\n",
              "\n",
              "      <script>\n",
              "        const buttonEl =\n",
              "          document.querySelector('#df-2e5ed223-d200-47d0-8eff-34f6cf9c7ba0 button.colab-df-convert');\n",
              "        buttonEl.style.display =\n",
              "          google.colab.kernel.accessAllowed ? 'block' : 'none';\n",
              "\n",
              "        async function convertToInteractive(key) {\n",
              "          const element = document.querySelector('#df-2e5ed223-d200-47d0-8eff-34f6cf9c7ba0');\n",
              "          const dataTable =\n",
              "            await google.colab.kernel.invokeFunction('convertToInteractive',\n",
              "                                                     [key], {});\n",
              "          if (!dataTable) return;\n",
              "\n",
              "          const docLinkHtml = 'Like what you see? Visit the ' +\n",
              "            '<a target=\"_blank\" href=https://colab.research.google.com/notebooks/data_table.ipynb>data table notebook</a>'\n",
              "            + ' to learn more about interactive tables.';\n",
              "          element.innerHTML = '';\n",
              "          dataTable['output_type'] = 'display_data';\n",
              "          await google.colab.output.renderOutput(dataTable, element);\n",
              "          const docLink = document.createElement('div');\n",
              "          docLink.innerHTML = docLinkHtml;\n",
              "          element.appendChild(docLink);\n",
              "        }\n",
              "      </script>\n",
              "    </div>\n",
              "  </div>\n",
              "  "
            ]
          },
          "metadata": {},
          "execution_count": 17
        }
      ]
    },
    {
      "cell_type": "code",
      "source": [
        "train_pd[\"total_lines\"].hist()"
      ],
      "metadata": {
        "colab": {
          "base_uri": "https://localhost:8080/",
          "height": 284
        },
        "id": "JS2-voZcUenV",
        "outputId": "eb22e55a-6858-4bdc-f309-bde675c22180"
      },
      "execution_count": 18,
      "outputs": [
        {
          "output_type": "execute_result",
          "data": {
            "text/plain": [
              "<matplotlib.axes._subplots.AxesSubplot at 0x7fce4148c220>"
            ]
          },
          "metadata": {},
          "execution_count": 18
        },
        {
          "output_type": "display_data",
          "data": {
            "text/plain": [
              "<Figure size 432x288 with 1 Axes>"
            ],
            "image/png": "[encoded data removed]"
          },
          "metadata": {
            "needs_background": "light"
          }
        }
      ]
    },
    {
      "cell_type": "code",
      "source": [
        "train_txt = train_pd[\"text\"].tolist()\n",
        "validation_txt = validation_pd[\"text\"].tolist()\n",
        "test_txt = test_pd[\"text\"].tolist()"
      ],
      "metadata": {
        "id": "hYB-7e51UxU8"
      },
      "execution_count": 19,
      "outputs": []
    },
    {
      "cell_type": "code",
      "source": [
        "train_label = train_pd[\"target\"].tolist()\n",
        "validation_label = validation_pd[\"target\"].tolist()\n",
        "test_label = test_pd[\"target\"].tolist()"
      ],
      "metadata": {
        "id": "1j60VbIKXNHC"
      },
      "execution_count": 20,
      "outputs": []
    },
    {
      "cell_type": "code",
      "source": [
        "train_label[:10]"
      ],
      "metadata": {
        "colab": {
          "base_uri": "https://localhost:8080/"
        },
        "id": "3U6MZ9uLY-17",
        "outputId": "d6ed3297-12bc-4d90-de08-6080360ddb08"
      },
      "execution_count": 21,
      "outputs": [
        {
          "output_type": "execute_result",
          "data": {
            "text/plain": [
              "['OBJECTIVE',\n",
              " 'METHODS',\n",
              " 'METHODS',\n",
              " 'METHODS',\n",
              " 'METHODS',\n",
              " 'METHODS',\n",
              " 'RESULTS',\n",
              " 'RESULTS',\n",
              " 'RESULTS',\n",
              " 'RESULTS']"
            ]
          },
          "metadata": {},
          "execution_count": 21
        }
      ]
    },
    {
      "cell_type": "code",
      "source": [
        "from sklearn.preprocessing import OneHotEncoder, LabelEncoder\n",
        "import tensorflow as tf"
      ],
      "metadata": {
        "id": "dPQ3MkuAZSrx"
      },
      "execution_count": 22,
      "outputs": []
    },
    {
      "cell_type": "code",
      "source": [
        "one_hot_encoder = OneHotEncoder(sparse=False)\n",
        "train_labels_onehot = one_hot_encoder.fit_transform(train_pd[\"target\"].to_numpy().reshape(-1 , 1))\n",
        "validation_labels_onehot = one_hot_encoder.fit_transform(validation_pd[\"target\"].to_numpy().reshape(-1 , 1))\n",
        "test_labels_onehot = one_hot_encoder.fit_transform(test_pd[\"target\"].to_numpy().reshape(-1 , 1))"
      ],
      "metadata": {
        "id": "iPd9PKb8ZfN4"
      },
      "execution_count": 23,
      "outputs": []
    },
    {
      "cell_type": "code",
      "source": [
        "label_encoder = LabelEncoder()\n",
        "train_label_enc = label_encoder.fit_transform(train_pd[\"target\"])\n",
        "validation_label_enc = label_encoder.fit_transform(validation_pd[\"target\"])\n",
        "test_label_enc = label_encoder.fit_transform(test_pd[\"target\"])"
      ],
      "metadata": {
        "id": "H5apN5Dlayai"
      },
      "execution_count": 24,
      "outputs": []
    },
    {
      "cell_type": "code",
      "source": [
        "#train_txt , validation_txt , test_txt\n",
        "#train_labels_onehot , validation_labels_onehot , test_labels_onehot\n",
        "#train_label_enc , validation_label_enc , test_label_enc"
      ],
      "metadata": {
        "id": "m09OxcSIcrIL"
      },
      "execution_count": 25,
      "outputs": []
    },
    {
      "cell_type": "code",
      "source": [
        "from sklearn.feature_extraction.text import TfidfVectorizer\n",
        "from sklearn.naive_bayes import MultinomialNB\n",
        "from sklearn.pipeline import Pipeline"
      ],
      "metadata": {
        "id": "VglWDHx9n4hb"
      },
      "execution_count": 26,
      "outputs": []
    },
    {
      "cell_type": "code",
      "source": [
        "from re import X\n",
        "model0 = Pipeline([\n",
        "                   (\"tf-idf\" , TfidfVectorizer()),\n",
        "                   (\"clf\" , MultinomialNB())\n",
        "])\n",
        "\n",
        "model0.fit(X = train_txt , y = train_label_enc)"
      ],
      "metadata": {
        "colab": {
          "base_uri": "https://localhost:8080/"
        },
        "id": "Wfh2KPbT52Uh",
        "outputId": "a4d839f3-6c7a-466b-b4a1-9909c1157f1b"
      },
      "execution_count": 27,
      "outputs": [
        {
          "output_type": "execute_result",
          "data": {
            "text/plain": [
              "Pipeline(steps=[('tf-idf', TfidfVectorizer()), ('clf', MultinomialNB())])"
            ]
          },
          "metadata": {},
          "execution_count": 27
        }
      ]
    },
    {
      "cell_type": "code",
      "source": [
        "model0.score(validation_txt , validation_label_enc)"
      ],
      "metadata": {
        "id": "pfGxqYGY6OzQ",
        "colab": {
          "base_uri": "https://localhost:8080/"
        },
        "outputId": "7bddc46f-af7b-4490-9aa6-2d94ecca02e2"
      },
      "execution_count": 28,
      "outputs": [
        {
          "output_type": "execute_result",
          "data": {
            "text/plain": [
              "0.7218323844829869"
            ]
          },
          "metadata": {},
          "execution_count": 28
        }
      ]
    },
    {
      "cell_type": "code",
      "source": [
        "!wget \"https://raw.githubusercontent.com/mrdbourke/tensorflow-deep-learning/main/extras/helper_functions.py\""
      ],
      "metadata": {
        "id": "i6AC80k76YVW",
        "colab": {
          "base_uri": "https://localhost:8080/"
        },
        "outputId": "fa4edb02-22b4-4921-9e36-0fd9d58c1ebe"
      },
      "execution_count": 29,
      "outputs": [
        {
          "output_type": "stream",
          "name": "stdout",
          "text": [
            "--2022-12-25 12:02:01--  https://raw.githubusercontent.com/mrdbourke/tensorflow-deep-learning/main/extras/helper_functions.py\n",
            "Resolving raw.githubusercontent.com (raw.githubusercontent.com)... 185.199.108.133, 185.199.109.133, 185.199.110.133, ...\n",
            "Connecting to raw.githubusercontent.com (raw.githubusercontent.com)|185.199.108.133|:443... connected.\n",
            "HTTP request sent, awaiting response... 200 OK\n",
            "Length: 10246 (10K) [text/plain]\n",
            "Saving to: ‘helper_functions.py’\n",
            "\n",
            "\rhelper_functions.py   0%[                    ]       0  --.-KB/s               \rhelper_functions.py 100%[===================>]  10.01K  --.-KB/s    in 0s      \n",
            "\n",
            "2022-12-25 12:02:01 (77.7 MB/s) - ‘helper_functions.py’ saved [10246/10246]\n",
            "\n"
          ]
        }
      ]
    },
    {
      "cell_type": "code",
      "source": [
        "from helper_functions import calculate_results"
      ],
      "metadata": {
        "id": "RFAdeE596rL9"
      },
      "execution_count": 30,
      "outputs": []
    },
    {
      "cell_type": "code",
      "source": [
        "model0_predicts = model0.predict(validation_txt)\n",
        "model0_predicts"
      ],
      "metadata": {
        "id": "zCTx6BPK6zrG",
        "colab": {
          "base_uri": "https://localhost:8080/"
        },
        "outputId": "59bc8b83-57ce-402e-bf54-3cf94caf0f57"
      },
      "execution_count": 31,
      "outputs": [
        {
          "output_type": "execute_result",
          "data": {
            "text/plain": [
              "array([4, 1, 3, ..., 4, 4, 1])"
            ]
          },
          "metadata": {},
          "execution_count": 31
        }
      ]
    },
    {
      "cell_type": "code",
      "source": [
        "validation_label_enc"
      ],
      "metadata": {
        "id": "EqIATrmw6-CM",
        "colab": {
          "base_uri": "https://localhost:8080/"
        },
        "outputId": "6a65eda8-7599-4467-a481-9c94c8b5746e"
      },
      "execution_count": 32,
      "outputs": [
        {
          "output_type": "execute_result",
          "data": {
            "text/plain": [
              "array([0, 0, 3, ..., 4, 1, 1])"
            ]
          },
          "metadata": {},
          "execution_count": 32
        }
      ]
    },
    {
      "cell_type": "code",
      "source": [
        "model0_results = calculate_results(validation_label_enc , model0_predicts)\n",
        "model0_results"
      ],
      "metadata": {
        "id": "ayvqfVvB7AVT",
        "colab": {
          "base_uri": "https://localhost:8080/"
        },
        "outputId": "9cfdd7f0-3522-4155-95f6-16bc8ec9a248"
      },
      "execution_count": 33,
      "outputs": [
        {
          "output_type": "execute_result",
          "data": {
            "text/plain": [
              "{'accuracy': 72.1832384482987,\n",
              " 'precision': 0.7186466952323352,\n",
              " 'recall': 0.7218323844829869,\n",
              " 'f1': 0.6989250353450294}"
            ]
          },
          "metadata": {},
          "execution_count": 33
        }
      ]
    },
    {
      "cell_type": "code",
      "source": [
        "from tensorflow.keras.layers import TextVectorization\n",
        "from tensorflow.keras.layers import Embedding"
      ],
      "metadata": {
        "id": "KuqnnMzS7OzM"
      },
      "execution_count": 34,
      "outputs": []
    },
    {
      "cell_type": "code",
      "source": [
        "vocabs = 0\n",
        "for text in train_txt:\n",
        "  vocabs = len(text.split()) + vocabs"
      ],
      "metadata": {
        "id": "roG7rEcx2OSX"
      },
      "execution_count": 35,
      "outputs": []
    },
    {
      "cell_type": "code",
      "source": [
        "max_tokens = 68000\n",
        "output_seq_lengh = 55"
      ],
      "metadata": {
        "id": "ID4GPb8A3bjW"
      },
      "execution_count": 36,
      "outputs": []
    },
    {
      "cell_type": "code",
      "source": [
        "text_vectorizer = TextVectorization(max_tokens = max_tokens , output_sequence_length = output_seq_lengh)"
      ],
      "metadata": {
        "id": "UJmORjTr5CRi"
      },
      "execution_count": 37,
      "outputs": []
    },
    {
      "cell_type": "code",
      "source": [
        "text_vectorizer.adapt(train_txt)"
      ],
      "metadata": {
        "id": "EPOmfksg5QxQ"
      },
      "execution_count": 38,
      "outputs": []
    },
    {
      "cell_type": "code",
      "source": [
        "print(train_txt[5])\n",
        "text_vectorizer(train_txt[5])"
      ],
      "metadata": {
        "id": "V0xrVBV-5avJ",
        "colab": {
          "base_uri": "https://localhost:8080/"
        },
        "outputId": "cd87dbcb-15a7-4b70-e089-02bc77419f64"
      },
      "execution_count": 39,
      "outputs": [
        {
          "output_type": "stream",
          "name": "stdout",
          "text": [
            "Serum levels of interleukin @ ( IL-@ ) , IL-@ , tumor necrosis factor ( TNF ) - , and high-sensitivity C-reactive protein ( hsCRP ) were measured .\n"
          ]
        },
        {
          "output_type": "execute_result",
          "data": {
            "text/plain": [
              "<tf.Tensor: shape=(55,), dtype=int64, numpy=\n",
              "array([ 225,   93,    4, 1394,  460,  460,  724, 2046,  432, 1558,    3,\n",
              "       3243, 1371,  396, 1930,    9,  156,    0,    0,    0,    0,    0,\n",
              "          0,    0,    0,    0,    0,    0,    0,    0,    0,    0,    0,\n",
              "          0,    0,    0,    0,    0,    0,    0,    0,    0,    0,    0,\n",
              "          0,    0,    0,    0,    0,    0,    0,    0,    0,    0,    0])>"
            ]
          },
          "metadata": {},
          "execution_count": 39
        }
      ]
    },
    {
      "cell_type": "code",
      "source": [
        "vocabs = text_vectorizer.get_vocabulary()\n",
        "ten_least_common_vocabs = text_vectorizer.get_vocabulary()[-10:]\n",
        "ten_most_common_vocabs = text_vectorizer.get_vocabulary()[:10]"
      ],
      "metadata": {
        "id": "_2VXYJUQ5uvl"
      },
      "execution_count": 40,
      "outputs": []
    },
    {
      "cell_type": "code",
      "source": [
        "len(vocabs)"
      ],
      "metadata": {
        "id": "0YDzFlmFDjcm",
        "colab": {
          "base_uri": "https://localhost:8080/"
        },
        "outputId": "6bf9605b-59a4-4eea-a943-252c7f6e627b"
      },
      "execution_count": 41,
      "outputs": [
        {
          "output_type": "execute_result",
          "data": {
            "text/plain": [
              "64841"
            ]
          },
          "metadata": {},
          "execution_count": 41
        }
      ]
    },
    {
      "cell_type": "code",
      "source": [
        "text_embedder = Embedding(input_dim = len(vocabs) , output_dim = 128 , mask_zero=True)"
      ],
      "metadata": {
        "id": "ihif55eR77g0"
      },
      "execution_count": 42,
      "outputs": []
    },
    {
      "cell_type": "code",
      "source": [
        "print(train_txt[10])\n",
        "embedded_txt = text_embedder(text_vectorizer([train_txt[10]]))\n",
        "print(embedded_txt)\n",
        "print(embedded_txt.shape)"
      ],
      "metadata": {
        "id": "VemBP-rDD_6r",
        "colab": {
          "base_uri": "https://localhost:8080/"
        },
        "outputId": "7edfb328-9731-4be4-f8e9-373ab9cc26da"
      },
      "execution_count": 43,
      "outputs": [
        {
          "output_type": "stream",
          "name": "stdout",
          "text": [
            "The Outcome Measures in Rheumatology Clinical Trials-Osteoarthritis Research Society International responder rate was @ % in the intervention group and @ % in the placebo group ( p < @ ) .\n",
            "tf.Tensor(\n",
            "[[[-0.0438883  -0.04267414 -0.02861594 ...  0.02246753  0.01617802\n",
            "    0.04347991]\n",
            "  [-0.03095381 -0.01001614 -0.01503279 ... -0.02149606  0.04839567\n",
            "    0.01922773]\n",
            "  [ 0.02423928  0.01992028  0.01942239 ...  0.03960233 -0.01356162\n",
            "    0.01001725]\n",
            "  ...\n",
            "  [ 0.02121842  0.02498431  0.01456188 ...  0.02163831 -0.04261623\n",
            "   -0.00699087]\n",
            "  [ 0.02121842  0.02498431  0.01456188 ...  0.02163831 -0.04261623\n",
            "   -0.00699087]\n",
            "  [ 0.02121842  0.02498431  0.01456188 ...  0.02163831 -0.04261623\n",
            "   -0.00699087]]], shape=(1, 55, 128), dtype=float32)\n",
            "(1, 55, 128)\n"
          ]
        }
      ]
    },
    {
      "cell_type": "code",
      "source": [
        "train_dataset = tf.data.Dataset.from_tensor_slices((train_txt , train_labels_onehot))\n",
        "validation_dataset = tf.data.Dataset.from_tensor_slices((validation_txt , validation_labels_onehot))\n",
        "test_dataset = tf.data.Dataset.from_tensor_slices((test_txt , test_labels_onehot))"
      ],
      "metadata": {
        "id": "JHel7mXlPEFK"
      },
      "execution_count": 44,
      "outputs": []
    },
    {
      "cell_type": "code",
      "source": [
        "train_dataset = train_dataset.batch(32).prefetch(tf.data.AUTOTUNE)\n",
        "validation_dataset = validation_dataset.batch(32).prefetch(tf.data.AUTOTUNE)\n",
        "test_dataset = test_dataset.batch(32).prefetch(tf.data.AUTOTUNE)"
      ],
      "metadata": {
        "id": "2YYHnQ_3ho1k"
      },
      "execution_count": 45,
      "outputs": []
    },
    {
      "cell_type": "code",
      "source": [
        "input1 = tf.keras.layers.Input(shape = (1,) ,  dtype = tf.string , name = \"input_layer_model1\")\n",
        "text_vectorized = text_vectorizer(input1)\n",
        "text_tokens = text_embedder(text_vectorized)\n",
        "x = tf.keras.layers.Conv1D(64 , 5 ,padding = \"same\", activation = \"relu\" , name = \"conv1_model1\")(text_tokens)\n",
        "x = tf.keras.layers.GlobalAveragePooling1D(name = \"global_model1\")(x)\n",
        "output1 = tf.keras.layers.Dense(5 , activation = \"softmax\" , name = \"output_layer_model1\")(x)\n",
        "\n",
        "\n",
        "model1 = tf.keras.Model(input1 , output1)"
      ],
      "metadata": {
        "id": "E1VpG0tejoXk"
      },
      "execution_count": 46,
      "outputs": []
    },
    {
      "cell_type": "code",
      "source": [
        "model1.summary()"
      ],
      "metadata": {
        "id": "ijnw_DBLkzII",
        "colab": {
          "base_uri": "https://localhost:8080/"
        },
        "outputId": "6f1e6087-e67d-4ce4-cbbc-99908e361b9d"
      },
      "execution_count": 47,
      "outputs": [
        {
          "output_type": "stream",
          "name": "stdout",
          "text": [
            "Model: \"model\"\n",
            "_________________________________________________________________\n",
            " Layer (type)                Output Shape              Param #   \n",
            "=================================================================\n",
            " input_layer_model1 (InputLa  [(None, 1)]              0         \n",
            " yer)                                                            \n",
            "                                                                 \n",
            " text_vectorization (TextVec  (None, 55)               0         \n",
            " torization)                                                     \n",
            "                                                                 \n",
            " embedding (Embedding)       (None, 55, 128)           8299648   \n",
            "                                                                 \n",
            " conv1_model1 (Conv1D)       (None, 55, 64)            41024     \n",
            "                                                                 \n",
            " global_model1 (GlobalAverag  (None, 64)               0         \n",
            " ePooling1D)                                                     \n",
            "                                                                 \n",
            " output_layer_model1 (Dense)  (None, 5)                325       \n",
            "                                                                 \n",
            "=================================================================\n",
            "Total params: 8,340,997\n",
            "Trainable params: 8,340,997\n",
            "Non-trainable params: 0\n",
            "_________________________________________________________________\n"
          ]
        }
      ]
    },
    {
      "cell_type": "code",
      "source": [
        "model1.compile(loss = \"categorical_crossentropy\" , optimizer = tf.keras.optimizers.Adam() , metrics = [\"accuracy\"])"
      ],
      "metadata": {
        "id": "Eicn1MS1k4Sf"
      },
      "execution_count": 48,
      "outputs": []
    },
    {
      "cell_type": "code",
      "source": [
        "from helper_functions import create_tensorboard_callback"
      ],
      "metadata": {
        "id": "lyg-8-HJlzAN"
      },
      "execution_count": 49,
      "outputs": []
    },
    {
      "cell_type": "code",
      "source": [
        "history1 = model1.fit(train_dataset , epochs = 3 , steps_per_epoch=len(train_dataset) , validation_data = validation_dataset, validation_steps=len(validation_dataset), callbacks = [create_tensorboard_callback(\"/content/models\" , \"model1\")])"
      ],
      "metadata": {
        "id": "FCGIzfPLlG7B",
        "colab": {
          "base_uri": "https://localhost:8080/"
        },
        "outputId": "afa26960-1207-4729-d7da-73fa8828844e"
      },
      "execution_count": 50,
      "outputs": [
        {
          "output_type": "stream",
          "name": "stdout",
          "text": [
            "Saving TensorBoard log files to: /content/models/model1/20221225-120220\n",
            "Epoch 1/3\n",
            "5627/5627 [==============================] - 56s 9ms/step - loss: 0.6147 - accuracy: 0.7759 - val_loss: 0.5331 - val_accuracy: 0.8105\n",
            "Epoch 2/3\n",
            "5627/5627 [==============================] - 47s 8ms/step - loss: 0.4510 - accuracy: 0.8420 - val_loss: 0.5308 - val_accuracy: 0.8124\n",
            "Epoch 3/3\n",
            "5627/5627 [==============================] - 47s 8ms/step - loss: 0.3702 - accuracy: 0.8731 - val_loss: 0.5639 - val_accuracy: 0.8081\n"
          ]
        }
      ]
    },
    {
      "cell_type": "code",
      "source": [
        "import matplotlib.pyplot as plt\n",
        "import pandas as pd"
      ],
      "metadata": {
        "id": "AFTceIcfmUhY"
      },
      "execution_count": 51,
      "outputs": []
    },
    {
      "cell_type": "code",
      "source": [
        "pd.DataFrame(history1.history).plot()"
      ],
      "metadata": {
        "id": "B9hulJbsnsub",
        "colab": {
          "base_uri": "https://localhost:8080/",
          "height": 282
        },
        "outputId": "c0ffafd9-0930-4caa-8f86-20b94947ed4b"
      },
      "execution_count": 52,
      "outputs": [
        {
          "output_type": "execute_result",
          "data": {
            "text/plain": [
              "<matplotlib.axes._subplots.AxesSubplot at 0x7fcd7c2c9c70>"
            ]
          },
          "metadata": {},
          "execution_count": 52
        },
        {
          "output_type": "display_data",
          "data": {
            "text/plain": [
              "<Figure size 432x288 with 1 Axes>"
            ],
            "image/png": "[encoded data removed]"
          },
          "metadata": {
            "needs_background": "light"
          }
        }
      ]
    },
    {
      "cell_type": "code",
      "source": [
        "model1_evaluation = model1.evaluate(validation_dataset)"
      ],
      "metadata": {
        "id": "dmIRUkqxnvHz",
        "colab": {
          "base_uri": "https://localhost:8080/"
        },
        "outputId": "40bbcd27-31fd-45c5-ed7f-95568e95eb7c"
      },
      "execution_count": 53,
      "outputs": [
        {
          "output_type": "stream",
          "name": "stdout",
          "text": [
            "945/945 [==============================] - 3s 3ms/step - loss: 0.5639 - accuracy: 0.8081\n"
          ]
        }
      ]
    },
    {
      "cell_type": "code",
      "source": [
        "model1_predicts = model1.predict(validation_txt)\n",
        "model1_predicts = tf.argmax(model1_predicts , axis = 1)"
      ],
      "metadata": {
        "id": "v_X7CBPQtJUV",
        "colab": {
          "base_uri": "https://localhost:8080/"
        },
        "outputId": "78642162-3100-49cb-965c-96d391cd9054"
      },
      "execution_count": 54,
      "outputs": [
        {
          "output_type": "stream",
          "name": "stdout",
          "text": [
            "945/945 [==============================] - 3s 3ms/step\n"
          ]
        }
      ]
    },
    {
      "cell_type": "code",
      "source": [
        "model1_predicts.numpy() , validation_label_enc"
      ],
      "metadata": {
        "id": "hKBsMRXLtrM5",
        "colab": {
          "base_uri": "https://localhost:8080/"
        },
        "outputId": "d3aed3c9-b131-4e97-cb7f-4475c16a8cad"
      },
      "execution_count": 55,
      "outputs": [
        {
          "output_type": "execute_result",
          "data": {
            "text/plain": [
              "(array([0, 0, 3, ..., 4, 1, 1]), array([0, 0, 3, ..., 4, 1, 1]))"
            ]
          },
          "metadata": {},
          "execution_count": 55
        }
      ]
    },
    {
      "cell_type": "code",
      "source": [
        "model1_results = calculate_results(validation_label_enc , model1_predicts.numpy())\n",
        "model1_results"
      ],
      "metadata": {
        "id": "7R4wUMdQuSPX",
        "colab": {
          "base_uri": "https://localhost:8080/"
        },
        "outputId": "2661dc8f-1b05-45f6-ac34-623e667629b6"
      },
      "execution_count": 56,
      "outputs": [
        {
          "output_type": "execute_result",
          "data": {
            "text/plain": [
              "{'accuracy': 80.80895008605852,\n",
              " 'precision': 0.8049418239957236,\n",
              " 'recall': 0.8080895008605852,\n",
              " 'f1': 0.8053943114979047}"
            ]
          },
          "metadata": {},
          "execution_count": 56
        }
      ]
    },
    {
      "cell_type": "code",
      "source": [
        "import tensorflow_hub as hub"
      ],
      "metadata": {
        "id": "dYuzh7Qzumcl"
      },
      "execution_count": 57,
      "outputs": []
    },
    {
      "cell_type": "code",
      "source": [
        "USE_embed = hub.KerasLayer(\"https://tfhub.dev/google/universal-sentence-encoder/4\" , trainable = False , name = \"universal_sentence_encoder\")"
      ],
      "metadata": {
        "id": "slOEiLRUp1zs"
      },
      "execution_count": 58,
      "outputs": []
    },
    {
      "cell_type": "code",
      "source": [
        "input2 = tf.keras.layers.Input(shape = [] , dtype = tf.string , name = \"input_layer_model2\")\n",
        "tokens = USE_embed(input2)\n",
        "x = tf.keras.layers.Dense(64 , activation=\"relu\" , name = \"dense1_layer_model2\")(tokens)\n",
        "output2 = tf.keras.layers.Dense(5 , activation = \"softmax\" , name = \"dense2_layer_model2\")(x)\n",
        "\n",
        "model2 = tf.keras.Model(input2 , output2)"
      ],
      "metadata": {
        "id": "pAZAQrN1s4Ns"
      },
      "execution_count": 59,
      "outputs": []
    },
    {
      "cell_type": "code",
      "source": [
        "model2.summary()"
      ],
      "metadata": {
        "id": "8mpaKqmNt8Hq",
        "colab": {
          "base_uri": "https://localhost:8080/"
        },
        "outputId": "03702a85-6e1c-46bd-adb8-ad466b0c7782"
      },
      "execution_count": 60,
      "outputs": [
        {
          "output_type": "stream",
          "name": "stdout",
          "text": [
            "Model: \"model_1\"\n",
            "_________________________________________________________________\n",
            " Layer (type)                Output Shape              Param #   \n",
            "=================================================================\n",
            " input_layer_model2 (InputLa  [(None,)]                0         \n",
            " yer)                                                            \n",
            "                                                                 \n",
            " universal_sentence_encoder   (None, 512)              256797824 \n",
            " (KerasLayer)                                                    \n",
            "                                                                 \n",
            " dense1_layer_model2 (Dense)  (None, 64)               32832     \n",
            "                                                                 \n",
            " dense2_layer_model2 (Dense)  (None, 5)                325       \n",
            "                                                                 \n",
            "=================================================================\n",
            "Total params: 256,830,981\n",
            "Trainable params: 33,157\n",
            "Non-trainable params: 256,797,824\n",
            "_________________________________________________________________\n"
          ]
        }
      ]
    },
    {
      "cell_type": "code",
      "source": [
        "model2.compile(loss = \"categorical_crossentropy\" , optimizer = tf.keras.optimizers.Adam() , metrics = [\"accuracy\"])"
      ],
      "metadata": {
        "id": "F2_Y7gqYu12k"
      },
      "execution_count": 61,
      "outputs": []
    },
    {
      "cell_type": "code",
      "source": [
        "history2 = model2.fit(train_dataset , epochs = 3 ,steps_per_epoch=len(train_dataset) ,  validation_data = validation_dataset , validation_steps=len(validation_dataset) , callbacks = [create_tensorboard_callback(\"/content/models\" , \"model2\")])"
      ],
      "metadata": {
        "id": "ouX3Tlq8vxuZ",
        "colab": {
          "base_uri": "https://localhost:8080/"
        },
        "outputId": "e7348379-045a-4a9e-df63-0da834720337"
      },
      "execution_count": 62,
      "outputs": [
        {
          "output_type": "stream",
          "name": "stdout",
          "text": [
            "Saving TensorBoard log files to: /content/models/model2/20221225-120614\n",
            "Epoch 1/3\n",
            "5627/5627 [==============================] - 74s 13ms/step - loss: 0.7551 - accuracy: 0.7107 - val_loss: 0.6825 - val_accuracy: 0.7385\n",
            "Epoch 2/3\n",
            "5627/5627 [==============================] - 71s 13ms/step - loss: 0.6611 - accuracy: 0.7492 - val_loss: 0.6436 - val_accuracy: 0.7547\n",
            "Epoch 3/3\n",
            "5627/5627 [==============================] - 69s 12ms/step - loss: 0.6279 - accuracy: 0.7614 - val_loss: 0.6258 - val_accuracy: 0.7625\n"
          ]
        }
      ]
    },
    {
      "cell_type": "code",
      "source": [
        "pd.DataFrame(history2.history).plot()"
      ],
      "metadata": {
        "id": "j3ssqjaRwxR0",
        "colab": {
          "base_uri": "https://localhost:8080/",
          "height": 282
        },
        "outputId": "fc2a447a-292f-4908-8d28-56661c02304f"
      },
      "execution_count": 63,
      "outputs": [
        {
          "output_type": "execute_result",
          "data": {
            "text/plain": [
              "<matplotlib.axes._subplots.AxesSubplot at 0x7fcd6582e190>"
            ]
          },
          "metadata": {},
          "execution_count": 63
        },
        {
          "output_type": "display_data",
          "data": {
            "text/plain": [
              "<Figure size 432x288 with 1 Axes>"
            ],
            "image/png": "[encoded data removed]"
          },
          "metadata": {
            "needs_background": "light"
          }
        }
      ]
    },
    {
      "cell_type": "code",
      "source": [
        "model2_predicts = model2.predict(validation_txt)\n",
        "model2_predicts = tf.argmax(model2_predicts , 1)\n",
        "model2_predicts"
      ],
      "metadata": {
        "id": "401sa9HlySEO",
        "colab": {
          "base_uri": "https://localhost:8080/"
        },
        "outputId": "a7e709aa-8cf9-414e-a257-9ef2328193b0"
      },
      "execution_count": 64,
      "outputs": [
        {
          "output_type": "stream",
          "name": "stdout",
          "text": [
            "945/945 [==============================] - 10s 10ms/step\n"
          ]
        },
        {
          "output_type": "execute_result",
          "data": {
            "text/plain": [
              "<tf.Tensor: shape=(30212,), dtype=int64, numpy=array([0, 1, 0, ..., 4, 4, 1])>"
            ]
          },
          "metadata": {},
          "execution_count": 64
        }
      ]
    },
    {
      "cell_type": "code",
      "source": [
        "model2_predicts.numpy()"
      ],
      "metadata": {
        "id": "nQ6XliCQyxUT",
        "colab": {
          "base_uri": "https://localhost:8080/"
        },
        "outputId": "4fc1c6a3-f5cc-438d-e097-a31f46884406"
      },
      "execution_count": 65,
      "outputs": [
        {
          "output_type": "execute_result",
          "data": {
            "text/plain": [
              "array([0, 1, 0, ..., 4, 4, 1])"
            ]
          },
          "metadata": {},
          "execution_count": 65
        }
      ]
    },
    {
      "cell_type": "code",
      "source": [
        "model2_results = calculate_results( validation_label_enc, model2_predicts.numpy())\n",
        "model2_results"
      ],
      "metadata": {
        "id": "mGlGzb6AzUzQ",
        "colab": {
          "base_uri": "https://localhost:8080/"
        },
        "outputId": "4ef208a1-ce6f-4933-9db1-1815b0f769f4"
      },
      "execution_count": 66,
      "outputs": [
        {
          "output_type": "execute_result",
          "data": {
            "text/plain": [
              "{'accuracy': 76.24784853700515,\n",
              " 'precision': 0.7593408046561586,\n",
              " 'recall': 0.7624784853700516,\n",
              " 'f1': 0.7579189948145917}"
            ]
          },
          "metadata": {},
          "execution_count": 66
        }
      ]
    },
    {
      "cell_type": "code",
      "source": [
        "model1_results"
      ],
      "metadata": {
        "id": "53amsp1nzim2",
        "colab": {
          "base_uri": "https://localhost:8080/"
        },
        "outputId": "388b89b7-1e8f-4963-8854-a54dadd1805a"
      },
      "execution_count": 67,
      "outputs": [
        {
          "output_type": "execute_result",
          "data": {
            "text/plain": [
              "{'accuracy': 80.80895008605852,\n",
              " 'precision': 0.8049418239957236,\n",
              " 'recall': 0.8080895008605852,\n",
              " 'f1': 0.8053943114979047}"
            ]
          },
          "metadata": {},
          "execution_count": 67
        }
      ]
    },
    {
      "cell_type": "code",
      "source": [
        "model0_results"
      ],
      "metadata": {
        "id": "4DEIedA3zmfX",
        "colab": {
          "base_uri": "https://localhost:8080/"
        },
        "outputId": "ff7963a7-d515-494a-ede2-1d2844951539"
      },
      "execution_count": 68,
      "outputs": [
        {
          "output_type": "execute_result",
          "data": {
            "text/plain": [
              "{'accuracy': 72.1832384482987,\n",
              " 'precision': 0.7186466952323352,\n",
              " 'recall': 0.7218323844829869,\n",
              " 'f1': 0.6989250353450294}"
            ]
          },
          "metadata": {},
          "execution_count": 68
        }
      ]
    },
    {
      "cell_type": "code",
      "source": [
        "train_txt[0]"
      ],
      "metadata": {
        "id": "voTDmi1Hzn43",
        "colab": {
          "base_uri": "https://localhost:8080/",
          "height": 53
        },
        "outputId": "4427fa67-971a-4bc7-ead1-1621e97e0497"
      },
      "execution_count": 69,
      "outputs": [
        {
          "output_type": "execute_result",
          "data": {
            "text/plain": [
              "'To investigate the efficacy of @ weeks of daily low-dose oral prednisolone in improving pain , mobility , and systemic low-grade inflammation in the short term and whether the effect would be sustained at @ weeks in older adults with moderate to severe knee osteoarthritis ( OA ) .'"
            ],
            "application/vnd.google.colaboratory.intrinsic+json": {
              "type": "string"
            }
          },
          "metadata": {},
          "execution_count": 69
        }
      ]
    },
    {
      "cell_type": "code",
      "source": [
        "def token_to_char(text):\n",
        "  return \" \".join(text)"
      ],
      "metadata": {
        "id": "C5KtYdUNn9OD"
      },
      "execution_count": 70,
      "outputs": []
    },
    {
      "cell_type": "code",
      "source": [
        "train_char = []\n",
        "for text in train_txt:\n",
        "  train_char.append(token_to_char(text))"
      ],
      "metadata": {
        "id": "82s15YIIoLkx"
      },
      "execution_count": 71,
      "outputs": []
    },
    {
      "cell_type": "code",
      "source": [
        "train_char[0]"
      ],
      "metadata": {
        "id": "o79miDiGv2_Z",
        "colab": {
          "base_uri": "https://localhost:8080/",
          "height": 87
        },
        "outputId": "a8913e23-4464-47b4-9021-0cab0477d7b9"
      },
      "execution_count": 72,
      "outputs": [
        {
          "output_type": "execute_result",
          "data": {
            "text/plain": [
              "'T o   i n v e s t i g a t e   t h e   e f f i c a c y   o f   @   w e e k s   o f   d a i l y   l o w - d o s e   o r a l   p r e d n i s o l o n e   i n   i m p r o v i n g   p a i n   ,   m o b i l i t y   ,   a n d   s y s t e m i c   l o w - g r a d e   i n f l a m m a t i o n   i n   t h e   s h o r t   t e r m   a n d   w h e t h e r   t h e   e f f e c t   w o u l d   b e   s u s t a i n e d   a t   @   w e e k s   i n   o l d e r   a d u l t s   w i t h   m o d e r a t e   t o   s e v e r e   k n e e   o s t e o a r t h r i t i s   (   O A   )   .'"
            ],
            "application/vnd.google.colaboratory.intrinsic+json": {
              "type": "string"
            }
          },
          "metadata": {},
          "execution_count": 72
        }
      ]
    },
    {
      "cell_type": "code",
      "source": [
        "a = []\n",
        "for txt in train_char:\n",
        "  a.append(len(txt.split()))"
      ],
      "metadata": {
        "id": "VDX0UXHCw0eT"
      },
      "execution_count": 73,
      "outputs": []
    },
    {
      "cell_type": "code",
      "source": [
        "plt.hist(a)\n",
        "plt.show()"
      ],
      "metadata": {
        "id": "eCuKUloZ0_R3",
        "colab": {
          "base_uri": "https://localhost:8080/",
          "height": 265
        },
        "outputId": "cf1072b2-4d64-4abe-80ab-bc6762aaad0d"
      },
      "execution_count": 74,
      "outputs": [
        {
          "output_type": "display_data",
          "data": {
            "text/plain": [
              "<Figure size 432x288 with 1 Axes>"
            ],
            "image/png": "[encoded data removed]"
          },
          "metadata": {
            "needs_background": "light"
          }
        }
      ]
    },
    {
      "cell_type": "code",
      "source": [
        "import numpy as np"
      ],
      "metadata": {
        "id": "IwfZe7j-xN34"
      },
      "execution_count": 75,
      "outputs": []
    },
    {
      "cell_type": "code",
      "source": [
        "np.percentile(a , 95) # 95% of the data has almost 239 char-lenght or less"
      ],
      "metadata": {
        "id": "d-xG5BUcxQtI",
        "colab": {
          "base_uri": "https://localhost:8080/"
        },
        "outputId": "e7a54926-e953-4b4d-e938-04c4c6e346d5"
      },
      "execution_count": 76,
      "outputs": [
        {
          "output_type": "execute_result",
          "data": {
            "text/plain": [
              "239.0"
            ]
          },
          "metadata": {},
          "execution_count": 76
        }
      ]
    },
    {
      "cell_type": "code",
      "source": [
        "import string\n",
        "alphabet = string.ascii_lowercase + string.digits + string.punctuation"
      ],
      "metadata": {
        "id": "081Vv7gyBhD_"
      },
      "execution_count": 77,
      "outputs": []
    },
    {
      "cell_type": "code",
      "source": [
        "validation_char = [token_to_char(txt) for txt in validation_txt]\n",
        "test_char = [token_to_char(txt) for txt in test_txt]"
      ],
      "metadata": {
        "id": "ZCOk-e6T2rYC"
      },
      "execution_count": 78,
      "outputs": []
    },
    {
      "cell_type": "code",
      "source": [
        "validation_char_dataset = tf.data.Dataset.from_tensor_slices((validation_char , validation_labels_onehot)).batch(32).prefetch(tf.data.AUTOTUNE)\n",
        "train_char_dataset = tf.data.Dataset.from_tensor_slices((train_char , train_labels_onehot)).batch(32).prefetch(tf.data.AUTOTUNE)\n",
        "test_char_dataset = tf.data.Dataset.from_tensor_slices((test_char , test_labels_onehot)).batch(32).prefetch(tf.data.AUTOTUNE)"
      ],
      "metadata": {
        "id": "hjvOV3QG3GD2"
      },
      "execution_count": 79,
      "outputs": []
    },
    {
      "cell_type": "code",
      "source": [
        "char_vectorizer = TextVectorization(max_tokens=len(alphabet) + 2  , output_sequence_length=239 , pad_to_max_tokens=True)"
      ],
      "metadata": {
        "id": "R1ptoVQD3181"
      },
      "execution_count": 80,
      "outputs": []
    },
    {
      "cell_type": "code",
      "source": [
        "char_vectorizer.adapt(train_char)"
      ],
      "metadata": {
        "id": "Opod6JZq63Io"
      },
      "execution_count": 81,
      "outputs": []
    },
    {
      "cell_type": "code",
      "source": [
        "char_vocabulary = char_vectorizer.get_vocabulary()\n",
        "print(char_vocabulary)\n",
        "char_vocabulary[:5] , char_vocabulary[-5:]"
      ],
      "metadata": {
        "id": "vN7Wh5TB73h5",
        "colab": {
          "base_uri": "https://localhost:8080/"
        },
        "outputId": "81797cd2-bf92-402e-8ba2-e4afa5a21333"
      },
      "execution_count": 82,
      "outputs": [
        {
          "output_type": "stream",
          "name": "stdout",
          "text": [
            "['', '[UNK]', 'e', 't', 'i', 'a', 'n', 'o', 'r', 's', 'd', 'c', 'l', 'h', 'p', 'm', 'u', 'f', 'g', 'y', 'w', 'v', 'b', 'k', 'x', 'z', 'q', 'j']\n"
          ]
        },
        {
          "output_type": "execute_result",
          "data": {
            "text/plain": [
              "(['', '[UNK]', 'e', 't', 'i'], ['k', 'x', 'z', 'q', 'j'])"
            ]
          },
          "metadata": {},
          "execution_count": 82
        }
      ]
    },
    {
      "cell_type": "code",
      "source": [
        "print(train_char[10])\n",
        "print(len(train_char[10].split()))\n",
        "print(\"\\n\\n\")\n",
        "print(char_vectorizer([train_char[10]]))"
      ],
      "metadata": {
        "id": "FVq0a3Ve7CHN",
        "colab": {
          "base_uri": "https://localhost:8080/"
        },
        "outputId": "0d887075-59db-4ce4-ca68-45b57536352f"
      },
      "execution_count": 83,
      "outputs": [
        {
          "output_type": "stream",
          "name": "stdout",
          "text": [
            "T h e   O u t c o m e   M e a s u r e s   i n   R h e u m a t o l o g y   C l i n i c a l   T r i a l s - O s t e o a r t h r i t i s   R e s e a r c h   S o c i e t y   I n t e r n a t i o n a l   r e s p o n d e r   r a t e   w a s   @   %   i n   t h e   i n t e r v e n t i o n   g r o u p   a n d   @   %   i n   t h e   p l a c e b o   g r o u p   (   p   <   @   )   .\n",
            "157\n",
            "\n",
            "\n",
            "\n",
            "tf.Tensor(\n",
            "[[ 3 13  2  7 16  3 11  7 15  2 15  2  5  9 16  8  2  9  4  6  8 13  2 16\n",
            "  15  5  3  7 12  7 18 19 11 12  4  6  4 11  5 12  3  8  4  5 12  9  7  9\n",
            "   3  2  7  5  8  3 13  8  4  3  4  9  8  2  9  2  5  8 11 13  9  7 11  4\n",
            "   2  3 19  4  6  3  2  8  6  5  3  4  7  6  5 12  8  2  9 14  7  6 10  2\n",
            "   8  8  5  3  2 20  5  9  4  6  3 13  2  4  6  3  2  8 21  2  6  3  4  7\n",
            "   6 18  8  7 16 14  5  6 10  4  6  3 13  2 14 12  5 11  2 22  7 18  8  7\n",
            "  16 14 14  0  0  0  0  0  0  0  0  0  0  0  0  0  0  0  0  0  0  0  0  0\n",
            "   0  0  0  0  0  0  0  0  0  0  0  0  0  0  0  0  0  0  0  0  0  0  0  0\n",
            "   0  0  0  0  0  0  0  0  0  0  0  0  0  0  0  0  0  0  0  0  0  0  0  0\n",
            "   0  0  0  0  0  0  0  0  0  0  0  0  0  0  0  0  0  0  0  0  0  0  0]], shape=(1, 239), dtype=int64)\n"
          ]
        }
      ]
    },
    {
      "cell_type": "code",
      "source": [
        "char_embedding = Embedding(input_dim = len(alphabet) + 2 , output_dim = 25)"
      ],
      "metadata": {
        "id": "mOIreR-97Una"
      },
      "execution_count": 84,
      "outputs": []
    },
    {
      "cell_type": "code",
      "source": [
        "print(train_txt[0])\n",
        "print(f\"text lenght without split is {len(train_txt[0])}\")\n",
        "print(f\"text lenght with split is {len(train_txt[0].split())}\")\n",
        "print(\"\\n\")\n",
        "print(train_char[0])\n",
        "print(f\"char-text lenght without split is {len(train_char[0])}\")\n",
        "print(f\"char-text lenght with split is {len(train_char[0].split())}\\n\")\n",
        "\n",
        "print(char_vectorizer([train_char[0]]))\n",
        "print(\"\\n\")\n",
        "char_embedding(char_vectorizer([train_char[0]]))"
      ],
      "metadata": {
        "id": "t_HfU-UvE_au",
        "colab": {
          "base_uri": "https://localhost:8080/"
        },
        "outputId": "1b0a50eb-b104-402d-d044-0b819b6d1467"
      },
      "execution_count": 85,
      "outputs": [
        {
          "output_type": "stream",
          "name": "stdout",
          "text": [
            "To investigate the efficacy of @ weeks of daily low-dose oral prednisolone in improving pain , mobility , and systemic low-grade inflammation in the short term and whether the effect would be sustained at @ weeks in older adults with moderate to severe knee osteoarthritis ( OA ) .\n",
            "text lenght without split is 281\n",
            "text lenght with split is 49\n",
            "\n",
            "\n",
            "T o   i n v e s t i g a t e   t h e   e f f i c a c y   o f   @   w e e k s   o f   d a i l y   l o w - d o s e   o r a l   p r e d n i s o l o n e   i n   i m p r o v i n g   p a i n   ,   m o b i l i t y   ,   a n d   s y s t e m i c   l o w - g r a d e   i n f l a m m a t i o n   i n   t h e   s h o r t   t e r m   a n d   w h e t h e r   t h e   e f f e c t   w o u l d   b e   s u s t a i n e d   a t   @   w e e k s   i n   o l d e r   a d u l t s   w i t h   m o d e r a t e   t o   s e v e r e   k n e e   o s t e o a r t h r i t i s   (   O A   )   .\n",
            "char-text lenght without split is 561\n",
            "char-text lenght with split is 233\n",
            "\n",
            "tf.Tensor(\n",
            "[[ 3  7  4  6 21  2  9  3  4 18  5  3  2  3 13  2  2 17 17  4 11  5 11 19\n",
            "   7 17 20  2  2 23  9  7 17 10  5  4 12 19 12  7 20 10  7  9  2  7  8  5\n",
            "  12 14  8  2 10  6  4  9  7 12  7  6  2  4  6  4 15 14  8  7 21  4  6 18\n",
            "  14  5  4  6 15  7 22  4 12  4  3 19  5  6 10  9 19  9  3  2 15  4 11 12\n",
            "   7 20 18  8  5 10  2  4  6 17 12  5 15 15  5  3  4  7  6  4  6  3 13  2\n",
            "   9 13  7  8  3  3  2  8 15  5  6 10 20 13  2  3 13  2  8  3 13  2  2 17\n",
            "  17  2 11  3 20  7 16 12 10 22  2  9 16  9  3  5  4  6  2 10  5  3 20  2\n",
            "   2 23  9  4  6  7 12 10  2  8  5 10 16 12  3  9 20  4  3 13 15  7 10  2\n",
            "   8  5  3  2  3  7  9  2 21  2  8  2 23  6  2  2  7  9  3  2  7  5  8  3\n",
            "  13  8  4  3  4  9  7  5  0  0  0  0  0  0  0  0  0  0  0  0  0  0  0]], shape=(1, 239), dtype=int64)\n",
            "\n",
            "\n"
          ]
        },
        {
          "output_type": "execute_result",
          "data": {
            "text/plain": [
              "<tf.Tensor: shape=(1, 239, 25), dtype=float32, numpy=\n",
              "array([[[-0.00755619, -0.01742066,  0.03722595, ..., -0.02633933,\n",
              "          0.04632947, -0.0110804 ],\n",
              "        [ 0.01408975,  0.01281929, -0.0392824 , ...,  0.00087743,\n",
              "         -0.01090691,  0.04759439],\n",
              "        [-0.03009952,  0.0136855 ,  0.04937002, ..., -0.03191458,\n",
              "          0.0122116 ,  0.02526284],\n",
              "        ...,\n",
              "        [-0.03444158,  0.03730572, -0.03143328, ..., -0.04246409,\n",
              "         -0.02649224,  0.02969432],\n",
              "        [-0.03444158,  0.03730572, -0.03143328, ..., -0.04246409,\n",
              "         -0.02649224,  0.02969432],\n",
              "        [-0.03444158,  0.03730572, -0.03143328, ..., -0.04246409,\n",
              "         -0.02649224,  0.02969432]]], dtype=float32)>"
            ]
          },
          "metadata": {},
          "execution_count": 85
        }
      ]
    },
    {
      "cell_type": "code",
      "source": [
        "input3 = tf.keras.layers.Input(shape = (1, ) , dtype = tf.string , name = \"input_layer_model3\")\n",
        "char_vectors = char_vectorizer(input3)\n",
        "char_embeds = char_embedding(char_vectors)\n",
        "x = tf.keras.layers.Conv1D(64 , 5 , padding = \"same\" , name = \"conv_layer_model3\")(char_embeds)\n",
        "x = tf.keras.layers.GlobalMaxPool1D(name = \"global_average_pooling_model3\")(x)\n",
        "output3 = tf.keras.layers.Dense(5 , activation = \"softmax\" , name = \"output_layer_model3\" )(x)\n",
        "\n",
        "model3 = tf.keras.Model(input3 , output3)\n",
        "\n",
        "model3.summary()"
      ],
      "metadata": {
        "id": "T0pmX8OpFbU7",
        "colab": {
          "base_uri": "https://localhost:8080/"
        },
        "outputId": "61f7134d-cbde-4eab-c7d8-c334dafcd186"
      },
      "execution_count": 86,
      "outputs": [
        {
          "output_type": "stream",
          "name": "stdout",
          "text": [
            "Model: \"model_2\"\n",
            "_________________________________________________________________\n",
            " Layer (type)                Output Shape              Param #   \n",
            "=================================================================\n",
            " input_layer_model3 (InputLa  [(None, 1)]              0         \n",
            " yer)                                                            \n",
            "                                                                 \n",
            " text_vectorization_1 (TextV  (None, 239)              0         \n",
            " ectorization)                                                   \n",
            "                                                                 \n",
            " embedding_1 (Embedding)     (None, 239, 25)           1750      \n",
            "                                                                 \n",
            " conv_layer_model3 (Conv1D)  (None, 239, 64)           8064      \n",
            "                                                                 \n",
            " global_average_pooling_mode  (None, 64)               0         \n",
            " l3 (GlobalMaxPooling1D)                                         \n",
            "                                                                 \n",
            " output_layer_model3 (Dense)  (None, 5)                325       \n",
            "                                                                 \n",
            "=================================================================\n",
            "Total params: 10,139\n",
            "Trainable params: 10,139\n",
            "Non-trainable params: 0\n",
            "_________________________________________________________________\n"
          ]
        }
      ]
    },
    {
      "cell_type": "code",
      "source": [
        "model3.compile(loss = \"categorical_crossentropy\" , optimizer = tf.keras.optimizers.Adam() , metrics = [\"accuracy\"])"
      ],
      "metadata": {
        "id": "jGkstld8LDe1"
      },
      "execution_count": 87,
      "outputs": []
    },
    {
      "cell_type": "code",
      "source": [
        "history3 = model3.fit(train_char_dataset , epochs = 3 , steps_per_epoch=len(train_char_dataset) , validation_data = validation_char_dataset , validation_steps=len(validation_char_dataset) , callbacks = [create_tensorboard_callback(\"/content/models\" , \"model3\")])"
      ],
      "metadata": {
        "id": "y0uZAh88MO1A",
        "colab": {
          "base_uri": "https://localhost:8080/"
        },
        "outputId": "ea6b33be-8bbb-4fee-8851-afe5bf0b9d0c"
      },
      "execution_count": 88,
      "outputs": [
        {
          "output_type": "stream",
          "name": "stdout",
          "text": [
            "Saving TensorBoard log files to: /content/models/model3/20221225-121035\n",
            "Epoch 1/3\n",
            "5627/5627 [==============================] - 30s 5ms/step - loss: 0.8997 - accuracy: 0.6475 - val_loss: 0.7818 - val_accuracy: 0.6969\n",
            "Epoch 2/3\n",
            "5627/5627 [==============================] - 28s 5ms/step - loss: 0.7556 - accuracy: 0.7116 - val_loss: 0.7388 - val_accuracy: 0.7159\n",
            "Epoch 3/3\n",
            "5627/5627 [==============================] - 29s 5ms/step - loss: 0.7202 - accuracy: 0.7265 - val_loss: 0.7190 - val_accuracy: 0.7233\n"
          ]
        }
      ]
    },
    {
      "cell_type": "code",
      "source": [
        "model3_predicts = model3.predict(validation_char)"
      ],
      "metadata": {
        "id": "Njs3elZeUF7J",
        "colab": {
          "base_uri": "https://localhost:8080/"
        },
        "outputId": "5278d8f1-5b71-4844-e5b4-de75287a7c46"
      },
      "execution_count": 89,
      "outputs": [
        {
          "output_type": "stream",
          "name": "stdout",
          "text": [
            "945/945 [==============================] - 2s 3ms/step\n"
          ]
        }
      ]
    },
    {
      "cell_type": "code",
      "source": [
        "model3_predicts = tf.argmax(model3_predicts , 1)\n",
        "model3_predicts"
      ],
      "metadata": {
        "id": "rFuiZ1WeURS4",
        "colab": {
          "base_uri": "https://localhost:8080/"
        },
        "outputId": "bce10f2b-3484-4303-96c5-2753aa49f283"
      },
      "execution_count": 90,
      "outputs": [
        {
          "output_type": "execute_result",
          "data": {
            "text/plain": [
              "<tf.Tensor: shape=(30212,), dtype=int64, numpy=array([1, 1, 1, ..., 4, 4, 1])>"
            ]
          },
          "metadata": {},
          "execution_count": 90
        }
      ]
    },
    {
      "cell_type": "code",
      "source": [
        "model3_results = calculate_results(validation_label_enc , model3_predicts.numpy())"
      ],
      "metadata": {
        "id": "T8anBIN_UXxQ"
      },
      "execution_count": 91,
      "outputs": []
    },
    {
      "cell_type": "code",
      "source": [
        "model3_results"
      ],
      "metadata": {
        "id": "ehIikGnLU9M9",
        "colab": {
          "base_uri": "https://localhost:8080/"
        },
        "outputId": "c651e9c7-f326-47d5-a183-23b0e69d57b7"
      },
      "execution_count": 92,
      "outputs": [
        {
          "output_type": "execute_result",
          "data": {
            "text/plain": [
              "{'accuracy': 72.33218588640275,\n",
              " 'precision': 0.7242701249410082,\n",
              " 'recall': 0.7233218588640276,\n",
              " 'f1': 0.7168237276485865}"
            ]
          },
          "metadata": {},
          "execution_count": 92
        }
      ]
    },
    {
      "cell_type": "code",
      "source": [
        "#part 1 model 4\n",
        "input1_4 = tf.keras.layers.Input(shape =[] ,dtype = tf.string ,  name = \"input1_layer_model4\")\n",
        "token_vectors1_4 = USE_embed(input1_4)\n",
        "output1_4 = tf.keras.layers.Dense(128 , activation = \"relu\" , name = \"hidden1_1_layer_model4\")(token_vectors1_4)\n",
        "model1_4 = tf.keras.Model(input1_4 , output1_4)\n",
        "\n",
        "\n",
        "#part 2 model 4\n",
        "input2_4 = tf.keras.layers.Input(shape = (1 , ) , dtype = tf.string, name = \"input2_layer_model4\")\n",
        "char_vectors2_4 = char_vectorizer(input2_4)\n",
        "token_vectors2_4 = char_embedding(char_vectors2_4)\n",
        "output2_4 = tf.keras.layers.Bidirectional(tf.keras.layers.LSTM(28) , name = \"bidirectional_layer_model4\")(token_vectors2_4)\n",
        "model2_4 = tf.keras.Model(input2_4 , output2_4)\n",
        "\n",
        "\n",
        "#concatenation layer model 4\n",
        "concat_layer = tf.keras.layers.Concatenate(name = \"concatenate_layer_model_4\")([model1_4.output , model2_4.output])\n",
        "\n",
        "#last part of the model 4\n",
        "\n",
        "dropout1 = tf.keras.layers.Dropout(0.5)(concat_layer)\n",
        "hidden_layer1 = tf.keras.layers.Dense(200 , activation = \"relu\" , name = \"hidden2_layer_model4\")(dropout1)\n",
        "dropout2 = tf.keras.layers.Dropout(0.5)(hidden_layer1)\n",
        "output4 = tf.keras.layers.Dense(5 , activation = \"softmax\" , name = \"output_layer_model4\")(dropout2)\n",
        "\n",
        "model4 = tf.keras.Model([input1_4 , input2_4] , output4)\n",
        "\n",
        "model4.summary()"
      ],
      "metadata": {
        "id": "UGAK1m2l2vCH",
        "colab": {
          "base_uri": "https://localhost:8080/"
        },
        "outputId": "2e4cf439-a51d-4be8-9faf-72822c6d255c"
      },
      "execution_count": 93,
      "outputs": [
        {
          "output_type": "stream",
          "name": "stdout",
          "text": [
            "Model: \"model_5\"\n",
            "__________________________________________________________________________________________________\n",
            " Layer (type)                   Output Shape         Param #     Connected to                     \n",
            "==================================================================================================\n",
            " input2_layer_model4 (InputLaye  [(None, 1)]         0           []                               \n",
            " r)                                                                                               \n",
            "                                                                                                  \n",
            " input1_layer_model4 (InputLaye  [(None,)]           0           []                               \n",
            " r)                                                                                               \n",
            "                                                                                                  \n",
            " text_vectorization_1 (TextVect  (None, 239)         0           ['input2_layer_model4[0][0]']    \n",
            " orization)                                                                                       \n",
            "                                                                                                  \n",
            " universal_sentence_encoder (Ke  (None, 512)         256797824   ['input1_layer_model4[0][0]']    \n",
            " rasLayer)                                                                                        \n",
            "                                                                                                  \n",
            " embedding_1 (Embedding)        (None, 239, 25)      1750        ['text_vectorization_1[1][0]']   \n",
            "                                                                                                  \n",
            " hidden1_1_layer_model4 (Dense)  (None, 128)         65664       ['universal_sentence_encoder[1][0\n",
            "                                                                 ]']                              \n",
            "                                                                                                  \n",
            " bidirectional_layer_model4 (Bi  (None, 56)          12096       ['embedding_1[1][0]']            \n",
            " directional)                                                                                     \n",
            "                                                                                                  \n",
            " concatenate_layer_model_4 (Con  (None, 184)         0           ['hidden1_1_layer_model4[0][0]', \n",
            " catenate)                                                        'bidirectional_layer_model4[0][0\n",
            "                                                                 ]']                              \n",
            "                                                                                                  \n",
            " dropout (Dropout)              (None, 184)          0           ['concatenate_layer_model_4[0][0]\n",
            "                                                                 ']                               \n",
            "                                                                                                  \n",
            " hidden2_layer_model4 (Dense)   (None, 200)          37000       ['dropout[0][0]']                \n",
            "                                                                                                  \n",
            " dropout_1 (Dropout)            (None, 200)          0           ['hidden2_layer_model4[0][0]']   \n",
            "                                                                                                  \n",
            " output_layer_model4 (Dense)    (None, 5)            1005        ['dropout_1[0][0]']              \n",
            "                                                                                                  \n",
            "==================================================================================================\n",
            "Total params: 256,915,339\n",
            "Trainable params: 117,515\n",
            "Non-trainable params: 256,797,824\n",
            "__________________________________________________________________________________________________\n"
          ]
        }
      ]
    },
    {
      "cell_type": "code",
      "source": [
        "tf.keras.utils.plot_model(model4)"
      ],
      "metadata": {
        "id": "cb7VRiOfWCce",
        "colab": {
          "base_uri": "https://localhost:8080/",
          "height": 856
        },
        "outputId": "bcc9215c-e6ef-4e0e-bf52-5952d86a6bc9"
      },
      "execution_count": 94,
      "outputs": [
        {
          "output_type": "execute_result",
          "data": {
            "image/png": "[encoded data removed]",
            "text/plain": [
              "<IPython.core.display.Image object>"
            ]
          },
          "metadata": {},
          "execution_count": 94
        }
      ]
    },
    {
      "cell_type": "code",
      "source": [
        "model4.compile(loss = \"categorical_crossentropy\" , optimizer = tf.keras.optimizers.Adam() , metrics = [\"accuracy\"])"
      ],
      "metadata": {
        "id": "CtU_N8hlWh8O"
      },
      "execution_count": 95,
      "outputs": []
    },
    {
      "cell_type": "code",
      "source": [
        "train_char_token_data = tf.data.Dataset.from_tensor_slices((train_txt , train_char))\n",
        "train_char_token_label = tf.data.Dataset.from_tensor_slices(train_labels_onehot)\n",
        "train_char_token_dataset = tf.data.Dataset.zip((train_char_token_data , train_char_token_label))"
      ],
      "metadata": {
        "id": "RabZjRbhXNhp"
      },
      "execution_count": 96,
      "outputs": []
    },
    {
      "cell_type": "code",
      "source": [
        "validation_char_token_data = tf.data.Dataset.from_tensor_slices((validation_txt , validation_char))\n",
        "validation_char_token_label = tf.data.Dataset.from_tensor_slices(validation_labels_onehot)\n",
        "validation_char_token_dataset = tf.data.Dataset.zip((validation_char_token_data , validation_char_token_label))"
      ],
      "metadata": {
        "id": "2o01La-nXykb"
      },
      "execution_count": 97,
      "outputs": []
    },
    {
      "cell_type": "code",
      "source": [
        "train_char_token_dataset = train_char_token_dataset.batch(32).prefetch(tf.data.AUTOTUNE)\n",
        "validation_char_token_dataset = validation_char_token_dataset.batch(32).prefetch(tf.data.AUTOTUNE)"
      ],
      "metadata": {
        "id": "JRL89NrTYSkQ"
      },
      "execution_count": 98,
      "outputs": []
    },
    {
      "cell_type": "code",
      "source": [
        "history4 = model4.fit(train_char_token_dataset , epochs = 3 , steps_per_epoch=len(train_char_token_dataset) , validation_data = validation_char_token_dataset , validation_steps=len(validation_char_token_dataset) , callbacks = [create_tensorboard_callback(\"/content/models\" , \"model4\")])"
      ],
      "metadata": {
        "id": "84raQBdtYmfX",
        "colab": {
          "base_uri": "https://localhost:8080/"
        },
        "outputId": "1912517b-ab31-4f23-a61d-b22cbd1987db"
      },
      "execution_count": 99,
      "outputs": [
        {
          "output_type": "stream",
          "name": "stdout",
          "text": [
            "Saving TensorBoard log files to: /content/models/model4/20221225-121211\n",
            "Epoch 1/3\n",
            "5627/5627 [==============================] - 179s 31ms/step - loss: 0.7516 - accuracy: 0.7120 - val_loss: 0.6202 - val_accuracy: 0.7635\n",
            "Epoch 2/3\n",
            "5627/5627 [==============================] - 168s 30ms/step - loss: 0.6688 - accuracy: 0.7469 - val_loss: 0.5926 - val_accuracy: 0.7757\n",
            "Epoch 3/3\n",
            "5627/5627 [==============================] - 169s 30ms/step - loss: 0.6450 - accuracy: 0.7556 - val_loss: 0.5777 - val_accuracy: 0.7807\n"
          ]
        }
      ]
    },
    {
      "cell_type": "code",
      "source": [
        "model4_prdicts = model4.predict(validation_char_token_dataset)"
      ],
      "metadata": {
        "id": "D4p3qIJQ7IHd",
        "colab": {
          "base_uri": "https://localhost:8080/"
        },
        "outputId": "3318b87b-4fe8-433a-b5ab-d4a7da0d6629"
      },
      "execution_count": 100,
      "outputs": [
        {
          "output_type": "stream",
          "name": "stdout",
          "text": [
            "945/945 [==============================] - 18s 18ms/step\n"
          ]
        }
      ]
    },
    {
      "cell_type": "code",
      "source": [
        "model4_predicts = tf.argmax(model4_prdicts , axis = 1)"
      ],
      "metadata": {
        "id": "b_5DH2bK7WUV"
      },
      "execution_count": 101,
      "outputs": []
    },
    {
      "cell_type": "code",
      "source": [
        "model4_results = calculate_results(validation_label_enc , model4_predicts.numpy())"
      ],
      "metadata": {
        "id": "Se2Ihkv57w4h"
      },
      "execution_count": 102,
      "outputs": []
    },
    {
      "cell_type": "code",
      "source": [
        "pd.DataFrame(history4.history).plot()"
      ],
      "metadata": {
        "id": "gfv7GgOwgtLt",
        "colab": {
          "base_uri": "https://localhost:8080/",
          "height": 282
        },
        "outputId": "b7ac41e7-9726-457a-9761-99ccaec3cb28"
      },
      "execution_count": 103,
      "outputs": [
        {
          "output_type": "execute_result",
          "data": {
            "text/plain": [
              "<matplotlib.axes._subplots.AxesSubplot at 0x7fcd77e14e80>"
            ]
          },
          "metadata": {},
          "execution_count": 103
        },
        {
          "output_type": "display_data",
          "data": {
            "text/plain": [
              "<Figure size 432x288 with 1 Axes>"
            ],
            "image/png": "[encoded data removed]"
          },
          "metadata": {
            "needs_background": "light"
          }
        }
      ]
    },
    {
      "cell_type": "markdown",
      "source": [],
      "metadata": {
        "id": "BhFSwFXqmXBF"
      }
    },
    {
      "cell_type": "code",
      "source": [
        "##!zip -r /content/models/model4_skimlit.zip /content/models/model4_skimlit"
      ],
      "metadata": {
        "id": "MU6zusjQexEL"
      },
      "execution_count": 104,
      "outputs": []
    },
    {
      "cell_type": "code",
      "source": [
        "#model5 real skimlit"
      ],
      "metadata": {
        "id": "us05EFY7jMoT"
      },
      "execution_count": 105,
      "outputs": []
    },
    {
      "cell_type": "code",
      "source": [
        "line_numbers = train_pd[\"line_number\"].to_numpy()\n",
        "total_numbers = train_pd[\"total_lines\"].to_numpy()"
      ],
      "metadata": {
        "id": "eVsZOlczsn7P"
      },
      "execution_count": 106,
      "outputs": []
    },
    {
      "cell_type": "code",
      "source": [
        "line_numbers , total_numbers"
      ],
      "metadata": {
        "id": "ssh7uUA0ssl-",
        "colab": {
          "base_uri": "https://localhost:8080/"
        },
        "outputId": "c12200c3-25c5-40bc-a9eb-a52e9ff4c302"
      },
      "execution_count": 107,
      "outputs": [
        {
          "output_type": "execute_result",
          "data": {
            "text/plain": [
              "(array([ 0,  1,  2, ...,  9, 10, 11]), array([11, 11, 11, ..., 11, 11, 11]))"
            ]
          },
          "metadata": {},
          "execution_count": 107
        }
      ]
    },
    {
      "cell_type": "code",
      "source": [
        "train_pd[\"line_number\"].hist()\n",
        "print(np.percentile(train_pd[\"line_number\"].to_numpy() , 95))\n",
        "max_lenght_line_number = 15"
      ],
      "metadata": {
        "id": "-onpv1PmtAmn",
        "colab": {
          "base_uri": "https://localhost:8080/",
          "height": 282
        },
        "outputId": "f66f7134-73d2-4045-b667-3b40d6b5acbe"
      },
      "execution_count": 108,
      "outputs": [
        {
          "output_type": "stream",
          "name": "stdout",
          "text": [
            "13.0\n"
          ]
        },
        {
          "output_type": "display_data",
          "data": {
            "text/plain": [
              "<Figure size 432x288 with 1 Axes>"
            ],
            "image/png": "[encoded data removed]"
          },
          "metadata": {
            "needs_background": "light"
          }
        }
      ]
    },
    {
      "cell_type": "code",
      "source": [
        "train_pd[\"total_lines\"].hist()\n",
        "print(np.percentile(train_pd[\"total_lines\"].to_numpy() , 95))\n",
        "max_lenght_total_number = 20"
      ],
      "metadata": {
        "id": "M6b1m2cFtUFc",
        "colab": {
          "base_uri": "https://localhost:8080/",
          "height": 284
        },
        "outputId": "7b4cd635-1e17-4c93-d5d3-ec051a01fafd"
      },
      "execution_count": 109,
      "outputs": [
        {
          "output_type": "stream",
          "name": "stdout",
          "text": [
            "18.0\n"
          ]
        },
        {
          "output_type": "display_data",
          "data": {
            "text/plain": [
              "<Figure size 432x288 with 1 Axes>"
            ],
            "image/png": "[encoded data removed]"
          },
          "metadata": {
            "needs_background": "light"
          }
        }
      ]
    },
    {
      "cell_type": "code",
      "source": [
        "train_line_numbers_onehot = tf.one_hot(line_numbers , depth = 15)"
      ],
      "metadata": {
        "id": "_uothBOItXAD"
      },
      "execution_count": 110,
      "outputs": []
    },
    {
      "cell_type": "code",
      "source": [
        "train_line_numbers_onehot[:5]"
      ],
      "metadata": {
        "colab": {
          "base_uri": "https://localhost:8080/"
        },
        "id": "rL2o_4ZktmFn",
        "outputId": "f78962bd-d364-4593-dbe6-7f67c8dafd2b"
      },
      "execution_count": 111,
      "outputs": [
        {
          "output_type": "execute_result",
          "data": {
            "text/plain": [
              "<tf.Tensor: shape=(5, 15), dtype=float32, numpy=\n",
              "array([[1., 0., 0., 0., 0., 0., 0., 0., 0., 0., 0., 0., 0., 0., 0.],\n",
              "       [0., 1., 0., 0., 0., 0., 0., 0., 0., 0., 0., 0., 0., 0., 0.],\n",
              "       [0., 0., 1., 0., 0., 0., 0., 0., 0., 0., 0., 0., 0., 0., 0.],\n",
              "       [0., 0., 0., 1., 0., 0., 0., 0., 0., 0., 0., 0., 0., 0., 0.],\n",
              "       [0., 0., 0., 0., 1., 0., 0., 0., 0., 0., 0., 0., 0., 0., 0.]],\n",
              "      dtype=float32)>"
            ]
          },
          "metadata": {},
          "execution_count": 111
        }
      ]
    },
    {
      "cell_type": "code",
      "source": [
        "train_total_numbers_onehot = tf.one_hot(total_numbers , depth = 20)"
      ],
      "metadata": {
        "id": "aI08G9Z6vGKE"
      },
      "execution_count": 112,
      "outputs": []
    },
    {
      "cell_type": "code",
      "source": [
        "train_char_token_pos_data = tf.data.Dataset.from_tensor_slices((train_txt , train_char , train_line_numbers_onehot , train_total_numbers_onehot))"
      ],
      "metadata": {
        "id": "LWP5RXT9t4f8"
      },
      "execution_count": 113,
      "outputs": []
    },
    {
      "cell_type": "code",
      "source": [
        "train_char_token_pos_label = tf.data.Dataset.from_tensor_slices((train_labels_onehot))"
      ],
      "metadata": {
        "id": "AyJvKH10NBa4"
      },
      "execution_count": 114,
      "outputs": []
    },
    {
      "cell_type": "code",
      "source": [
        "train_char_token_pos_dataset = tf.data.Dataset.zip((train_char_token_pos_data , train_char_token_pos_label))"
      ],
      "metadata": {
        "id": "_RC55vinQVfB"
      },
      "execution_count": 115,
      "outputs": []
    },
    {
      "cell_type": "code",
      "source": [
        "train_char_token_pos_dataset = train_char_token_pos_dataset.batch(32).prefetch(tf.data.AUTOTUNE)\n",
        "train_char_token_pos_dataset"
      ],
      "metadata": {
        "colab": {
          "base_uri": "https://localhost:8080/"
        },
        "id": "bYwJdWKEQlJI",
        "outputId": "43fa9a7c-0f02-4c9e-a6b2-4837268bcdb5"
      },
      "execution_count": 116,
      "outputs": [
        {
          "output_type": "execute_result",
          "data": {
            "text/plain": [
              "<PrefetchDataset element_spec=((TensorSpec(shape=(None,), dtype=tf.string, name=None), TensorSpec(shape=(None,), dtype=tf.string, name=None), TensorSpec(shape=(None, 15), dtype=tf.float32, name=None), TensorSpec(shape=(None, 20), dtype=tf.float32, name=None)), TensorSpec(shape=(None, 5), dtype=tf.float64, name=None))>"
            ]
          },
          "metadata": {},
          "execution_count": 116
        }
      ]
    },
    {
      "cell_type": "code",
      "source": [
        "validation_line_number_onehot = tf.one_hot(validation_pd[\"line_number\"].to_numpy() , depth = 15)\n",
        "validation_total_number_onehot = tf.one_hot(validation_pd[\"total_lines\"].to_numpy() , depth = 20)"
      ],
      "metadata": {
        "id": "OxTroF70RDUA"
      },
      "execution_count": 117,
      "outputs": []
    },
    {
      "cell_type": "code",
      "source": [
        "validation_char_token_pos_data = tf.data.Dataset.from_tensor_slices((validation_txt , validation_char , validation_line_number_onehot , validation_total_number_onehot))\n",
        "validation_char_token_pos_label = tf.data.Dataset.from_tensor_slices((validation_labels_onehot))\n",
        "validation_char_token_pos_dataset = tf.data.Dataset.zip((validation_char_token_pos_data , validation_char_token_pos_label))\n",
        "validation_char_token_pos_dataset = validation_char_token_pos_dataset.batch(32).prefetch(tf.data.AUTOTUNE)\n",
        "validation_char_token_pos_dataset"
      ],
      "metadata": {
        "colab": {
          "base_uri": "https://localhost:8080/"
        },
        "id": "RR4wM9cwQn7A",
        "outputId": "a04fff79-5bb2-4c30-811f-f23c7d4ac56f"
      },
      "execution_count": 120,
      "outputs": [
        {
          "output_type": "execute_result",
          "data": {
            "text/plain": [
              "<PrefetchDataset element_spec=((TensorSpec(shape=(None,), dtype=tf.string, name=None), TensorSpec(shape=(None,), dtype=tf.string, name=None), TensorSpec(shape=(None, 15), dtype=tf.float32, name=None), TensorSpec(shape=(None, 20), dtype=tf.float32, name=None)), TensorSpec(shape=(None, 5), dtype=tf.float64, name=None))>"
            ]
          },
          "metadata": {},
          "execution_count": 120
        }
      ]
    },
    {
      "cell_type": "code",
      "source": [
        "#model 5 - lets create real skimlit\n",
        "\n",
        "#part1\n",
        "input1_5 = tf.keras.layers.Input(shape = [] , dtype = tf.string , name = \"first_input_model5\")\n",
        "token_vectors1_5 = USE_embed(input1_5)\n",
        "output1_5 = tf.keras.layers.Dense(128 , activation = \"relu\" , name = \"output1_model5\")(token_vectors1_5)\n",
        "model1_5 = tf.keras.Model(input1_5 , output1_5)\n",
        "\n",
        "\n",
        "input2_5 = tf.keras.layers.Input(shape = (1 , ) , dtype = tf.string , name = \"second_input_model5\")\n",
        "char_vectors5 = char_vectorizer(input2_5)\n",
        "token_vectors2_5 = text_embedder(char_vectors5)\n",
        "bi_lstm = tf.keras.layers.Bidirectional(tf.keras.layers.LSTM(28) , name = \"bidirectional_layer_model5_part1\")(token_vectors2_5)\n",
        "model2_5 = tf.keras.Model(input2_5 , bi_lstm)\n",
        "\n",
        "\n",
        "#concatenate part 1 & 2\n",
        "concatenate_layer_1_5 = tf.keras.layers.Concatenate(name = \"concatenate_layer_model5\")([model1_5.output , model2_5.output])\n",
        "output_concatenate_1_5 = tf.keras.layers.Dense(128 , activation = \"relu\" , name = \"output_layer_concatenation1\")(concatenate_layer_1_5)\n",
        "dropout1 = tf.keras.layers.Dropout(0.5 , name = \"dropout1\")(output_concatenate_1_5)\n",
        "\n",
        "\n",
        "#part3\n",
        "input3_5 = tf.keras.layers.Input(shape = (15,) ,dtype = tf.float32 , name = \"input_layer_for_line_positions_model5\")\n",
        "output3_5 = tf.keras.layers.Dense(32 , activation = \"relu\" , name = \"dense3_5_layer_model5\")(input3_5)\n",
        "model3_5 = tf.keras.Model(input3_5 , output3_5)\n",
        "\n",
        "\n",
        "\n",
        "#part4\n",
        "input4_5 = tf.keras.layers.Input(shape = (20,) ,dtype = tf.float32, name = \"input_layer_for_total_lines_model5\")\n",
        "output4_5 = tf.keras.layers.Dense(32 , activation = \"relu\" , name = \"dense4_5_layer_model5\")(input4_5)\n",
        "model4_5 = tf.keras.Model(input4_5 , output4_5)\n",
        "\n",
        "\n",
        "\n",
        "#concatenate part 3 & 4\n",
        "concatenate_layer_2_5 = tf.keras.layers.Concatenate(name = \"concatenate_layer_part_3_and_4\")([model3_5.output , model4_5.output])\n",
        "output_concatenate_2_5 = tf.keras.layers.Dense(64 , activation = \"relu\" , name = \"output_layer_concatenation2\")(concatenate_layer_2_5)\n",
        "dropout2 = tf.keras.layers.Dropout(0.5 , name = \"dropout2\")(output_concatenate_2_5)\n",
        "\n",
        "#concatenate part (1 , 2) & (3 , 4)\n",
        "concatenate_layer_3_5 = tf.keras.layers.Concatenate(name = \"concatenate_layer_part1_and_part2\")([dropout1 , dropout2])\n",
        "output_concatenate_3_5 = tf.keras.layers.Dense(128 , activation = \"relu\" , name = \"ouput_layer_concatenation3\")(concatenate_layer_3_5)\n",
        "dropout3 = tf.keras.layers.Dropout(0.5 , name = \"dropout3\")(output_concatenate_3_5)\n",
        "\n",
        "\n",
        "#output model5\n",
        "#bi_lstm_final = tf.keras.layers.Bidirectional(tf.keras.layers.LSTM(64) , name = \"bidirectional_layer_final_model5\")(output_concatenate_3_5)\n",
        "output5 = tf.keras.layers.Dense(5 , activation = \"softmax\" , name = \"ouput_model5\")(dropout3)\n",
        "\n",
        "\n",
        "model5 = tf.keras.Model([input1_5 , input2_5 , input3_5 , input4_5] , output5)\n",
        "\n",
        "model5.summary()"
      ],
      "metadata": {
        "colab": {
          "base_uri": "https://localhost:8080/"
        },
        "id": "Wm-8TZvuS_Q-",
        "outputId": "b25936cb-c553-4617-9033-d13a3a01565f"
      },
      "execution_count": 121,
      "outputs": [
        {
          "output_type": "stream",
          "name": "stdout",
          "text": [
            "Model: \"model_10\"\n",
            "__________________________________________________________________________________________________\n",
            " Layer (type)                   Output Shape         Param #     Connected to                     \n",
            "==================================================================================================\n",
            " second_input_model5 (InputLaye  [(None, 1)]         0           []                               \n",
            " r)                                                                                               \n",
            "                                                                                                  \n",
            " first_input_model5 (InputLayer  [(None,)]           0           []                               \n",
            " )                                                                                                \n",
            "                                                                                                  \n",
            " text_vectorization_1 (TextVect  (None, 239)         0           ['second_input_model5[0][0]']    \n",
            " orization)                                                                                       \n",
            "                                                                                                  \n",
            " universal_sentence_encoder (Ke  (None, 512)         256797824   ['first_input_model5[0][0]']     \n",
            " rasLayer)                                                                                        \n",
            "                                                                                                  \n",
            " embedding (Embedding)          multiple             8299648     ['text_vectorization_1[2][0]']   \n",
            "                                                                                                  \n",
            " input_layer_for_line_positions  [(None, 15)]        0           []                               \n",
            " _model5 (InputLayer)                                                                             \n",
            "                                                                                                  \n",
            " input_layer_for_total_lines_mo  [(None, 20)]        0           []                               \n",
            " del5 (InputLayer)                                                                                \n",
            "                                                                                                  \n",
            " output1_model5 (Dense)         (None, 128)          65664       ['universal_sentence_encoder[2][0\n",
            "                                                                 ]']                              \n",
            "                                                                                                  \n",
            " bidirectional_layer_model5_par  (None, 56)          35168       ['embedding[1][0]']              \n",
            " t1 (Bidirectional)                                                                               \n",
            "                                                                                                  \n",
            " dense3_5_layer_model5 (Dense)  (None, 32)           512         ['input_layer_for_line_positions_\n",
            "                                                                 model5[0][0]']                   \n",
            "                                                                                                  \n",
            " dense4_5_layer_model5 (Dense)  (None, 32)           672         ['input_layer_for_total_lines_mod\n",
            "                                                                 el5[0][0]']                      \n",
            "                                                                                                  \n",
            " concatenate_layer_model5 (Conc  (None, 184)         0           ['output1_model5[0][0]',         \n",
            " atenate)                                                         'bidirectional_layer_model5_part\n",
            "                                                                 1[0][0]']                        \n",
            "                                                                                                  \n",
            " concatenate_layer_part_3_and_4  (None, 64)          0           ['dense3_5_layer_model5[0][0]',  \n",
            "  (Concatenate)                                                   'dense4_5_layer_model5[0][0]']  \n",
            "                                                                                                  \n",
            " output_layer_concatenation1 (D  (None, 128)         23680       ['concatenate_layer_model5[0][0]'\n",
            " ense)                                                           ]                                \n",
            "                                                                                                  \n",
            " output_layer_concatenation2 (D  (None, 64)          4160        ['concatenate_layer_part_3_and_4[\n",
            " ense)                                                           0][0]']                          \n",
            "                                                                                                  \n",
            " dropout1 (Dropout)             (None, 128)          0           ['output_layer_concatenation1[0][\n",
            "                                                                 0]']                             \n",
            "                                                                                                  \n",
            " dropout2 (Dropout)             (None, 64)           0           ['output_layer_concatenation2[0][\n",
            "                                                                 0]']                             \n",
            "                                                                                                  \n",
            " concatenate_layer_part1_and_pa  (None, 192)         0           ['dropout1[0][0]',               \n",
            " rt2 (Concatenate)                                                'dropout2[0][0]']               \n",
            "                                                                                                  \n",
            " ouput_layer_concatenation3 (De  (None, 128)         24704       ['concatenate_layer_part1_and_par\n",
            " nse)                                                            t2[0][0]']                       \n",
            "                                                                                                  \n",
            " dropout3 (Dropout)             (None, 128)          0           ['ouput_layer_concatenation3[0][0\n",
            "                                                                 ]']                              \n",
            "                                                                                                  \n",
            " ouput_model5 (Dense)           (None, 5)            645         ['dropout3[0][0]']               \n",
            "                                                                                                  \n",
            "==================================================================================================\n",
            "Total params: 265,252,677\n",
            "Trainable params: 8,454,853\n",
            "Non-trainable params: 256,797,824\n",
            "__________________________________________________________________________________________________\n"
          ]
        }
      ]
    },
    {
      "cell_type": "code",
      "source": [
        "tf.keras.utils.plot_model(model5 , show_shapes = True)"
      ],
      "metadata": {
        "colab": {
          "base_uri": "https://localhost:8080/",
          "height": 684
        },
        "id": "NcT7EqDbcfXs",
        "outputId": "32fe3438-16a5-40ec-9649-c3d9f56f4b0a"
      },
      "execution_count": 122,
      "outputs": [
        {
          "output_type": "execute_result",
          "data": {
            "image/png": "[encoded data removed]",
            "text/plain": [
              "<IPython.core.display.Image object>"
            ]
          },
          "metadata": {},
          "execution_count": 122
        }
      ]
    },
    {
      "cell_type": "code",
      "source": [
        "model5.compile(loss = tf.keras.losses.CategoricalCrossentropy(label_smoothing=0.1) , optimizer = tf.keras.optimizers.Adam() , metrics = [\"accuracy\"])"
      ],
      "metadata": {
        "id": "wAjG3RK2ePFT"
      },
      "execution_count": 123,
      "outputs": []
    },
    {
      "cell_type": "code",
      "source": [
        "history5 = model5.fit(train_char_token_pos_dataset , epochs = 3 , steps_per_epoch=len(train_char_token_pos_dataset) , validation_data = validation_char_token_pos_dataset , validation_steps=len(validation_char_token_pos_dataset) , callbacks = [create_tensorboard_callback(\"/content/model\" , \"model5\")])"
      ],
      "metadata": {
        "colab": {
          "base_uri": "https://localhost:8080/"
        },
        "id": "eMe3nWR3fC2q",
        "outputId": "0defc10d-8741-49bf-9da9-9581de1b23b5"
      },
      "execution_count": 124,
      "outputs": [
        {
          "output_type": "stream",
          "name": "stdout",
          "text": [
            "Saving TensorBoard log files to: /content/model/model5/20221225-122346\n",
            "Epoch 1/3\n",
            "5627/5627 [==============================] - 275s 47ms/step - loss: 0.7616 - accuracy: 0.8211 - val_loss: 0.6524 - val_accuracy: 0.8651\n",
            "Epoch 2/3\n",
            "5627/5627 [==============================] - 259s 46ms/step - loss: 0.6878 - accuracy: 0.8595 - val_loss: 0.6383 - val_accuracy: 0.8704\n",
            "Epoch 3/3\n",
            "5627/5627 [==============================] - 258s 46ms/step - loss: 0.6704 - accuracy: 0.8682 - val_loss: 0.6343 - val_accuracy: 0.8728\n"
          ]
        }
      ]
    },
    {
      "cell_type": "code",
      "source": [
        "pd.DataFrame(history5.history).plot()"
      ],
      "metadata": {
        "colab": {
          "base_uri": "https://localhost:8080/",
          "height": 282
        },
        "id": "hm7zWDq_gSAa",
        "outputId": "e2910d9c-0195-40fc-cb32-069a412172b2"
      },
      "execution_count": 125,
      "outputs": [
        {
          "output_type": "execute_result",
          "data": {
            "text/plain": [
              "<matplotlib.axes._subplots.AxesSubplot at 0x7fcd65db7eb0>"
            ]
          },
          "metadata": {},
          "execution_count": 125
        },
        {
          "output_type": "display_data",
          "data": {
            "text/plain": [
              "<Figure size 432x288 with 1 Axes>"
            ],
            "image/png": "[encoded data removed]"
          },
          "metadata": {
            "needs_background": "light"
          }
        }
      ]
    },
    {
      "cell_type": "code",
      "source": [
        "model5_predicts = model5.predict(validation_char_token_pos_dataset)\n"
      ],
      "metadata": {
        "id": "-Ji7XobI0vF6",
        "colab": {
          "base_uri": "https://localhost:8080/"
        },
        "outputId": "8a3c7554-b289-4636-abb2-4f3450e2738a"
      },
      "execution_count": 126,
      "outputs": [
        {
          "output_type": "stream",
          "name": "stdout",
          "text": [
            "945/945 [==============================] - 22s 20ms/step\n"
          ]
        }
      ]
    },
    {
      "cell_type": "code",
      "source": [
        "model5_predicts = tf.argmax(model5_predicts , axis = 1)"
      ],
      "metadata": {
        "id": "gP_r8sjr1AK_"
      },
      "execution_count": 127,
      "outputs": []
    },
    {
      "cell_type": "code",
      "source": [
        "model5_results = calculate_results(validation_label_enc , model5_predicts.numpy())\n",
        "model5_results"
      ],
      "metadata": {
        "colab": {
          "base_uri": "https://localhost:8080/"
        },
        "id": "4HkHkUJr2Xzo",
        "outputId": "207c1a97-ad4b-40c0-95d1-8ba039f24a22"
      },
      "execution_count": 128,
      "outputs": [
        {
          "output_type": "execute_result",
          "data": {
            "text/plain": [
              "{'accuracy': 87.27988878591289,\n",
              " 'precision': 0.8782894894794508,\n",
              " 'recall': 0.8727988878591288,\n",
              " 'f1': 0.8690411166766933}"
            ]
          },
          "metadata": {},
          "execution_count": 128
        }
      ]
    },
    {
      "cell_type": "code",
      "source": [
        "model3_results"
      ],
      "metadata": {
        "colab": {
          "base_uri": "https://localhost:8080/"
        },
        "id": "wEe_Jh1u25KP",
        "outputId": "5cd3fd2a-6dea-487f-d8a5-dfbbd71165fb"
      },
      "execution_count": 129,
      "outputs": [
        {
          "output_type": "execute_result",
          "data": {
            "text/plain": [
              "{'accuracy': 72.33218588640275,\n",
              " 'precision': 0.7242701249410082,\n",
              " 'recall': 0.7233218588640276,\n",
              " 'f1': 0.7168237276485865}"
            ]
          },
          "metadata": {},
          "execution_count": 129
        }
      ]
    },
    {
      "cell_type": "code",
      "source": [
        "model2_results"
      ],
      "metadata": {
        "colab": {
          "base_uri": "https://localhost:8080/"
        },
        "id": "9lMmsO8d3Qk0",
        "outputId": "e08e6dbf-ed94-40c5-b7c8-9b5156203855"
      },
      "execution_count": 130,
      "outputs": [
        {
          "output_type": "execute_result",
          "data": {
            "text/plain": [
              "{'accuracy': 76.24784853700515,\n",
              " 'precision': 0.7593408046561586,\n",
              " 'recall': 0.7624784853700516,\n",
              " 'f1': 0.7579189948145917}"
            ]
          },
          "metadata": {},
          "execution_count": 130
        }
      ]
    },
    {
      "cell_type": "code",
      "source": [
        "model1_results"
      ],
      "metadata": {
        "colab": {
          "base_uri": "https://localhost:8080/"
        },
        "id": "qu0Qr3dY3Ug-",
        "outputId": "64452a5a-fd24-4f9c-9ef3-148a2b698523"
      },
      "execution_count": 131,
      "outputs": [
        {
          "output_type": "execute_result",
          "data": {
            "text/plain": [
              "{'accuracy': 80.80895008605852,\n",
              " 'precision': 0.8049418239957236,\n",
              " 'recall': 0.8080895008605852,\n",
              " 'f1': 0.8053943114979047}"
            ]
          },
          "metadata": {},
          "execution_count": 131
        }
      ]
    },
    {
      "cell_type": "code",
      "source": [
        "model0_results"
      ],
      "metadata": {
        "colab": {
          "base_uri": "https://localhost:8080/"
        },
        "id": "PtOZ6d333VyM",
        "outputId": "152a34f5-6643-409c-c142-d301ed40c863"
      },
      "execution_count": 132,
      "outputs": [
        {
          "output_type": "execute_result",
          "data": {
            "text/plain": [
              "{'accuracy': 72.1832384482987,\n",
              " 'precision': 0.7186466952323352,\n",
              " 'recall': 0.7218323844829869,\n",
              " 'f1': 0.6989250353450294}"
            ]
          },
          "metadata": {},
          "execution_count": 132
        }
      ]
    },
    {
      "cell_type": "code",
      "source": [
        "all_results = pd.DataFrame({\"model0\":model0_results , \"model1\": model1_results , \"model2\":model2_results , \"model3\":model3_results,\"model4\":model4_results , \"model5\":model5_results})"
      ],
      "metadata": {
        "id": "fK-nzYci3XP0"
      },
      "execution_count": 133,
      "outputs": []
    },
    {
      "cell_type": "code",
      "source": [
        "all_results = all_results.transpose()\n",
        "all_results[\"accuracy\"] = all_results[\"accuracy\"] / 100"
      ],
      "metadata": {
        "id": "PBQwkvvI33Bb"
      },
      "execution_count": 134,
      "outputs": []
    },
    {
      "cell_type": "code",
      "source": [
        "all_results.plot(kind=\"bar\", figsize=(10, 7)).legend(bbox_to_anchor=(1, 1));"
      ],
      "metadata": {
        "colab": {
          "base_uri": "https://localhost:8080/",
          "height": 456
        },
        "id": "9Tg2PYNb4CNB",
        "outputId": "5065021a-ba3f-41d5-b3dd-0a7237682c47"
      },
      "execution_count": 135,
      "outputs": [
        {
          "output_type": "display_data",
          "data": {
            "text/plain": [
              "<Figure size 720x504 with 1 Axes>"
            ],
            "image/png": "[encoded data removed]"
          },
          "metadata": {
            "needs_background": "light"
          }
        }
      ]
    },
    {
      "cell_type": "code",
      "source": [
        "validation_pd.head()"
      ],
      "metadata": {
        "colab": {
          "base_uri": "https://localhost:8080/",
          "height": 206
        },
        "id": "5KtYHosL5NGd",
        "outputId": "4e3b5722-627a-463d-d8ad-6c3350677121"
      },
      "execution_count": 136,
      "outputs": [
        {
          "output_type": "execute_result",
          "data": {
            "text/plain": [
              "   line_number  total_lines      target  \\\n",
              "0            0            9  BACKGROUND   \n",
              "1            1            9  BACKGROUND   \n",
              "2            2            9   OBJECTIVE   \n",
              "3            3            9     METHODS   \n",
              "4            4            9     METHODS   \n",
              "\n",
              "                                                text  \n",
              "0  IgE sensitization to Aspergillus fumigatus and...  \n",
              "1  It is not clear whether these patients would b...  \n",
              "2  We sought to determine whether a @-month cours...  \n",
              "3  Asthmatic patients who were IgE sensitized to ...  \n",
              "4  Primary outcomes were improvement in quality o...  "
            ],
            "text/html": [
              "\n",
              "  <div id=\"df-371b5abe-9bd9-40e1-b18a-8f9c6f6d8ee5\">\n",
              "    <div class=\"colab-df-container\">\n",
              "      <div>\n",
              "<style scoped>\n",
              "    .dataframe tbody tr th:only-of-type {\n",
              "        vertical-align: middle;\n",
              "    }\n",
              "\n",
              "    .dataframe tbody tr th {\n",
              "        vertical-align: top;\n",
              "    }\n",
              "\n",
              "    .dataframe thead th {\n",
              "        text-align: right;\n",
              "    }\n",
              "</style>\n",
              "<table border=\"1\" class=\"dataframe\">\n",
              "  <thead>\n",
              "    <tr style=\"text-align: right;\">\n",
              "      <th></th>\n",
              "      <th>line_number</th>\n",
              "      <th>total_lines</th>\n",
              "      <th>target</th>\n",
              "      <th>text</th>\n",
              "    </tr>\n",
              "  </thead>\n",
              "  <tbody>\n",
              "    <tr>\n",
              "      <th>0</th>\n",
              "      <td>0</td>\n",
              "      <td>9</td>\n",
              "      <td>BACKGROUND</td>\n",
              "      <td>IgE sensitization to Aspergillus fumigatus and...</td>\n",
              "    </tr>\n",
              "    <tr>\n",
              "      <th>1</th>\n",
              "      <td>1</td>\n",
              "      <td>9</td>\n",
              "      <td>BACKGROUND</td>\n",
              "      <td>It is not clear whether these patients would b...</td>\n",
              "    </tr>\n",
              "    <tr>\n",
              "      <th>2</th>\n",
              "      <td>2</td>\n",
              "      <td>9</td>\n",
              "      <td>OBJECTIVE</td>\n",
              "      <td>We sought to determine whether a @-month cours...</td>\n",
              "    </tr>\n",
              "    <tr>\n",
              "      <th>3</th>\n",
              "      <td>3</td>\n",
              "      <td>9</td>\n",
              "      <td>METHODS</td>\n",
              "      <td>Asthmatic patients who were IgE sensitized to ...</td>\n",
              "    </tr>\n",
              "    <tr>\n",
              "      <th>4</th>\n",
              "      <td>4</td>\n",
              "      <td>9</td>\n",
              "      <td>METHODS</td>\n",
              "      <td>Primary outcomes were improvement in quality o...</td>\n",
              "    </tr>\n",
              "  </tbody>\n",
              "</table>\n",
              "</div>\n",
              "      <button class=\"colab-df-convert\" onclick=\"convertToInteractive('df-371b5abe-9bd9-40e1-b18a-8f9c6f6d8ee5')\"\n",
              "              title=\"Convert this dataframe to an interactive table.\"\n",
              "              style=\"display:none;\">\n",
              "        \n",
              "  <svg xmlns=\"http://www.w3.org/2000/svg\" height=\"24px\"viewBox=\"0 0 24 24\"\n",
              "       width=\"24px\">\n",
              "    <path d=\"M0 0h24v24H0V0z\" fill=\"none\"/>\n",
              "    <path d=\"M18.56 5.44l.94 2.06.94-2.06 2.06-.94-2.06-.94-.94-2.06-.94 2.06-2.06.94zm-11 1L8.5 8.5l.94-2.06 2.06-.94-2.06-.94L8.5 2.5l-.94 2.06-2.06.94zm10 10l.94 2.06.94-2.06 2.06-.94-2.06-.94-.94-2.06-.94 2.06-2.06.94z\"/><path d=\"M17.41 7.96l-1.37-1.37c-.4-.4-.92-.59-1.43-.59-.52 0-1.04.2-1.43.59L10.3 9.45l-7.72 7.72c-.78.78-.78 2.05 0 2.83L4 21.41c.39.39.9.59 1.41.59.51 0 1.02-.2 1.41-.59l7.78-7.78 2.81-2.81c.8-.78.8-2.07 0-2.86zM5.41 20L4 18.59l7.72-7.72 1.47 1.35L5.41 20z\"/>\n",
              "  </svg>\n",
              "      </button>\n",
              "      \n",
              "  <style>\n",
              "    .colab-df-container {\n",
              "      display:flex;\n",
              "      flex-wrap:wrap;\n",
              "      gap: 12px;\n",
              "    }\n",
              "\n",
              "    .colab-df-convert {\n",
              "      background-color: #E8F0FE;\n",
              "      border: none;\n",
              "      border-radius: 50%;\n",
              "      cursor: pointer;\n",
              "      display: none;\n",
              "      fill: #1967D2;\n",
              "      height: 32px;\n",
              "      padding: 0 0 0 0;\n",
              "      width: 32px;\n",
              "    }\n",
              "\n",
              "    .colab-df-convert:hover {\n",
              "      background-color: #E2EBFA;\n",
              "      box-shadow: 0px 1px 2px rgba(60, 64, 67, 0.3), 0px 1px 3px 1px rgba(60, 64, 67, 0.15);\n",
              "      fill: #174EA6;\n",
              "    }\n",
              "\n",
              "    [theme=dark] .colab-df-convert {\n",
              "      background-color: #3B4455;\n",
              "      fill: #D2E3FC;\n",
              "    }\n",
              "\n",
              "    [theme=dark] .colab-df-convert:hover {\n",
              "      background-color: #434B5C;\n",
              "      box-shadow: 0px 1px 3px 1px rgba(0, 0, 0, 0.15);\n",
              "      filter: drop-shadow(0px 1px 2px rgba(0, 0, 0, 0.3));\n",
              "      fill: #FFFFFF;\n",
              "    }\n",
              "  </style>\n",
              "\n",
              "      <script>\n",
              "        const buttonEl =\n",
              "          document.querySelector('#df-371b5abe-9bd9-40e1-b18a-8f9c6f6d8ee5 button.colab-df-convert');\n",
              "        buttonEl.style.display =\n",
              "          google.colab.kernel.accessAllowed ? 'block' : 'none';\n",
              "\n",
              "        async function convertToInteractive(key) {\n",
              "          const element = document.querySelector('#df-371b5abe-9bd9-40e1-b18a-8f9c6f6d8ee5');\n",
              "          const dataTable =\n",
              "            await google.colab.kernel.invokeFunction('convertToInteractive',\n",
              "                                                     [key], {});\n",
              "          if (!dataTable) return;\n",
              "\n",
              "          const docLinkHtml = 'Like what you see? Visit the ' +\n",
              "            '<a target=\"_blank\" href=https://colab.research.google.com/notebooks/data_table.ipynb>data table notebook</a>'\n",
              "            + ' to learn more about interactive tables.';\n",
              "          element.innerHTML = '';\n",
              "          dataTable['output_type'] = 'display_data';\n",
              "          await google.colab.output.renderOutput(dataTable, element);\n",
              "          const docLink = document.createElement('div');\n",
              "          docLink.innerHTML = docLinkHtml;\n",
              "          element.appendChild(docLink);\n",
              "        }\n",
              "      </script>\n",
              "    </div>\n",
              "  </div>\n",
              "  "
            ]
          },
          "metadata": {},
          "execution_count": 136
        }
      ]
    },
    {
      "cell_type": "code",
      "source": [
        "model5_predicts[:5]"
      ],
      "metadata": {
        "colab": {
          "base_uri": "https://localhost:8080/"
        },
        "id": "XJrYQZ1TCL6l",
        "outputId": "dabc6bcb-8054-4566-d513-be84ab20a12b"
      },
      "execution_count": 137,
      "outputs": [
        {
          "output_type": "execute_result",
          "data": {
            "text/plain": [
              "<tf.Tensor: shape=(5,), dtype=int64, numpy=array([0, 0, 0, 2, 2])>"
            ]
          },
          "metadata": {},
          "execution_count": 137
        }
      ]
    },
    {
      "cell_type": "code",
      "source": [
        "validation_label_enc[:5]"
      ],
      "metadata": {
        "colab": {
          "base_uri": "https://localhost:8080/"
        },
        "id": "5anyP4zeETNE",
        "outputId": "2ab93159-1cce-476a-dcb8-9c052b2af03d"
      },
      "execution_count": 138,
      "outputs": [
        {
          "output_type": "execute_result",
          "data": {
            "text/plain": [
              "array([0, 0, 3, 2, 2])"
            ]
          },
          "metadata": {},
          "execution_count": 138
        }
      ]
    },
    {
      "cell_type": "code",
      "source": [
        "label_encoder.classes_"
      ],
      "metadata": {
        "colab": {
          "base_uri": "https://localhost:8080/"
        },
        "id": "TSwfzW3EEZ-s",
        "outputId": "e4b62ac5-0927-4caa-f7f8-f90a70cfeaeb"
      },
      "execution_count": 139,
      "outputs": [
        {
          "output_type": "execute_result",
          "data": {
            "text/plain": [
              "array(['BACKGROUND', 'CONCLUSIONS', 'METHODS', 'OBJECTIVE', 'RESULTS'],\n",
              "      dtype=object)"
            ]
          },
          "metadata": {},
          "execution_count": 139
        }
      ]
    },
    {
      "cell_type": "code",
      "source": [
        "validation_pd[\"labels\"] = validation_label_enc\n",
        "validation_pd[\"predicts\"] = model5_predicts.numpy()"
      ],
      "metadata": {
        "id": "wcnQLlqhEzWi"
      },
      "execution_count": 140,
      "outputs": []
    },
    {
      "cell_type": "code",
      "source": [
        "validation_pd.head()"
      ],
      "metadata": {
        "colab": {
          "base_uri": "https://localhost:8080/",
          "height": 206
        },
        "id": "Xt9W6ETaFGXI",
        "outputId": "80ef355b-1af9-4e62-c145-71f403bb6cc2"
      },
      "execution_count": 141,
      "outputs": [
        {
          "output_type": "execute_result",
          "data": {
            "text/plain": [
              "   line_number  total_lines      target  \\\n",
              "0            0            9  BACKGROUND   \n",
              "1            1            9  BACKGROUND   \n",
              "2            2            9   OBJECTIVE   \n",
              "3            3            9     METHODS   \n",
              "4            4            9     METHODS   \n",
              "\n",
              "                                                text  labels  predicts  \n",
              "0  IgE sensitization to Aspergillus fumigatus and...       0         0  \n",
              "1  It is not clear whether these patients would b...       0         0  \n",
              "2  We sought to determine whether a @-month cours...       3         0  \n",
              "3  Asthmatic patients who were IgE sensitized to ...       2         2  \n",
              "4  Primary outcomes were improvement in quality o...       2         2  "
            ],
            "text/html": [
              "\n",
              "  <div id=\"df-836ec76c-18e6-47a8-97bb-a0f6ae2a1dc5\">\n",
              "    <div class=\"colab-df-container\">\n",
              "      <div>\n",
              "<style scoped>\n",
              "    .dataframe tbody tr th:only-of-type {\n",
              "        vertical-align: middle;\n",
              "    }\n",
              "\n",
              "    .dataframe tbody tr th {\n",
              "        vertical-align: top;\n",
              "    }\n",
              "\n",
              "    .dataframe thead th {\n",
              "        text-align: right;\n",
              "    }\n",
              "</style>\n",
              "<table border=\"1\" class=\"dataframe\">\n",
              "  <thead>\n",
              "    <tr style=\"text-align: right;\">\n",
              "      <th></th>\n",
              "      <th>line_number</th>\n",
              "      <th>total_lines</th>\n",
              "      <th>target</th>\n",
              "      <th>text</th>\n",
              "      <th>labels</th>\n",
              "      <th>predicts</th>\n",
              "    </tr>\n",
              "  </thead>\n",
              "  <tbody>\n",
              "    <tr>\n",
              "      <th>0</th>\n",
              "      <td>0</td>\n",
              "      <td>9</td>\n",
              "      <td>BACKGROUND</td>\n",
              "      <td>IgE sensitization to Aspergillus fumigatus and...</td>\n",
              "      <td>0</td>\n",
              "      <td>0</td>\n",
              "    </tr>\n",
              "    <tr>\n",
              "      <th>1</th>\n",
              "      <td>1</td>\n",
              "      <td>9</td>\n",
              "      <td>BACKGROUND</td>\n",
              "      <td>It is not clear whether these patients would b...</td>\n",
              "      <td>0</td>\n",
              "      <td>0</td>\n",
              "    </tr>\n",
              "    <tr>\n",
              "      <th>2</th>\n",
              "      <td>2</td>\n",
              "      <td>9</td>\n",
              "      <td>OBJECTIVE</td>\n",
              "      <td>We sought to determine whether a @-month cours...</td>\n",
              "      <td>3</td>\n",
              "      <td>0</td>\n",
              "    </tr>\n",
              "    <tr>\n",
              "      <th>3</th>\n",
              "      <td>3</td>\n",
              "      <td>9</td>\n",
              "      <td>METHODS</td>\n",
              "      <td>Asthmatic patients who were IgE sensitized to ...</td>\n",
              "      <td>2</td>\n",
              "      <td>2</td>\n",
              "    </tr>\n",
              "    <tr>\n",
              "      <th>4</th>\n",
              "      <td>4</td>\n",
              "      <td>9</td>\n",
              "      <td>METHODS</td>\n",
              "      <td>Primary outcomes were improvement in quality o...</td>\n",
              "      <td>2</td>\n",
              "      <td>2</td>\n",
              "    </tr>\n",
              "  </tbody>\n",
              "</table>\n",
              "</div>\n",
              "      <button class=\"colab-df-convert\" onclick=\"convertToInteractive('df-836ec76c-18e6-47a8-97bb-a0f6ae2a1dc5')\"\n",
              "              title=\"Convert this dataframe to an interactive table.\"\n",
              "              style=\"display:none;\">\n",
              "        \n",
              "  <svg xmlns=\"http://www.w3.org/2000/svg\" height=\"24px\"viewBox=\"0 0 24 24\"\n",
              "       width=\"24px\">\n",
              "    <path d=\"M0 0h24v24H0V0z\" fill=\"none\"/>\n",
              "    <path d=\"M18.56 5.44l.94 2.06.94-2.06 2.06-.94-2.06-.94-.94-2.06-.94 2.06-2.06.94zm-11 1L8.5 8.5l.94-2.06 2.06-.94-2.06-.94L8.5 2.5l-.94 2.06-2.06.94zm10 10l.94 2.06.94-2.06 2.06-.94-2.06-.94-.94-2.06-.94 2.06-2.06.94z\"/><path d=\"M17.41 7.96l-1.37-1.37c-.4-.4-.92-.59-1.43-.59-.52 0-1.04.2-1.43.59L10.3 9.45l-7.72 7.72c-.78.78-.78 2.05 0 2.83L4 21.41c.39.39.9.59 1.41.59.51 0 1.02-.2 1.41-.59l7.78-7.78 2.81-2.81c.8-.78.8-2.07 0-2.86zM5.41 20L4 18.59l7.72-7.72 1.47 1.35L5.41 20z\"/>\n",
              "  </svg>\n",
              "      </button>\n",
              "      \n",
              "  <style>\n",
              "    .colab-df-container {\n",
              "      display:flex;\n",
              "      flex-wrap:wrap;\n",
              "      gap: 12px;\n",
              "    }\n",
              "\n",
              "    .colab-df-convert {\n",
              "      background-color: #E8F0FE;\n",
              "      border: none;\n",
              "      border-radius: 50%;\n",
              "      cursor: pointer;\n",
              "      display: none;\n",
              "      fill: #1967D2;\n",
              "      height: 32px;\n",
              "      padding: 0 0 0 0;\n",
              "      width: 32px;\n",
              "    }\n",
              "\n",
              "    .colab-df-convert:hover {\n",
              "      background-color: #E2EBFA;\n",
              "      box-shadow: 0px 1px 2px rgba(60, 64, 67, 0.3), 0px 1px 3px 1px rgba(60, 64, 67, 0.15);\n",
              "      fill: #174EA6;\n",
              "    }\n",
              "\n",
              "    [theme=dark] .colab-df-convert {\n",
              "      background-color: #3B4455;\n",
              "      fill: #D2E3FC;\n",
              "    }\n",
              "\n",
              "    [theme=dark] .colab-df-convert:hover {\n",
              "      background-color: #434B5C;\n",
              "      box-shadow: 0px 1px 3px 1px rgba(0, 0, 0, 0.15);\n",
              "      filter: drop-shadow(0px 1px 2px rgba(0, 0, 0, 0.3));\n",
              "      fill: #FFFFFF;\n",
              "    }\n",
              "  </style>\n",
              "\n",
              "      <script>\n",
              "        const buttonEl =\n",
              "          document.querySelector('#df-836ec76c-18e6-47a8-97bb-a0f6ae2a1dc5 button.colab-df-convert');\n",
              "        buttonEl.style.display =\n",
              "          google.colab.kernel.accessAllowed ? 'block' : 'none';\n",
              "\n",
              "        async function convertToInteractive(key) {\n",
              "          const element = document.querySelector('#df-836ec76c-18e6-47a8-97bb-a0f6ae2a1dc5');\n",
              "          const dataTable =\n",
              "            await google.colab.kernel.invokeFunction('convertToInteractive',\n",
              "                                                     [key], {});\n",
              "          if (!dataTable) return;\n",
              "\n",
              "          const docLinkHtml = 'Like what you see? Visit the ' +\n",
              "            '<a target=\"_blank\" href=https://colab.research.google.com/notebooks/data_table.ipynb>data table notebook</a>'\n",
              "            + ' to learn more about interactive tables.';\n",
              "          element.innerHTML = '';\n",
              "          dataTable['output_type'] = 'display_data';\n",
              "          await google.colab.output.renderOutput(dataTable, element);\n",
              "          const docLink = document.createElement('div');\n",
              "          docLink.innerHTML = docLinkHtml;\n",
              "          element.appendChild(docLink);\n",
              "        }\n",
              "      </script>\n",
              "    </div>\n",
              "  </div>\n",
              "  "
            ]
          },
          "metadata": {},
          "execution_count": 141
        }
      ]
    },
    {
      "cell_type": "code",
      "source": [
        "equation = np.where((validation_pd[\"labels\"] == validation_pd[\"predicts\"]) , True , False)\n",
        "equation"
      ],
      "metadata": {
        "colab": {
          "base_uri": "https://localhost:8080/"
        },
        "id": "bg1daUpDFIQI",
        "outputId": "eb86c4e9-151a-4955-bb83-723bc64fcfe4"
      },
      "execution_count": 142,
      "outputs": [
        {
          "output_type": "execute_result",
          "data": {
            "text/plain": [
              "array([ True,  True, False, ...,  True, False,  True])"
            ]
          },
          "metadata": {},
          "execution_count": 142
        }
      ]
    },
    {
      "cell_type": "code",
      "source": [
        "model5_predict_probs = model5.predict(validation_char_token_pos_dataset)"
      ],
      "metadata": {
        "id": "xUKDNXQ8C_uo",
        "colab": {
          "base_uri": "https://localhost:8080/"
        },
        "outputId": "3b7d648c-3070-4857-a579-4853d325c741"
      },
      "execution_count": 143,
      "outputs": [
        {
          "output_type": "stream",
          "name": "stdout",
          "text": [
            "945/945 [==============================] - 19s 20ms/step\n"
          ]
        }
      ]
    },
    {
      "cell_type": "code",
      "source": [
        "model5_predict_probs = model5_predict_probs.max(axis = 1)"
      ],
      "metadata": {
        "id": "KnRBzYtMDGN2"
      },
      "execution_count": 144,
      "outputs": []
    },
    {
      "cell_type": "code",
      "source": [
        "validation_pd[\"equ\"] = equation"
      ],
      "metadata": {
        "id": "nDPxvgBNGf2i"
      },
      "execution_count": 145,
      "outputs": []
    },
    {
      "cell_type": "code",
      "source": [
        "validation_pd[\"probs\"] = model5_predict_probs\n",
        "validation_pd"
      ],
      "metadata": {
        "colab": {
          "base_uri": "https://localhost:8080/",
          "height": 424
        },
        "id": "lIQOkgChDPaT",
        "outputId": "6da88d41-27ef-4e72-d89b-34e1d35289df"
      },
      "execution_count": 146,
      "outputs": [
        {
          "output_type": "execute_result",
          "data": {
            "text/plain": [
              "       line_number  total_lines       target  \\\n",
              "0                0            9   BACKGROUND   \n",
              "1                1            9   BACKGROUND   \n",
              "2                2            9    OBJECTIVE   \n",
              "3                3            9      METHODS   \n",
              "4                4            9      METHODS   \n",
              "...            ...          ...          ...   \n",
              "30207            9           13      RESULTS   \n",
              "30208           10           13      RESULTS   \n",
              "30209           11           13      RESULTS   \n",
              "30210           12           13  CONCLUSIONS   \n",
              "30211           13           13  CONCLUSIONS   \n",
              "\n",
              "                                                    text  labels  predicts  \\\n",
              "0      IgE sensitization to Aspergillus fumigatus and...       0         0   \n",
              "1      It is not clear whether these patients would b...       0         0   \n",
              "2      We sought to determine whether a @-month cours...       3         0   \n",
              "3      Asthmatic patients who were IgE sensitized to ...       2         2   \n",
              "4      Primary outcomes were improvement in quality o...       2         2   \n",
              "...                                                  ...     ...       ...   \n",
              "30207  Pruritus occurred more frequently with the act...       4         4   \n",
              "30208  Three patients in the active-regimen group ( @...       4         4   \n",
              "30209  Hemoglobin values of grade @ ( @ to < @ g per ...       4         4   \n",
              "30210  Rates of response to a @-week interferon-free ...       1         4   \n",
              "30211  ( Funded by AbbVie ; SAPPHIRE-II ClinicalTrial...       1         1   \n",
              "\n",
              "         equ     probs  \n",
              "0       True  0.705052  \n",
              "1       True  0.695842  \n",
              "2      False  0.461832  \n",
              "3       True  0.788358  \n",
              "4       True  0.910057  \n",
              "...      ...       ...  \n",
              "30207   True  0.923407  \n",
              "30208   True  0.924219  \n",
              "30209   True  0.912190  \n",
              "30210  False  0.657290  \n",
              "30211   True  0.930507  \n",
              "\n",
              "[30212 rows x 8 columns]"
            ],
            "text/html": [
              "\n",
              "  <div id=\"df-d4c514b3-a0ef-4027-a56e-8669a0e87977\">\n",
              "    <div class=\"colab-df-container\">\n",
              "      <div>\n",
              "<style scoped>\n",
              "    .dataframe tbody tr th:only-of-type {\n",
              "        vertical-align: middle;\n",
              "    }\n",
              "\n",
              "    .dataframe tbody tr th {\n",
              "        vertical-align: top;\n",
              "    }\n",
              "\n",
              "    .dataframe thead th {\n",
              "        text-align: right;\n",
              "    }\n",
              "</style>\n",
              "<table border=\"1\" class=\"dataframe\">\n",
              "  <thead>\n",
              "    <tr style=\"text-align: right;\">\n",
              "      <th></th>\n",
              "      <th>line_number</th>\n",
              "      <th>total_lines</th>\n",
              "      <th>target</th>\n",
              "      <th>text</th>\n",
              "      <th>labels</th>\n",
              "      <th>predicts</th>\n",
              "      <th>equ</th>\n",
              "      <th>probs</th>\n",
              "    </tr>\n",
              "  </thead>\n",
              "  <tbody>\n",
              "    <tr>\n",
              "      <th>0</th>\n",
              "      <td>0</td>\n",
              "      <td>9</td>\n",
              "      <td>BACKGROUND</td>\n",
              "      <td>IgE sensitization to Aspergillus fumigatus and...</td>\n",
              "      <td>0</td>\n",
              "      <td>0</td>\n",
              "      <td>True</td>\n",
              "      <td>0.705052</td>\n",
              "    </tr>\n",
              "    <tr>\n",
              "      <th>1</th>\n",
              "      <td>1</td>\n",
              "      <td>9</td>\n",
              "      <td>BACKGROUND</td>\n",
              "      <td>It is not clear whether these patients would b...</td>\n",
              "      <td>0</td>\n",
              "      <td>0</td>\n",
              "      <td>True</td>\n",
              "      <td>0.695842</td>\n",
              "    </tr>\n",
              "    <tr>\n",
              "      <th>2</th>\n",
              "      <td>2</td>\n",
              "      <td>9</td>\n",
              "      <td>OBJECTIVE</td>\n",
              "      <td>We sought to determine whether a @-month cours...</td>\n",
              "      <td>3</td>\n",
              "      <td>0</td>\n",
              "      <td>False</td>\n",
              "      <td>0.461832</td>\n",
              "    </tr>\n",
              "    <tr>\n",
              "      <th>3</th>\n",
              "      <td>3</td>\n",
              "      <td>9</td>\n",
              "      <td>METHODS</td>\n",
              "      <td>Asthmatic patients who were IgE sensitized to ...</td>\n",
              "      <td>2</td>\n",
              "      <td>2</td>\n",
              "      <td>True</td>\n",
              "      <td>0.788358</td>\n",
              "    </tr>\n",
              "    <tr>\n",
              "      <th>4</th>\n",
              "      <td>4</td>\n",
              "      <td>9</td>\n",
              "      <td>METHODS</td>\n",
              "      <td>Primary outcomes were improvement in quality o...</td>\n",
              "      <td>2</td>\n",
              "      <td>2</td>\n",
              "      <td>True</td>\n",
              "      <td>0.910057</td>\n",
              "    </tr>\n",
              "    <tr>\n",
              "      <th>...</th>\n",
              "      <td>...</td>\n",
              "      <td>...</td>\n",
              "      <td>...</td>\n",
              "      <td>...</td>\n",
              "      <td>...</td>\n",
              "      <td>...</td>\n",
              "      <td>...</td>\n",
              "      <td>...</td>\n",
              "    </tr>\n",
              "    <tr>\n",
              "      <th>30207</th>\n",
              "      <td>9</td>\n",
              "      <td>13</td>\n",
              "      <td>RESULTS</td>\n",
              "      <td>Pruritus occurred more frequently with the act...</td>\n",
              "      <td>4</td>\n",
              "      <td>4</td>\n",
              "      <td>True</td>\n",
              "      <td>0.923407</td>\n",
              "    </tr>\n",
              "    <tr>\n",
              "      <th>30208</th>\n",
              "      <td>10</td>\n",
              "      <td>13</td>\n",
              "      <td>RESULTS</td>\n",
              "      <td>Three patients in the active-regimen group ( @...</td>\n",
              "      <td>4</td>\n",
              "      <td>4</td>\n",
              "      <td>True</td>\n",
              "      <td>0.924219</td>\n",
              "    </tr>\n",
              "    <tr>\n",
              "      <th>30209</th>\n",
              "      <td>11</td>\n",
              "      <td>13</td>\n",
              "      <td>RESULTS</td>\n",
              "      <td>Hemoglobin values of grade @ ( @ to &lt; @ g per ...</td>\n",
              "      <td>4</td>\n",
              "      <td>4</td>\n",
              "      <td>True</td>\n",
              "      <td>0.912190</td>\n",
              "    </tr>\n",
              "    <tr>\n",
              "      <th>30210</th>\n",
              "      <td>12</td>\n",
              "      <td>13</td>\n",
              "      <td>CONCLUSIONS</td>\n",
              "      <td>Rates of response to a @-week interferon-free ...</td>\n",
              "      <td>1</td>\n",
              "      <td>4</td>\n",
              "      <td>False</td>\n",
              "      <td>0.657290</td>\n",
              "    </tr>\n",
              "    <tr>\n",
              "      <th>30211</th>\n",
              "      <td>13</td>\n",
              "      <td>13</td>\n",
              "      <td>CONCLUSIONS</td>\n",
              "      <td>( Funded by AbbVie ; SAPPHIRE-II ClinicalTrial...</td>\n",
              "      <td>1</td>\n",
              "      <td>1</td>\n",
              "      <td>True</td>\n",
              "      <td>0.930507</td>\n",
              "    </tr>\n",
              "  </tbody>\n",
              "</table>\n",
              "<p>30212 rows × 8 columns</p>\n",
              "</div>\n",
              "      <button class=\"colab-df-convert\" onclick=\"convertToInteractive('df-d4c514b3-a0ef-4027-a56e-8669a0e87977')\"\n",
              "              title=\"Convert this dataframe to an interactive table.\"\n",
              "              style=\"display:none;\">\n",
              "        \n",
              "  <svg xmlns=\"http://www.w3.org/2000/svg\" height=\"24px\"viewBox=\"0 0 24 24\"\n",
              "       width=\"24px\">\n",
              "    <path d=\"M0 0h24v24H0V0z\" fill=\"none\"/>\n",
              "    <path d=\"M18.56 5.44l.94 2.06.94-2.06 2.06-.94-2.06-.94-.94-2.06-.94 2.06-2.06.94zm-11 1L8.5 8.5l.94-2.06 2.06-.94-2.06-.94L8.5 2.5l-.94 2.06-2.06.94zm10 10l.94 2.06.94-2.06 2.06-.94-2.06-.94-.94-2.06-.94 2.06-2.06.94z\"/><path d=\"M17.41 7.96l-1.37-1.37c-.4-.4-.92-.59-1.43-.59-.52 0-1.04.2-1.43.59L10.3 9.45l-7.72 7.72c-.78.78-.78 2.05 0 2.83L4 21.41c.39.39.9.59 1.41.59.51 0 1.02-.2 1.41-.59l7.78-7.78 2.81-2.81c.8-.78.8-2.07 0-2.86zM5.41 20L4 18.59l7.72-7.72 1.47 1.35L5.41 20z\"/>\n",
              "  </svg>\n",
              "      </button>\n",
              "      \n",
              "  <style>\n",
              "    .colab-df-container {\n",
              "      display:flex;\n",
              "      flex-wrap:wrap;\n",
              "      gap: 12px;\n",
              "    }\n",
              "\n",
              "    .colab-df-convert {\n",
              "      background-color: #E8F0FE;\n",
              "      border: none;\n",
              "      border-radius: 50%;\n",
              "      cursor: pointer;\n",
              "      display: none;\n",
              "      fill: #1967D2;\n",
              "      height: 32px;\n",
              "      padding: 0 0 0 0;\n",
              "      width: 32px;\n",
              "    }\n",
              "\n",
              "    .colab-df-convert:hover {\n",
              "      background-color: #E2EBFA;\n",
              "      box-shadow: 0px 1px 2px rgba(60, 64, 67, 0.3), 0px 1px 3px 1px rgba(60, 64, 67, 0.15);\n",
              "      fill: #174EA6;\n",
              "    }\n",
              "\n",
              "    [theme=dark] .colab-df-convert {\n",
              "      background-color: #3B4455;\n",
              "      fill: #D2E3FC;\n",
              "    }\n",
              "\n",
              "    [theme=dark] .colab-df-convert:hover {\n",
              "      background-color: #434B5C;\n",
              "      box-shadow: 0px 1px 3px 1px rgba(0, 0, 0, 0.15);\n",
              "      filter: drop-shadow(0px 1px 2px rgba(0, 0, 0, 0.3));\n",
              "      fill: #FFFFFF;\n",
              "    }\n",
              "  </style>\n",
              "\n",
              "      <script>\n",
              "        const buttonEl =\n",
              "          document.querySelector('#df-d4c514b3-a0ef-4027-a56e-8669a0e87977 button.colab-df-convert');\n",
              "        buttonEl.style.display =\n",
              "          google.colab.kernel.accessAllowed ? 'block' : 'none';\n",
              "\n",
              "        async function convertToInteractive(key) {\n",
              "          const element = document.querySelector('#df-d4c514b3-a0ef-4027-a56e-8669a0e87977');\n",
              "          const dataTable =\n",
              "            await google.colab.kernel.invokeFunction('convertToInteractive',\n",
              "                                                     [key], {});\n",
              "          if (!dataTable) return;\n",
              "\n",
              "          const docLinkHtml = 'Like what you see? Visit the ' +\n",
              "            '<a target=\"_blank\" href=https://colab.research.google.com/notebooks/data_table.ipynb>data table notebook</a>'\n",
              "            + ' to learn more about interactive tables.';\n",
              "          element.innerHTML = '';\n",
              "          dataTable['output_type'] = 'display_data';\n",
              "          await google.colab.output.renderOutput(dataTable, element);\n",
              "          const docLink = document.createElement('div');\n",
              "          docLink.innerHTML = docLinkHtml;\n",
              "          element.appendChild(docLink);\n",
              "        }\n",
              "      </script>\n",
              "    </div>\n",
              "  </div>\n",
              "  "
            ]
          },
          "metadata": {},
          "execution_count": 146
        }
      ]
    },
    {
      "cell_type": "code",
      "source": [
        "wrong_prediction = validation_pd[validation_pd[\"equ\"] == False]"
      ],
      "metadata": {
        "id": "U3EgiryRV3OY"
      },
      "execution_count": 147,
      "outputs": []
    },
    {
      "cell_type": "code",
      "source": [
        "most_wrong_predictions = wrong_prediction.sort_values(\"probs\",ascending = False )\n",
        "most_wrong_predictions"
      ],
      "metadata": {
        "colab": {
          "base_uri": "https://localhost:8080/",
          "height": 424
        },
        "id": "j1OoUe1xChxB",
        "outputId": "1f96f9ac-182f-4797-d8a0-44262197f78d"
      },
      "execution_count": 148,
      "outputs": [
        {
          "output_type": "execute_result",
          "data": {
            "text/plain": [
              "       line_number  total_lines       target  \\\n",
              "21580            0           12   BACKGROUND   \n",
              "15279            0           14   BACKGROUND   \n",
              "18115            0           11   BACKGROUND   \n",
              "6709             7           14      METHODS   \n",
              "4812            11           18  CONCLUSIONS   \n",
              "...            ...          ...          ...   \n",
              "7858             8           16   BACKGROUND   \n",
              "21850            3            3  CONCLUSIONS   \n",
              "9509             4           10   BACKGROUND   \n",
              "9808             6           12      RESULTS   \n",
              "11709            3            3  CONCLUSIONS   \n",
              "\n",
              "                                                    text  labels  predicts  \\\n",
              "21580  To evaluate the potential efficacy and safety ...       0         3   \n",
              "15279  To assess the short-term efficacy and safety o...       0         3   \n",
              "18115  To test the hypothesis that the administration...       0         3   \n",
              "6709   @ ( @ % ) of the @ eligible patients were enro...       2         4   \n",
              "4812   On intention-to-treat analysis , both the PKEP...       1         4   \n",
              "...                                                  ...     ...       ...   \n",
              "7858         Wound healing can be accelerated with ECA .       0         2   \n",
              "21850  Our results suggest that oral glucose , even i...       1         2   \n",
              "9509   The aim of the current study was to analyze th...       0         2   \n",
              "9808   Analysis of the value of further information i...       4         2   \n",
              "11709  The integrated treatment of traditional Chines...       1         2   \n",
              "\n",
              "         equ     probs  \n",
              "21580  False  0.967849  \n",
              "15279  False  0.960659  \n",
              "18115  False  0.956040  \n",
              "6709   False  0.954684  \n",
              "4812   False  0.954220  \n",
              "...      ...       ...  \n",
              "7858   False  0.288635  \n",
              "21850  False  0.288470  \n",
              "9509   False  0.284831  \n",
              "9808   False  0.279886  \n",
              "11709  False  0.273493  \n",
              "\n",
              "[3843 rows x 8 columns]"
            ],
            "text/html": [
              "\n",
              "  <div id=\"df-a5800c54-b05b-44bc-893a-e529c934ff97\">\n",
              "    <div class=\"colab-df-container\">\n",
              "      <div>\n",
              "<style scoped>\n",
              "    .dataframe tbody tr th:only-of-type {\n",
              "        vertical-align: middle;\n",
              "    }\n",
              "\n",
              "    .dataframe tbody tr th {\n",
              "        vertical-align: top;\n",
              "    }\n",
              "\n",
              "    .dataframe thead th {\n",
              "        text-align: right;\n",
              "    }\n",
              "</style>\n",
              "<table border=\"1\" class=\"dataframe\">\n",
              "  <thead>\n",
              "    <tr style=\"text-align: right;\">\n",
              "      <th></th>\n",
              "      <th>line_number</th>\n",
              "      <th>total_lines</th>\n",
              "      <th>target</th>\n",
              "      <th>text</th>\n",
              "      <th>labels</th>\n",
              "      <th>predicts</th>\n",
              "      <th>equ</th>\n",
              "      <th>probs</th>\n",
              "    </tr>\n",
              "  </thead>\n",
              "  <tbody>\n",
              "    <tr>\n",
              "      <th>21580</th>\n",
              "      <td>0</td>\n",
              "      <td>12</td>\n",
              "      <td>BACKGROUND</td>\n",
              "      <td>To evaluate the potential efficacy and safety ...</td>\n",
              "      <td>0</td>\n",
              "      <td>3</td>\n",
              "      <td>False</td>\n",
              "      <td>0.967849</td>\n",
              "    </tr>\n",
              "    <tr>\n",
              "      <th>15279</th>\n",
              "      <td>0</td>\n",
              "      <td>14</td>\n",
              "      <td>BACKGROUND</td>\n",
              "      <td>To assess the short-term efficacy and safety o...</td>\n",
              "      <td>0</td>\n",
              "      <td>3</td>\n",
              "      <td>False</td>\n",
              "      <td>0.960659</td>\n",
              "    </tr>\n",
              "    <tr>\n",
              "      <th>18115</th>\n",
              "      <td>0</td>\n",
              "      <td>11</td>\n",
              "      <td>BACKGROUND</td>\n",
              "      <td>To test the hypothesis that the administration...</td>\n",
              "      <td>0</td>\n",
              "      <td>3</td>\n",
              "      <td>False</td>\n",
              "      <td>0.956040</td>\n",
              "    </tr>\n",
              "    <tr>\n",
              "      <th>6709</th>\n",
              "      <td>7</td>\n",
              "      <td>14</td>\n",
              "      <td>METHODS</td>\n",
              "      <td>@ ( @ % ) of the @ eligible patients were enro...</td>\n",
              "      <td>2</td>\n",
              "      <td>4</td>\n",
              "      <td>False</td>\n",
              "      <td>0.954684</td>\n",
              "    </tr>\n",
              "    <tr>\n",
              "      <th>4812</th>\n",
              "      <td>11</td>\n",
              "      <td>18</td>\n",
              "      <td>CONCLUSIONS</td>\n",
              "      <td>On intention-to-treat analysis , both the PKEP...</td>\n",
              "      <td>1</td>\n",
              "      <td>4</td>\n",
              "      <td>False</td>\n",
              "      <td>0.954220</td>\n",
              "    </tr>\n",
              "    <tr>\n",
              "      <th>...</th>\n",
              "      <td>...</td>\n",
              "      <td>...</td>\n",
              "      <td>...</td>\n",
              "      <td>...</td>\n",
              "      <td>...</td>\n",
              "      <td>...</td>\n",
              "      <td>...</td>\n",
              "      <td>...</td>\n",
              "    </tr>\n",
              "    <tr>\n",
              "      <th>7858</th>\n",
              "      <td>8</td>\n",
              "      <td>16</td>\n",
              "      <td>BACKGROUND</td>\n",
              "      <td>Wound healing can be accelerated with ECA .</td>\n",
              "      <td>0</td>\n",
              "      <td>2</td>\n",
              "      <td>False</td>\n",
              "      <td>0.288635</td>\n",
              "    </tr>\n",
              "    <tr>\n",
              "      <th>21850</th>\n",
              "      <td>3</td>\n",
              "      <td>3</td>\n",
              "      <td>CONCLUSIONS</td>\n",
              "      <td>Our results suggest that oral glucose , even i...</td>\n",
              "      <td>1</td>\n",
              "      <td>2</td>\n",
              "      <td>False</td>\n",
              "      <td>0.288470</td>\n",
              "    </tr>\n",
              "    <tr>\n",
              "      <th>9509</th>\n",
              "      <td>4</td>\n",
              "      <td>10</td>\n",
              "      <td>BACKGROUND</td>\n",
              "      <td>The aim of the current study was to analyze th...</td>\n",
              "      <td>0</td>\n",
              "      <td>2</td>\n",
              "      <td>False</td>\n",
              "      <td>0.284831</td>\n",
              "    </tr>\n",
              "    <tr>\n",
              "      <th>9808</th>\n",
              "      <td>6</td>\n",
              "      <td>12</td>\n",
              "      <td>RESULTS</td>\n",
              "      <td>Analysis of the value of further information i...</td>\n",
              "      <td>4</td>\n",
              "      <td>2</td>\n",
              "      <td>False</td>\n",
              "      <td>0.279886</td>\n",
              "    </tr>\n",
              "    <tr>\n",
              "      <th>11709</th>\n",
              "      <td>3</td>\n",
              "      <td>3</td>\n",
              "      <td>CONCLUSIONS</td>\n",
              "      <td>The integrated treatment of traditional Chines...</td>\n",
              "      <td>1</td>\n",
              "      <td>2</td>\n",
              "      <td>False</td>\n",
              "      <td>0.273493</td>\n",
              "    </tr>\n",
              "  </tbody>\n",
              "</table>\n",
              "<p>3843 rows × 8 columns</p>\n",
              "</div>\n",
              "      <button class=\"colab-df-convert\" onclick=\"convertToInteractive('df-a5800c54-b05b-44bc-893a-e529c934ff97')\"\n",
              "              title=\"Convert this dataframe to an interactive table.\"\n",
              "              style=\"display:none;\">\n",
              "        \n",
              "  <svg xmlns=\"http://www.w3.org/2000/svg\" height=\"24px\"viewBox=\"0 0 24 24\"\n",
              "       width=\"24px\">\n",
              "    <path d=\"M0 0h24v24H0V0z\" fill=\"none\"/>\n",
              "    <path d=\"M18.56 5.44l.94 2.06.94-2.06 2.06-.94-2.06-.94-.94-2.06-.94 2.06-2.06.94zm-11 1L8.5 8.5l.94-2.06 2.06-.94-2.06-.94L8.5 2.5l-.94 2.06-2.06.94zm10 10l.94 2.06.94-2.06 2.06-.94-2.06-.94-.94-2.06-.94 2.06-2.06.94z\"/><path d=\"M17.41 7.96l-1.37-1.37c-.4-.4-.92-.59-1.43-.59-.52 0-1.04.2-1.43.59L10.3 9.45l-7.72 7.72c-.78.78-.78 2.05 0 2.83L4 21.41c.39.39.9.59 1.41.59.51 0 1.02-.2 1.41-.59l7.78-7.78 2.81-2.81c.8-.78.8-2.07 0-2.86zM5.41 20L4 18.59l7.72-7.72 1.47 1.35L5.41 20z\"/>\n",
              "  </svg>\n",
              "      </button>\n",
              "      \n",
              "  <style>\n",
              "    .colab-df-container {\n",
              "      display:flex;\n",
              "      flex-wrap:wrap;\n",
              "      gap: 12px;\n",
              "    }\n",
              "\n",
              "    .colab-df-convert {\n",
              "      background-color: #E8F0FE;\n",
              "      border: none;\n",
              "      border-radius: 50%;\n",
              "      cursor: pointer;\n",
              "      display: none;\n",
              "      fill: #1967D2;\n",
              "      height: 32px;\n",
              "      padding: 0 0 0 0;\n",
              "      width: 32px;\n",
              "    }\n",
              "\n",
              "    .colab-df-convert:hover {\n",
              "      background-color: #E2EBFA;\n",
              "      box-shadow: 0px 1px 2px rgba(60, 64, 67, 0.3), 0px 1px 3px 1px rgba(60, 64, 67, 0.15);\n",
              "      fill: #174EA6;\n",
              "    }\n",
              "\n",
              "    [theme=dark] .colab-df-convert {\n",
              "      background-color: #3B4455;\n",
              "      fill: #D2E3FC;\n",
              "    }\n",
              "\n",
              "    [theme=dark] .colab-df-convert:hover {\n",
              "      background-color: #434B5C;\n",
              "      box-shadow: 0px 1px 3px 1px rgba(0, 0, 0, 0.15);\n",
              "      filter: drop-shadow(0px 1px 2px rgba(0, 0, 0, 0.3));\n",
              "      fill: #FFFFFF;\n",
              "    }\n",
              "  </style>\n",
              "\n",
              "      <script>\n",
              "        const buttonEl =\n",
              "          document.querySelector('#df-a5800c54-b05b-44bc-893a-e529c934ff97 button.colab-df-convert');\n",
              "        buttonEl.style.display =\n",
              "          google.colab.kernel.accessAllowed ? 'block' : 'none';\n",
              "\n",
              "        async function convertToInteractive(key) {\n",
              "          const element = document.querySelector('#df-a5800c54-b05b-44bc-893a-e529c934ff97');\n",
              "          const dataTable =\n",
              "            await google.colab.kernel.invokeFunction('convertToInteractive',\n",
              "                                                     [key], {});\n",
              "          if (!dataTable) return;\n",
              "\n",
              "          const docLinkHtml = 'Like what you see? Visit the ' +\n",
              "            '<a target=\"_blank\" href=https://colab.research.google.com/notebooks/data_table.ipynb>data table notebook</a>'\n",
              "            + ' to learn more about interactive tables.';\n",
              "          element.innerHTML = '';\n",
              "          dataTable['output_type'] = 'display_data';\n",
              "          await google.colab.output.renderOutput(dataTable, element);\n",
              "          const docLink = document.createElement('div');\n",
              "          docLink.innerHTML = docLinkHtml;\n",
              "          element.appendChild(docLink);\n",
              "        }\n",
              "      </script>\n",
              "    </div>\n",
              "  </div>\n",
              "  "
            ]
          },
          "metadata": {},
          "execution_count": 148
        }
      ]
    },
    {
      "cell_type": "code",
      "source": [
        "most_wrong_predictions.tail(10)"
      ],
      "metadata": {
        "colab": {
          "base_uri": "https://localhost:8080/",
          "height": 363
        },
        "id": "bxC2uZcHEE2P",
        "outputId": "7c01b791-0a1c-4ca1-eb09-1894f7db7297"
      },
      "execution_count": 149,
      "outputs": [
        {
          "output_type": "execute_result",
          "data": {
            "text/plain": [
              "       line_number  total_lines       target  \\\n",
              "29860            7            7   BACKGROUND   \n",
              "22620            3           11    OBJECTIVE   \n",
              "16844            4           17      METHODS   \n",
              "7859             9           16   BACKGROUND   \n",
              "23369            4            9      METHODS   \n",
              "7858             8           16   BACKGROUND   \n",
              "21850            3            3  CONCLUSIONS   \n",
              "9509             4           10   BACKGROUND   \n",
              "9808             6           12      RESULTS   \n",
              "11709            3            3  CONCLUSIONS   \n",
              "\n",
              "                                                    text  labels  predicts  \\\n",
              "29860  Registered with EudraCT @-@-@ and EudraCT @-@-@ .       0         1   \n",
              "22620  The risk detection/executive function ( RD/EF ...       3         2   \n",
              "16844  The primary aim was to evaluate pharmacokineti...       2         3   \n",
              "7859   The purpose of the SUPPORT trial is to investi...       0         2   \n",
              "23369  Primary aim is the assessment of the safety an...       2         4   \n",
              "7858         Wound healing can be accelerated with ECA .       0         2   \n",
              "21850  Our results suggest that oral glucose , even i...       1         2   \n",
              "9509   The aim of the current study was to analyze th...       0         2   \n",
              "9808   Analysis of the value of further information i...       4         2   \n",
              "11709  The integrated treatment of traditional Chines...       1         2   \n",
              "\n",
              "         equ     probs  \n",
              "29860  False  0.300088  \n",
              "22620  False  0.299922  \n",
              "16844  False  0.299886  \n",
              "7859   False  0.298739  \n",
              "23369  False  0.297358  \n",
              "7858   False  0.288635  \n",
              "21850  False  0.288470  \n",
              "9509   False  0.284831  \n",
              "9808   False  0.279886  \n",
              "11709  False  0.273493  "
            ],
            "text/html": [
              "\n",
              "  <div id=\"df-43563156-eacc-4bb3-8d87-8548a65c6da2\">\n",
              "    <div class=\"colab-df-container\">\n",
              "      <div>\n",
              "<style scoped>\n",
              "    .dataframe tbody tr th:only-of-type {\n",
              "        vertical-align: middle;\n",
              "    }\n",
              "\n",
              "    .dataframe tbody tr th {\n",
              "        vertical-align: top;\n",
              "    }\n",
              "\n",
              "    .dataframe thead th {\n",
              "        text-align: right;\n",
              "    }\n",
              "</style>\n",
              "<table border=\"1\" class=\"dataframe\">\n",
              "  <thead>\n",
              "    <tr style=\"text-align: right;\">\n",
              "      <th></th>\n",
              "      <th>line_number</th>\n",
              "      <th>total_lines</th>\n",
              "      <th>target</th>\n",
              "      <th>text</th>\n",
              "      <th>labels</th>\n",
              "      <th>predicts</th>\n",
              "      <th>equ</th>\n",
              "      <th>probs</th>\n",
              "    </tr>\n",
              "  </thead>\n",
              "  <tbody>\n",
              "    <tr>\n",
              "      <th>29860</th>\n",
              "      <td>7</td>\n",
              "      <td>7</td>\n",
              "      <td>BACKGROUND</td>\n",
              "      <td>Registered with EudraCT @-@-@ and EudraCT @-@-@ .</td>\n",
              "      <td>0</td>\n",
              "      <td>1</td>\n",
              "      <td>False</td>\n",
              "      <td>0.300088</td>\n",
              "    </tr>\n",
              "    <tr>\n",
              "      <th>22620</th>\n",
              "      <td>3</td>\n",
              "      <td>11</td>\n",
              "      <td>OBJECTIVE</td>\n",
              "      <td>The risk detection/executive function ( RD/EF ...</td>\n",
              "      <td>3</td>\n",
              "      <td>2</td>\n",
              "      <td>False</td>\n",
              "      <td>0.299922</td>\n",
              "    </tr>\n",
              "    <tr>\n",
              "      <th>16844</th>\n",
              "      <td>4</td>\n",
              "      <td>17</td>\n",
              "      <td>METHODS</td>\n",
              "      <td>The primary aim was to evaluate pharmacokineti...</td>\n",
              "      <td>2</td>\n",
              "      <td>3</td>\n",
              "      <td>False</td>\n",
              "      <td>0.299886</td>\n",
              "    </tr>\n",
              "    <tr>\n",
              "      <th>7859</th>\n",
              "      <td>9</td>\n",
              "      <td>16</td>\n",
              "      <td>BACKGROUND</td>\n",
              "      <td>The purpose of the SUPPORT trial is to investi...</td>\n",
              "      <td>0</td>\n",
              "      <td>2</td>\n",
              "      <td>False</td>\n",
              "      <td>0.298739</td>\n",
              "    </tr>\n",
              "    <tr>\n",
              "      <th>23369</th>\n",
              "      <td>4</td>\n",
              "      <td>9</td>\n",
              "      <td>METHODS</td>\n",
              "      <td>Primary aim is the assessment of the safety an...</td>\n",
              "      <td>2</td>\n",
              "      <td>4</td>\n",
              "      <td>False</td>\n",
              "      <td>0.297358</td>\n",
              "    </tr>\n",
              "    <tr>\n",
              "      <th>7858</th>\n",
              "      <td>8</td>\n",
              "      <td>16</td>\n",
              "      <td>BACKGROUND</td>\n",
              "      <td>Wound healing can be accelerated with ECA .</td>\n",
              "      <td>0</td>\n",
              "      <td>2</td>\n",
              "      <td>False</td>\n",
              "      <td>0.288635</td>\n",
              "    </tr>\n",
              "    <tr>\n",
              "      <th>21850</th>\n",
              "      <td>3</td>\n",
              "      <td>3</td>\n",
              "      <td>CONCLUSIONS</td>\n",
              "      <td>Our results suggest that oral glucose , even i...</td>\n",
              "      <td>1</td>\n",
              "      <td>2</td>\n",
              "      <td>False</td>\n",
              "      <td>0.288470</td>\n",
              "    </tr>\n",
              "    <tr>\n",
              "      <th>9509</th>\n",
              "      <td>4</td>\n",
              "      <td>10</td>\n",
              "      <td>BACKGROUND</td>\n",
              "      <td>The aim of the current study was to analyze th...</td>\n",
              "      <td>0</td>\n",
              "      <td>2</td>\n",
              "      <td>False</td>\n",
              "      <td>0.284831</td>\n",
              "    </tr>\n",
              "    <tr>\n",
              "      <th>9808</th>\n",
              "      <td>6</td>\n",
              "      <td>12</td>\n",
              "      <td>RESULTS</td>\n",
              "      <td>Analysis of the value of further information i...</td>\n",
              "      <td>4</td>\n",
              "      <td>2</td>\n",
              "      <td>False</td>\n",
              "      <td>0.279886</td>\n",
              "    </tr>\n",
              "    <tr>\n",
              "      <th>11709</th>\n",
              "      <td>3</td>\n",
              "      <td>3</td>\n",
              "      <td>CONCLUSIONS</td>\n",
              "      <td>The integrated treatment of traditional Chines...</td>\n",
              "      <td>1</td>\n",
              "      <td>2</td>\n",
              "      <td>False</td>\n",
              "      <td>0.273493</td>\n",
              "    </tr>\n",
              "  </tbody>\n",
              "</table>\n",
              "</div>\n",
              "      <button class=\"colab-df-convert\" onclick=\"convertToInteractive('df-43563156-eacc-4bb3-8d87-8548a65c6da2')\"\n",
              "              title=\"Convert this dataframe to an interactive table.\"\n",
              "              style=\"display:none;\">\n",
              "        \n",
              "  <svg xmlns=\"http://www.w3.org/2000/svg\" height=\"24px\"viewBox=\"0 0 24 24\"\n",
              "       width=\"24px\">\n",
              "    <path d=\"M0 0h24v24H0V0z\" fill=\"none\"/>\n",
              "    <path d=\"M18.56 5.44l.94 2.06.94-2.06 2.06-.94-2.06-.94-.94-2.06-.94 2.06-2.06.94zm-11 1L8.5 8.5l.94-2.06 2.06-.94-2.06-.94L8.5 2.5l-.94 2.06-2.06.94zm10 10l.94 2.06.94-2.06 2.06-.94-2.06-.94-.94-2.06-.94 2.06-2.06.94z\"/><path d=\"M17.41 7.96l-1.37-1.37c-.4-.4-.92-.59-1.43-.59-.52 0-1.04.2-1.43.59L10.3 9.45l-7.72 7.72c-.78.78-.78 2.05 0 2.83L4 21.41c.39.39.9.59 1.41.59.51 0 1.02-.2 1.41-.59l7.78-7.78 2.81-2.81c.8-.78.8-2.07 0-2.86zM5.41 20L4 18.59l7.72-7.72 1.47 1.35L5.41 20z\"/>\n",
              "  </svg>\n",
              "      </button>\n",
              "      \n",
              "  <style>\n",
              "    .colab-df-container {\n",
              "      display:flex;\n",
              "      flex-wrap:wrap;\n",
              "      gap: 12px;\n",
              "    }\n",
              "\n",
              "    .colab-df-convert {\n",
              "      background-color: #E8F0FE;\n",
              "      border: none;\n",
              "      border-radius: 50%;\n",
              "      cursor: pointer;\n",
              "      display: none;\n",
              "      fill: #1967D2;\n",
              "      height: 32px;\n",
              "      padding: 0 0 0 0;\n",
              "      width: 32px;\n",
              "    }\n",
              "\n",
              "    .colab-df-convert:hover {\n",
              "      background-color: #E2EBFA;\n",
              "      box-shadow: 0px 1px 2px rgba(60, 64, 67, 0.3), 0px 1px 3px 1px rgba(60, 64, 67, 0.15);\n",
              "      fill: #174EA6;\n",
              "    }\n",
              "\n",
              "    [theme=dark] .colab-df-convert {\n",
              "      background-color: #3B4455;\n",
              "      fill: #D2E3FC;\n",
              "    }\n",
              "\n",
              "    [theme=dark] .colab-df-convert:hover {\n",
              "      background-color: #434B5C;\n",
              "      box-shadow: 0px 1px 3px 1px rgba(0, 0, 0, 0.15);\n",
              "      filter: drop-shadow(0px 1px 2px rgba(0, 0, 0, 0.3));\n",
              "      fill: #FFFFFF;\n",
              "    }\n",
              "  </style>\n",
              "\n",
              "      <script>\n",
              "        const buttonEl =\n",
              "          document.querySelector('#df-43563156-eacc-4bb3-8d87-8548a65c6da2 button.colab-df-convert');\n",
              "        buttonEl.style.display =\n",
              "          google.colab.kernel.accessAllowed ? 'block' : 'none';\n",
              "\n",
              "        async function convertToInteractive(key) {\n",
              "          const element = document.querySelector('#df-43563156-eacc-4bb3-8d87-8548a65c6da2');\n",
              "          const dataTable =\n",
              "            await google.colab.kernel.invokeFunction('convertToInteractive',\n",
              "                                                     [key], {});\n",
              "          if (!dataTable) return;\n",
              "\n",
              "          const docLinkHtml = 'Like what you see? Visit the ' +\n",
              "            '<a target=\"_blank\" href=https://colab.research.google.com/notebooks/data_table.ipynb>data table notebook</a>'\n",
              "            + ' to learn more about interactive tables.';\n",
              "          element.innerHTML = '';\n",
              "          dataTable['output_type'] = 'display_data';\n",
              "          await google.colab.output.renderOutput(dataTable, element);\n",
              "          const docLink = document.createElement('div');\n",
              "          docLink.innerHTML = docLinkHtml;\n",
              "          element.appendChild(docLink);\n",
              "        }\n",
              "      </script>\n",
              "    </div>\n",
              "  </div>\n",
              "  "
            ]
          },
          "metadata": {},
          "execution_count": 149
        }
      ]
    },
    {
      "cell_type": "code",
      "source": [],
      "metadata": {
        "id": "xF-KkU4BFRd5"
      },
      "execution_count": 149,
      "outputs": []
    },
    {
      "cell_type": "code",
      "source": [
        "test_char = []\n",
        "for txt in test_pd[\"text\"].to_numpy():\n",
        "  test_char.append(token_to_char(txt))"
      ],
      "metadata": {
        "id": "5h0sOkoKFkb_"
      },
      "execution_count": 150,
      "outputs": []
    },
    {
      "cell_type": "code",
      "source": [
        "test_line_number = test_pd[\"line_number\"]\n",
        "test_total_number = test_pd[\"total_lines\"]"
      ],
      "metadata": {
        "id": "-MZi0ALkGslh"
      },
      "execution_count": 151,
      "outputs": []
    },
    {
      "cell_type": "code",
      "source": [
        "test_line_number_onehot = tf.one_hot(test_line_number , depth = 15)\n",
        "test_line_number_onehot\n",
        "test_total_number_onehot = tf.one_hot(test_total_number , depth = 20)"
      ],
      "metadata": {
        "id": "VHTpAOf3HjdM"
      },
      "execution_count": 152,
      "outputs": []
    },
    {
      "cell_type": "code",
      "source": [
        "test_char_token_pos_data = tf.data.Dataset.from_tensor_slices((test_pd[\"text\"].to_numpy() , test_char, test_line_number_onehot , test_total_number_onehot))"
      ],
      "metadata": {
        "id": "rMsjJeTRHmVi"
      },
      "execution_count": 153,
      "outputs": []
    },
    {
      "cell_type": "code",
      "source": [
        "test_labels_onehot = one_hot_encoder.fit_transform(test_pd[\"target\"].to_numpy().reshape(-1 , 1))"
      ],
      "metadata": {
        "id": "H4DwFMnRI_hU"
      },
      "execution_count": 154,
      "outputs": []
    },
    {
      "cell_type": "code",
      "source": [
        "test_labels_onehot.shape"
      ],
      "metadata": {
        "colab": {
          "base_uri": "https://localhost:8080/"
        },
        "id": "bJH7Bw9TJ5XQ",
        "outputId": "7446b654-6774-4647-f642-ff33ad971641"
      },
      "execution_count": 155,
      "outputs": [
        {
          "output_type": "execute_result",
          "data": {
            "text/plain": [
              "(30135, 5)"
            ]
          },
          "metadata": {},
          "execution_count": 155
        }
      ]
    },
    {
      "cell_type": "code",
      "source": [
        "test_char_token_pos_label = tf.data.Dataset.from_tensor_slices((test_labels_onehot))"
      ],
      "metadata": {
        "id": "gYAEKHPZJ_SU"
      },
      "execution_count": 156,
      "outputs": []
    },
    {
      "cell_type": "code",
      "source": [
        "test_char_token_pos_dataset = tf.data.Dataset.zip((test_char_token_pos_data , test_char_token_pos_label)).batch(32).prefetch(tf.data.AUTOTUNE)"
      ],
      "metadata": {
        "id": "o9SRwj75KPTt"
      },
      "execution_count": 157,
      "outputs": []
    },
    {
      "cell_type": "code",
      "source": [
        "model5_test_evaluation = model5.evaluate(test_char_token_pos_dataset)"
      ],
      "metadata": {
        "colab": {
          "base_uri": "https://localhost:8080/"
        },
        "id": "-y_4YZ_jKnNa",
        "outputId": "5bbee4b1-8b2c-427b-e506-9e421f3b955f"
      },
      "execution_count": 158,
      "outputs": [
        {
          "output_type": "stream",
          "name": "stdout",
          "text": [
            "942/942 [==============================] - 20s 21ms/step - loss: 0.6444 - accuracy: 0.8694\n"
          ]
        }
      ]
    },
    {
      "cell_type": "code",
      "source": [
        "model5_test_evaluation"
      ],
      "metadata": {
        "colab": {
          "base_uri": "https://localhost:8080/"
        },
        "id": "xwQNJ8nFK_9P",
        "outputId": "b1b5fdc2-bf10-4126-855f-fa369a614fe6"
      },
      "execution_count": 159,
      "outputs": [
        {
          "output_type": "execute_result",
          "data": {
            "text/plain": [
              "[0.6444154977798462, 0.8694209456443787]"
            ]
          },
          "metadata": {},
          "execution_count": 159
        }
      ]
    },
    {
      "cell_type": "code",
      "source": [
        "model5_test_predicts = model5.predict(test_char_token_pos_dataset)"
      ],
      "metadata": {
        "id": "K3uXLuAlLKWH",
        "colab": {
          "base_uri": "https://localhost:8080/"
        },
        "outputId": "ffbb8d25-8d85-4b65-9b70-d56053329401"
      },
      "execution_count": 160,
      "outputs": [
        {
          "output_type": "stream",
          "name": "stdout",
          "text": [
            "942/942 [==============================] - 19s 20ms/step\n"
          ]
        }
      ]
    },
    {
      "cell_type": "code",
      "source": [
        "model5_test_predict_porbs = model5_test_predicts.max(axis = 1)\n",
        "model5_test_predicts = tf.argmax(model5_test_predicts , axis = 1)"
      ],
      "metadata": {
        "id": "cJfX3S1rLWpF"
      },
      "execution_count": 161,
      "outputs": []
    },
    {
      "cell_type": "code",
      "source": [
        "model5_test_predict_porbs"
      ],
      "metadata": {
        "colab": {
          "base_uri": "https://localhost:8080/"
        },
        "id": "C81pPwL7Lpwj",
        "outputId": "442726a2-2e81-42a4-b49c-735f7921dbcb"
      },
      "execution_count": 162,
      "outputs": [
        {
          "output_type": "execute_result",
          "data": {
            "text/plain": [
              "array([0.5522029 , 0.37904733, 0.90128165, ..., 0.855523  , 0.85811853,\n",
              "       0.92321086], dtype=float32)"
            ]
          },
          "metadata": {},
          "execution_count": 162
        }
      ]
    },
    {
      "cell_type": "code",
      "source": [
        "model5_test_predicts"
      ],
      "metadata": {
        "colab": {
          "base_uri": "https://localhost:8080/"
        },
        "id": "y4pDJrcKLwZq",
        "outputId": "89da8bd0-6688-48ab-8f86-5869a44abfce"
      },
      "execution_count": 163,
      "outputs": [
        {
          "output_type": "execute_result",
          "data": {
            "text/plain": [
              "<tf.Tensor: shape=(30135,), dtype=int64, numpy=array([0, 0, 2, ..., 4, 4, 1])>"
            ]
          },
          "metadata": {},
          "execution_count": 163
        }
      ]
    },
    {
      "cell_type": "code",
      "source": [
        "test_label"
      ],
      "metadata": {
        "id": "XzOWjB1-MIox",
        "colab": {
          "base_uri": "https://localhost:8080/"
        },
        "outputId": "1e82899c-b4d9-481e-b048-4f447c7fa8da"
      },
      "execution_count": 164,
      "outputs": [
        {
          "output_type": "execute_result",
          "data": {
            "text/plain": [
              "['BACKGROUND',\n",
              " 'RESULTS',\n",
              " 'RESULTS',\n",
              " 'RESULTS',\n",
              " 'RESULTS',\n",
              " 'RESULTS',\n",
              " 'RESULTS',\n",
              " 'CONCLUSIONS',\n",
              " 'CONCLUSIONS',\n",
              " 'BACKGROUND',\n",
              " 'BACKGROUND',\n",
              " 'METHODS',\n",
              " 'METHODS',\n",
              " 'METHODS',\n",
              " 'RESULTS',\n",
              " 'RESULTS',\n",
              " 'RESULTS',\n",
              " 'RESULTS',\n",
              " 'RESULTS',\n",
              " 'RESULTS',\n",
              " 'RESULTS',\n",
              " 'CONCLUSIONS',\n",
              " 'BACKGROUND',\n",
              " 'METHODS',\n",
              " 'METHODS',\n",
              " 'METHODS',\n",
              " 'RESULTS',\n",
              " 'RESULTS',\n",
              " 'RESULTS',\n",
              " 'RESULTS',\n",
              " 'CONCLUSIONS',\n",
              " 'BACKGROUND',\n",
              " 'BACKGROUND',\n",
              " 'BACKGROUND',\n",
              " 'METHODS',\n",
              " 'METHODS',\n",
              " 'METHODS',\n",
              " 'METHODS',\n",
              " 'RESULTS',\n",
              " 'RESULTS',\n",
              " 'RESULTS',\n",
              " 'RESULTS',\n",
              " 'CONCLUSIONS',\n",
              " 'CONCLUSIONS',\n",
              " 'OBJECTIVE',\n",
              " 'OBJECTIVE',\n",
              " 'OBJECTIVE',\n",
              " 'OBJECTIVE',\n",
              " 'METHODS',\n",
              " 'METHODS',\n",
              " 'METHODS',\n",
              " 'METHODS',\n",
              " 'METHODS',\n",
              " 'RESULTS',\n",
              " 'RESULTS',\n",
              " 'RESULTS',\n",
              " 'CONCLUSIONS',\n",
              " 'CONCLUSIONS',\n",
              " 'OBJECTIVE',\n",
              " 'METHODS',\n",
              " 'METHODS',\n",
              " 'METHODS',\n",
              " 'METHODS',\n",
              " 'METHODS',\n",
              " 'RESULTS',\n",
              " 'RESULTS',\n",
              " 'RESULTS',\n",
              " 'CONCLUSIONS',\n",
              " 'CONCLUSIONS',\n",
              " 'OBJECTIVE',\n",
              " 'METHODS',\n",
              " 'METHODS',\n",
              " 'METHODS',\n",
              " 'METHODS',\n",
              " 'METHODS',\n",
              " 'RESULTS',\n",
              " 'RESULTS',\n",
              " 'RESULTS',\n",
              " 'RESULTS',\n",
              " 'CONCLUSIONS',\n",
              " 'CONCLUSIONS',\n",
              " 'BACKGROUND',\n",
              " 'BACKGROUND',\n",
              " 'METHODS',\n",
              " 'METHODS',\n",
              " 'METHODS',\n",
              " 'METHODS',\n",
              " 'METHODS',\n",
              " 'METHODS',\n",
              " 'METHODS',\n",
              " 'RESULTS',\n",
              " 'RESULTS',\n",
              " 'RESULTS',\n",
              " 'CONCLUSIONS',\n",
              " 'BACKGROUND',\n",
              " 'BACKGROUND',\n",
              " 'METHODS',\n",
              " 'RESULTS',\n",
              " 'RESULTS',\n",
              " 'RESULTS',\n",
              " 'CONCLUSIONS',\n",
              " 'OBJECTIVE',\n",
              " 'METHODS',\n",
              " 'METHODS',\n",
              " 'METHODS',\n",
              " 'METHODS',\n",
              " 'METHODS',\n",
              " 'METHODS',\n",
              " 'METHODS',\n",
              " 'RESULTS',\n",
              " 'RESULTS',\n",
              " 'RESULTS',\n",
              " 'CONCLUSIONS',\n",
              " 'BACKGROUND',\n",
              " 'BACKGROUND',\n",
              " 'METHODS',\n",
              " 'METHODS',\n",
              " 'METHODS',\n",
              " 'METHODS',\n",
              " 'METHODS',\n",
              " 'METHODS',\n",
              " 'METHODS',\n",
              " 'RESULTS',\n",
              " 'RESULTS',\n",
              " 'RESULTS',\n",
              " 'RESULTS',\n",
              " 'RESULTS',\n",
              " 'CONCLUSIONS',\n",
              " 'BACKGROUND',\n",
              " 'OBJECTIVE',\n",
              " 'METHODS',\n",
              " 'METHODS',\n",
              " 'METHODS',\n",
              " 'METHODS',\n",
              " 'RESULTS',\n",
              " 'RESULTS',\n",
              " 'RESULTS',\n",
              " 'CONCLUSIONS',\n",
              " 'OBJECTIVE',\n",
              " 'METHODS',\n",
              " 'METHODS',\n",
              " 'METHODS',\n",
              " 'RESULTS',\n",
              " 'RESULTS',\n",
              " 'RESULTS',\n",
              " 'RESULTS',\n",
              " 'RESULTS',\n",
              " 'RESULTS',\n",
              " 'CONCLUSIONS',\n",
              " 'CONCLUSIONS',\n",
              " 'BACKGROUND',\n",
              " 'BACKGROUND',\n",
              " 'BACKGROUND',\n",
              " 'BACKGROUND',\n",
              " 'BACKGROUND',\n",
              " 'METHODS',\n",
              " 'METHODS',\n",
              " 'METHODS',\n",
              " 'METHODS',\n",
              " 'METHODS',\n",
              " 'METHODS',\n",
              " 'BACKGROUND',\n",
              " 'BACKGROUND',\n",
              " 'BACKGROUND',\n",
              " 'BACKGROUND',\n",
              " 'BACKGROUND',\n",
              " 'BACKGROUND',\n",
              " 'OBJECTIVE',\n",
              " 'METHODS',\n",
              " 'METHODS',\n",
              " 'METHODS',\n",
              " 'RESULTS',\n",
              " 'RESULTS',\n",
              " 'RESULTS',\n",
              " 'CONCLUSIONS',\n",
              " 'CONCLUSIONS',\n",
              " 'BACKGROUND',\n",
              " 'OBJECTIVE',\n",
              " 'METHODS',\n",
              " 'METHODS',\n",
              " 'METHODS',\n",
              " 'RESULTS',\n",
              " 'RESULTS',\n",
              " 'RESULTS',\n",
              " 'RESULTS',\n",
              " 'RESULTS',\n",
              " 'RESULTS',\n",
              " 'RESULTS',\n",
              " 'CONCLUSIONS',\n",
              " 'OBJECTIVE',\n",
              " 'OBJECTIVE',\n",
              " 'METHODS',\n",
              " 'METHODS',\n",
              " 'METHODS',\n",
              " 'METHODS',\n",
              " 'BACKGROUND',\n",
              " 'RESULTS',\n",
              " 'RESULTS',\n",
              " 'RESULTS',\n",
              " 'RESULTS',\n",
              " 'RESULTS',\n",
              " 'RESULTS',\n",
              " 'CONCLUSIONS',\n",
              " 'CONCLUSIONS',\n",
              " 'OBJECTIVE',\n",
              " 'METHODS',\n",
              " 'METHODS',\n",
              " 'METHODS',\n",
              " 'METHODS',\n",
              " 'METHODS',\n",
              " 'RESULTS',\n",
              " 'RESULTS',\n",
              " 'RESULTS',\n",
              " 'CONCLUSIONS',\n",
              " 'BACKGROUND',\n",
              " 'METHODS',\n",
              " 'METHODS',\n",
              " 'METHODS',\n",
              " 'METHODS',\n",
              " 'METHODS',\n",
              " 'RESULTS',\n",
              " 'RESULTS',\n",
              " 'RESULTS',\n",
              " 'RESULTS',\n",
              " 'RESULTS',\n",
              " 'RESULTS',\n",
              " 'CONCLUSIONS',\n",
              " 'BACKGROUND',\n",
              " 'BACKGROUND',\n",
              " 'BACKGROUND',\n",
              " 'OBJECTIVE',\n",
              " 'METHODS',\n",
              " 'METHODS',\n",
              " 'METHODS',\n",
              " 'METHODS',\n",
              " 'RESULTS',\n",
              " 'RESULTS',\n",
              " 'CONCLUSIONS',\n",
              " 'BACKGROUND',\n",
              " 'BACKGROUND',\n",
              " 'OBJECTIVE',\n",
              " 'METHODS',\n",
              " 'METHODS',\n",
              " 'METHODS',\n",
              " 'RESULTS',\n",
              " 'RESULTS',\n",
              " 'RESULTS',\n",
              " 'CONCLUSIONS',\n",
              " 'CONCLUSIONS',\n",
              " 'BACKGROUND',\n",
              " 'METHODS',\n",
              " 'METHODS',\n",
              " 'METHODS',\n",
              " 'METHODS',\n",
              " 'RESULTS',\n",
              " 'RESULTS',\n",
              " 'RESULTS',\n",
              " 'RESULTS',\n",
              " 'CONCLUSIONS',\n",
              " 'CONCLUSIONS',\n",
              " 'BACKGROUND',\n",
              " 'OBJECTIVE',\n",
              " 'METHODS',\n",
              " 'METHODS',\n",
              " 'METHODS',\n",
              " 'METHODS',\n",
              " 'METHODS',\n",
              " 'METHODS',\n",
              " 'METHODS',\n",
              " 'METHODS',\n",
              " 'METHODS',\n",
              " 'RESULTS',\n",
              " 'RESULTS',\n",
              " 'RESULTS',\n",
              " 'RESULTS',\n",
              " 'CONCLUSIONS',\n",
              " 'CONCLUSIONS',\n",
              " 'CONCLUSIONS',\n",
              " 'OBJECTIVE',\n",
              " 'OBJECTIVE',\n",
              " 'METHODS',\n",
              " 'METHODS',\n",
              " 'METHODS',\n",
              " 'METHODS',\n",
              " 'RESULTS',\n",
              " 'RESULTS',\n",
              " 'RESULTS',\n",
              " 'CONCLUSIONS',\n",
              " 'BACKGROUND',\n",
              " 'BACKGROUND',\n",
              " 'METHODS',\n",
              " 'METHODS',\n",
              " 'METHODS',\n",
              " 'METHODS',\n",
              " 'RESULTS',\n",
              " 'RESULTS',\n",
              " 'RESULTS',\n",
              " 'RESULTS',\n",
              " 'CONCLUSIONS',\n",
              " 'BACKGROUND',\n",
              " 'BACKGROUND',\n",
              " 'BACKGROUND',\n",
              " 'RESULTS',\n",
              " 'RESULTS',\n",
              " 'RESULTS',\n",
              " 'RESULTS',\n",
              " 'RESULTS',\n",
              " 'RESULTS',\n",
              " 'CONCLUSIONS',\n",
              " 'CONCLUSIONS',\n",
              " 'CONCLUSIONS',\n",
              " 'OBJECTIVE',\n",
              " 'METHODS',\n",
              " 'METHODS',\n",
              " 'METHODS',\n",
              " 'RESULTS',\n",
              " 'RESULTS',\n",
              " 'RESULTS',\n",
              " 'RESULTS',\n",
              " 'RESULTS',\n",
              " 'CONCLUSIONS',\n",
              " 'BACKGROUND',\n",
              " 'BACKGROUND',\n",
              " 'METHODS',\n",
              " 'RESULTS',\n",
              " 'RESULTS',\n",
              " 'RESULTS',\n",
              " 'RESULTS',\n",
              " 'CONCLUSIONS',\n",
              " 'BACKGROUND',\n",
              " 'BACKGROUND',\n",
              " 'METHODS',\n",
              " 'METHODS',\n",
              " 'RESULTS',\n",
              " 'RESULTS',\n",
              " 'RESULTS',\n",
              " 'RESULTS',\n",
              " 'RESULTS',\n",
              " 'RESULTS',\n",
              " 'CONCLUSIONS',\n",
              " 'CONCLUSIONS',\n",
              " 'OBJECTIVE',\n",
              " 'METHODS',\n",
              " 'METHODS',\n",
              " 'METHODS',\n",
              " 'METHODS',\n",
              " 'RESULTS',\n",
              " 'RESULTS',\n",
              " 'RESULTS',\n",
              " 'RESULTS',\n",
              " 'RESULTS',\n",
              " 'CONCLUSIONS',\n",
              " 'CONCLUSIONS',\n",
              " 'BACKGROUND',\n",
              " 'BACKGROUND',\n",
              " 'BACKGROUND',\n",
              " 'METHODS',\n",
              " 'METHODS',\n",
              " 'METHODS',\n",
              " 'RESULTS',\n",
              " 'RESULTS',\n",
              " 'RESULTS',\n",
              " 'RESULTS',\n",
              " 'RESULTS',\n",
              " 'RESULTS',\n",
              " 'RESULTS',\n",
              " 'RESULTS',\n",
              " 'RESULTS',\n",
              " 'CONCLUSIONS',\n",
              " 'CONCLUSIONS',\n",
              " 'CONCLUSIONS',\n",
              " 'BACKGROUND',\n",
              " 'OBJECTIVE',\n",
              " 'OBJECTIVE',\n",
              " 'METHODS',\n",
              " 'METHODS',\n",
              " 'RESULTS',\n",
              " 'RESULTS',\n",
              " 'RESULTS',\n",
              " 'RESULTS',\n",
              " 'RESULTS',\n",
              " 'RESULTS',\n",
              " 'RESULTS',\n",
              " 'RESULTS',\n",
              " 'CONCLUSIONS',\n",
              " 'CONCLUSIONS',\n",
              " 'OBJECTIVE',\n",
              " 'OBJECTIVE',\n",
              " 'METHODS',\n",
              " 'METHODS',\n",
              " 'METHODS',\n",
              " 'RESULTS',\n",
              " 'RESULTS',\n",
              " 'RESULTS',\n",
              " 'RESULTS',\n",
              " 'RESULTS',\n",
              " 'CONCLUSIONS',\n",
              " 'CONCLUSIONS',\n",
              " 'BACKGROUND',\n",
              " 'BACKGROUND',\n",
              " 'METHODS',\n",
              " 'METHODS',\n",
              " 'METHODS',\n",
              " 'METHODS',\n",
              " 'RESULTS',\n",
              " 'RESULTS',\n",
              " 'RESULTS',\n",
              " 'CONCLUSIONS',\n",
              " 'OBJECTIVE',\n",
              " 'METHODS',\n",
              " 'METHODS',\n",
              " 'METHODS',\n",
              " 'RESULTS',\n",
              " 'RESULTS',\n",
              " 'RESULTS',\n",
              " 'RESULTS',\n",
              " 'CONCLUSIONS',\n",
              " 'CONCLUSIONS',\n",
              " 'METHODS',\n",
              " 'OBJECTIVE',\n",
              " 'METHODS',\n",
              " 'METHODS',\n",
              " 'METHODS',\n",
              " 'RESULTS',\n",
              " 'RESULTS',\n",
              " 'RESULTS',\n",
              " 'RESULTS',\n",
              " 'RESULTS',\n",
              " 'RESULTS',\n",
              " 'RESULTS',\n",
              " 'CONCLUSIONS',\n",
              " 'OBJECTIVE',\n",
              " 'OBJECTIVE',\n",
              " 'RESULTS',\n",
              " 'RESULTS',\n",
              " 'RESULTS',\n",
              " 'METHODS',\n",
              " 'METHODS',\n",
              " 'METHODS',\n",
              " 'CONCLUSIONS',\n",
              " 'OBJECTIVE',\n",
              " 'OBJECTIVE',\n",
              " 'METHODS',\n",
              " 'METHODS',\n",
              " 'RESULTS',\n",
              " 'RESULTS',\n",
              " 'RESULTS',\n",
              " 'RESULTS',\n",
              " 'RESULTS',\n",
              " 'CONCLUSIONS',\n",
              " 'CONCLUSIONS',\n",
              " 'BACKGROUND',\n",
              " 'BACKGROUND',\n",
              " 'BACKGROUND',\n",
              " 'BACKGROUND',\n",
              " 'METHODS',\n",
              " 'METHODS',\n",
              " 'METHODS',\n",
              " 'METHODS',\n",
              " 'METHODS',\n",
              " 'METHODS',\n",
              " 'CONCLUSIONS',\n",
              " 'BACKGROUND',\n",
              " 'BACKGROUND',\n",
              " 'BACKGROUND',\n",
              " 'METHODS',\n",
              " 'METHODS',\n",
              " 'METHODS',\n",
              " 'METHODS',\n",
              " 'RESULTS',\n",
              " 'RESULTS',\n",
              " 'RESULTS',\n",
              " 'RESULTS',\n",
              " 'CONCLUSIONS',\n",
              " 'CONCLUSIONS',\n",
              " 'CONCLUSIONS',\n",
              " 'CONCLUSIONS',\n",
              " 'BACKGROUND',\n",
              " 'BACKGROUND',\n",
              " 'BACKGROUND',\n",
              " 'METHODS',\n",
              " 'METHODS',\n",
              " 'METHODS',\n",
              " 'METHODS',\n",
              " 'RESULTS',\n",
              " 'RESULTS',\n",
              " 'RESULTS',\n",
              " 'RESULTS',\n",
              " 'RESULTS',\n",
              " 'CONCLUSIONS',\n",
              " 'CONCLUSIONS',\n",
              " 'BACKGROUND',\n",
              " 'BACKGROUND',\n",
              " 'BACKGROUND',\n",
              " 'BACKGROUND',\n",
              " 'METHODS',\n",
              " 'METHODS',\n",
              " 'RESULTS',\n",
              " 'RESULTS',\n",
              " 'RESULTS',\n",
              " 'CONCLUSIONS',\n",
              " 'CONCLUSIONS',\n",
              " 'BACKGROUND',\n",
              " 'BACKGROUND',\n",
              " 'METHODS',\n",
              " 'METHODS',\n",
              " 'RESULTS',\n",
              " 'RESULTS',\n",
              " 'RESULTS',\n",
              " 'RESULTS',\n",
              " 'RESULTS',\n",
              " 'CONCLUSIONS',\n",
              " 'METHODS',\n",
              " 'BACKGROUND',\n",
              " 'BACKGROUND',\n",
              " 'METHODS',\n",
              " 'METHODS',\n",
              " 'METHODS',\n",
              " 'RESULTS',\n",
              " 'RESULTS',\n",
              " 'RESULTS',\n",
              " 'RESULTS',\n",
              " 'RESULTS',\n",
              " 'CONCLUSIONS',\n",
              " 'CONCLUSIONS',\n",
              " 'OBJECTIVE',\n",
              " 'OBJECTIVE',\n",
              " 'METHODS',\n",
              " 'METHODS',\n",
              " 'METHODS',\n",
              " 'RESULTS',\n",
              " 'RESULTS',\n",
              " 'CONCLUSIONS',\n",
              " 'CONCLUSIONS',\n",
              " 'OBJECTIVE',\n",
              " 'METHODS',\n",
              " 'METHODS',\n",
              " 'METHODS',\n",
              " 'RESULTS',\n",
              " 'RESULTS',\n",
              " 'RESULTS',\n",
              " 'RESULTS',\n",
              " 'CONCLUSIONS',\n",
              " 'BACKGROUND',\n",
              " 'BACKGROUND',\n",
              " 'RESULTS',\n",
              " 'RESULTS',\n",
              " 'RESULTS',\n",
              " 'RESULTS',\n",
              " 'RESULTS',\n",
              " 'RESULTS',\n",
              " 'RESULTS',\n",
              " 'RESULTS',\n",
              " 'CONCLUSIONS',\n",
              " 'CONCLUSIONS',\n",
              " 'BACKGROUND',\n",
              " 'BACKGROUND',\n",
              " 'BACKGROUND',\n",
              " 'BACKGROUND',\n",
              " 'BACKGROUND',\n",
              " 'METHODS',\n",
              " 'METHODS',\n",
              " 'METHODS',\n",
              " 'METHODS',\n",
              " 'METHODS',\n",
              " 'RESULTS',\n",
              " 'RESULTS',\n",
              " 'RESULTS',\n",
              " 'CONCLUSIONS',\n",
              " 'CONCLUSIONS',\n",
              " 'OBJECTIVE',\n",
              " 'OBJECTIVE',\n",
              " 'METHODS',\n",
              " 'METHODS',\n",
              " 'RESULTS',\n",
              " 'RESULTS',\n",
              " 'CONCLUSIONS',\n",
              " 'CONCLUSIONS',\n",
              " 'CONCLUSIONS',\n",
              " 'BACKGROUND',\n",
              " 'BACKGROUND',\n",
              " 'BACKGROUND',\n",
              " 'OBJECTIVE',\n",
              " 'OBJECTIVE',\n",
              " 'METHODS',\n",
              " 'METHODS',\n",
              " 'METHODS',\n",
              " 'METHODS',\n",
              " 'METHODS',\n",
              " 'RESULTS',\n",
              " 'RESULTS',\n",
              " 'RESULTS',\n",
              " 'RESULTS',\n",
              " 'RESULTS',\n",
              " 'RESULTS',\n",
              " 'RESULTS',\n",
              " 'CONCLUSIONS',\n",
              " 'CONCLUSIONS',\n",
              " 'CONCLUSIONS',\n",
              " 'OBJECTIVE',\n",
              " 'METHODS',\n",
              " 'METHODS',\n",
              " 'RESULTS',\n",
              " 'RESULTS',\n",
              " 'RESULTS',\n",
              " 'RESULTS',\n",
              " 'RESULTS',\n",
              " 'RESULTS',\n",
              " 'RESULTS',\n",
              " 'CONCLUSIONS',\n",
              " 'CONCLUSIONS',\n",
              " 'CONCLUSIONS',\n",
              " 'CONCLUSIONS',\n",
              " 'OBJECTIVE',\n",
              " 'OBJECTIVE',\n",
              " 'METHODS',\n",
              " 'METHODS',\n",
              " 'METHODS',\n",
              " 'METHODS',\n",
              " 'METHODS',\n",
              " 'METHODS',\n",
              " 'RESULTS',\n",
              " 'RESULTS',\n",
              " 'CONCLUSIONS',\n",
              " 'CONCLUSIONS',\n",
              " 'CONCLUSIONS',\n",
              " 'BACKGROUND',\n",
              " 'BACKGROUND',\n",
              " 'BACKGROUND',\n",
              " 'METHODS',\n",
              " 'METHODS',\n",
              " 'RESULTS',\n",
              " 'RESULTS',\n",
              " 'RESULTS',\n",
              " 'RESULTS',\n",
              " 'RESULTS',\n",
              " 'RESULTS',\n",
              " 'CONCLUSIONS',\n",
              " 'CONCLUSIONS',\n",
              " 'OBJECTIVE',\n",
              " 'OBJECTIVE',\n",
              " 'METHODS',\n",
              " 'METHODS',\n",
              " 'RESULTS',\n",
              " 'RESULTS',\n",
              " 'RESULTS',\n",
              " 'CONCLUSIONS',\n",
              " 'CONCLUSIONS',\n",
              " 'OBJECTIVE',\n",
              " 'METHODS',\n",
              " 'METHODS',\n",
              " 'METHODS',\n",
              " 'METHODS',\n",
              " 'RESULTS',\n",
              " 'CONCLUSIONS',\n",
              " 'BACKGROUND',\n",
              " 'BACKGROUND',\n",
              " 'BACKGROUND',\n",
              " 'BACKGROUND',\n",
              " 'BACKGROUND',\n",
              " 'METHODS',\n",
              " 'METHODS',\n",
              " 'METHODS',\n",
              " 'RESULTS',\n",
              " 'RESULTS',\n",
              " 'RESULTS',\n",
              " 'RESULTS',\n",
              " 'RESULTS',\n",
              " 'RESULTS',\n",
              " 'RESULTS',\n",
              " 'CONCLUSIONS',\n",
              " 'METHODS',\n",
              " 'RESULTS',\n",
              " 'RESULTS',\n",
              " 'RESULTS',\n",
              " 'RESULTS',\n",
              " 'RESULTS',\n",
              " 'RESULTS',\n",
              " 'CONCLUSIONS',\n",
              " 'BACKGROUND',\n",
              " 'BACKGROUND',\n",
              " 'METHODS',\n",
              " 'METHODS',\n",
              " 'METHODS',\n",
              " 'RESULTS',\n",
              " 'RESULTS',\n",
              " 'RESULTS',\n",
              " 'RESULTS',\n",
              " 'RESULTS',\n",
              " 'RESULTS',\n",
              " 'RESULTS',\n",
              " 'CONCLUSIONS',\n",
              " 'CONCLUSIONS',\n",
              " 'BACKGROUND',\n",
              " 'BACKGROUND',\n",
              " 'BACKGROUND',\n",
              " 'RESULTS',\n",
              " 'RESULTS',\n",
              " 'RESULTS',\n",
              " 'RESULTS',\n",
              " 'RESULTS',\n",
              " 'RESULTS',\n",
              " 'RESULTS',\n",
              " 'RESULTS',\n",
              " 'RESULTS',\n",
              " 'RESULTS',\n",
              " 'CONCLUSIONS',\n",
              " 'BACKGROUND',\n",
              " 'OBJECTIVE',\n",
              " 'METHODS',\n",
              " 'METHODS',\n",
              " 'METHODS',\n",
              " 'METHODS',\n",
              " 'METHODS',\n",
              " 'METHODS',\n",
              " 'RESULTS',\n",
              " 'RESULTS',\n",
              " 'RESULTS',\n",
              " 'RESULTS',\n",
              " 'RESULTS',\n",
              " 'RESULTS',\n",
              " 'CONCLUSIONS',\n",
              " 'CONCLUSIONS',\n",
              " 'OBJECTIVE',\n",
              " 'OBJECTIVE',\n",
              " 'OBJECTIVE',\n",
              " 'OBJECTIVE',\n",
              " 'METHODS',\n",
              " 'METHODS',\n",
              " 'METHODS',\n",
              " 'RESULTS',\n",
              " 'RESULTS',\n",
              " 'RESULTS',\n",
              " 'CONCLUSIONS',\n",
              " 'CONCLUSIONS',\n",
              " 'OBJECTIVE',\n",
              " 'OBJECTIVE',\n",
              " 'METHODS',\n",
              " 'METHODS',\n",
              " 'METHODS',\n",
              " 'METHODS',\n",
              " 'RESULTS',\n",
              " 'RESULTS',\n",
              " 'RESULTS',\n",
              " 'RESULTS',\n",
              " 'RESULTS',\n",
              " 'CONCLUSIONS',\n",
              " 'CONCLUSIONS',\n",
              " 'BACKGROUND',\n",
              " 'BACKGROUND',\n",
              " 'BACKGROUND',\n",
              " 'BACKGROUND',\n",
              " 'METHODS',\n",
              " 'METHODS',\n",
              " 'METHODS',\n",
              " 'METHODS',\n",
              " 'METHODS',\n",
              " 'METHODS',\n",
              " 'RESULTS',\n",
              " 'RESULTS',\n",
              " 'RESULTS',\n",
              " 'RESULTS',\n",
              " 'RESULTS',\n",
              " 'RESULTS',\n",
              " 'RESULTS',\n",
              " 'RESULTS',\n",
              " 'RESULTS',\n",
              " 'CONCLUSIONS',\n",
              " 'CONCLUSIONS',\n",
              " 'BACKGROUND',\n",
              " 'BACKGROUND',\n",
              " 'METHODS',\n",
              " 'METHODS',\n",
              " 'METHODS',\n",
              " 'METHODS',\n",
              " 'RESULTS',\n",
              " 'RESULTS',\n",
              " 'RESULTS',\n",
              " 'CONCLUSIONS',\n",
              " 'CONCLUSIONS',\n",
              " 'METHODS',\n",
              " 'BACKGROUND',\n",
              " 'BACKGROUND',\n",
              " 'BACKGROUND',\n",
              " 'METHODS',\n",
              " 'METHODS',\n",
              " 'METHODS',\n",
              " 'METHODS',\n",
              " 'RESULTS',\n",
              " 'RESULTS',\n",
              " 'RESULTS',\n",
              " 'CONCLUSIONS',\n",
              " 'CONCLUSIONS',\n",
              " 'BACKGROUND',\n",
              " 'BACKGROUND',\n",
              " 'BACKGROUND',\n",
              " 'BACKGROUND',\n",
              " 'BACKGROUND',\n",
              " 'BACKGROUND',\n",
              " 'BACKGROUND',\n",
              " 'METHODS',\n",
              " 'METHODS',\n",
              " 'RESULTS',\n",
              " 'RESULTS',\n",
              " 'RESULTS',\n",
              " 'CONCLUSIONS',\n",
              " 'CONCLUSIONS',\n",
              " 'BACKGROUND',\n",
              " 'BACKGROUND',\n",
              " 'BACKGROUND',\n",
              " 'BACKGROUND',\n",
              " 'METHODS',\n",
              " 'METHODS',\n",
              " 'METHODS',\n",
              " 'METHODS',\n",
              " 'RESULTS',\n",
              " 'RESULTS',\n",
              " 'RESULTS',\n",
              " 'RESULTS',\n",
              " 'RESULTS',\n",
              " 'CONCLUSIONS',\n",
              " 'CONCLUSIONS',\n",
              " 'BACKGROUND',\n",
              " 'BACKGROUND',\n",
              " 'OBJECTIVE',\n",
              " 'METHODS',\n",
              " 'METHODS',\n",
              " 'METHODS',\n",
              " 'METHODS',\n",
              " 'METHODS',\n",
              " 'RESULTS',\n",
              " 'RESULTS',\n",
              " 'RESULTS',\n",
              " 'RESULTS',\n",
              " 'CONCLUSIONS',\n",
              " 'BACKGROUND',\n",
              " 'METHODS',\n",
              " 'METHODS',\n",
              " 'RESULTS',\n",
              " 'RESULTS',\n",
              " 'RESULTS',\n",
              " 'RESULTS',\n",
              " 'RESULTS',\n",
              " 'CONCLUSIONS',\n",
              " 'CONCLUSIONS',\n",
              " 'CONCLUSIONS',\n",
              " 'CONCLUSIONS',\n",
              " 'BACKGROUND',\n",
              " 'BACKGROUND',\n",
              " 'METHODS',\n",
              " 'METHODS',\n",
              " 'RESULTS',\n",
              " 'RESULTS',\n",
              " 'RESULTS',\n",
              " 'RESULTS',\n",
              " 'RESULTS',\n",
              " 'CONCLUSIONS',\n",
              " 'CONCLUSIONS',\n",
              " 'CONCLUSIONS',\n",
              " 'BACKGROUND',\n",
              " 'BACKGROUND',\n",
              " 'BACKGROUND',\n",
              " 'METHODS',\n",
              " 'METHODS',\n",
              " 'METHODS',\n",
              " 'METHODS',\n",
              " 'RESULTS',\n",
              " 'RESULTS',\n",
              " 'CONCLUSIONS',\n",
              " 'CONCLUSIONS',\n",
              " 'CONCLUSIONS',\n",
              " 'OBJECTIVE',\n",
              " 'METHODS',\n",
              " 'METHODS',\n",
              " 'METHODS',\n",
              " 'METHODS',\n",
              " 'RESULTS',\n",
              " 'RESULTS',\n",
              " 'RESULTS',\n",
              " 'CONCLUSIONS',\n",
              " 'CONCLUSIONS',\n",
              " 'OBJECTIVE',\n",
              " 'OBJECTIVE',\n",
              " 'METHODS',\n",
              " 'METHODS',\n",
              " 'METHODS',\n",
              " 'METHODS',\n",
              " 'METHODS',\n",
              " 'RESULTS',\n",
              " 'RESULTS',\n",
              " 'RESULTS',\n",
              " 'RESULTS',\n",
              " 'RESULTS',\n",
              " 'CONCLUSIONS',\n",
              " 'BACKGROUND',\n",
              " 'RESULTS',\n",
              " 'RESULTS',\n",
              " 'RESULTS',\n",
              " 'RESULTS',\n",
              " 'RESULTS',\n",
              " 'RESULTS',\n",
              " 'CONCLUSIONS',\n",
              " 'CONCLUSIONS',\n",
              " 'BACKGROUND',\n",
              " 'BACKGROUND',\n",
              " 'BACKGROUND',\n",
              " 'BACKGROUND',\n",
              " 'BACKGROUND',\n",
              " 'METHODS',\n",
              " 'METHODS',\n",
              " 'METHODS',\n",
              " 'METHODS',\n",
              " 'METHODS',\n",
              " 'METHODS',\n",
              " 'RESULTS',\n",
              " 'RESULTS',\n",
              " 'CONCLUSIONS',\n",
              " 'CONCLUSIONS',\n",
              " 'BACKGROUND',\n",
              " 'BACKGROUND',\n",
              " 'RESULTS',\n",
              " 'RESULTS',\n",
              " 'RESULTS',\n",
              " 'RESULTS',\n",
              " 'RESULTS',\n",
              " 'RESULTS',\n",
              " 'RESULTS',\n",
              " 'RESULTS',\n",
              " 'RESULTS',\n",
              " 'CONCLUSIONS',\n",
              " 'CONCLUSIONS',\n",
              " 'CONCLUSIONS',\n",
              " 'BACKGROUND',\n",
              " 'OBJECTIVE',\n",
              " 'METHODS',\n",
              " 'METHODS',\n",
              " 'METHODS',\n",
              " 'METHODS',\n",
              " 'METHODS',\n",
              " 'RESULTS',\n",
              " 'RESULTS',\n",
              " 'RESULTS',\n",
              " 'RESULTS',\n",
              " 'RESULTS',\n",
              " 'RESULTS',\n",
              " 'CONCLUSIONS',\n",
              " 'CONCLUSIONS',\n",
              " 'METHODS',\n",
              " 'OBJECTIVE',\n",
              " 'METHODS',\n",
              " 'METHODS',\n",
              " 'METHODS',\n",
              " 'RESULTS',\n",
              " 'RESULTS',\n",
              " 'RESULTS',\n",
              " 'RESULTS',\n",
              " 'RESULTS',\n",
              " 'CONCLUSIONS',\n",
              " 'CONCLUSIONS',\n",
              " 'OBJECTIVE',\n",
              " 'OBJECTIVE',\n",
              " 'OBJECTIVE',\n",
              " 'OBJECTIVE',\n",
              " 'METHODS',\n",
              " 'METHODS',\n",
              " 'METHODS',\n",
              " 'METHODS',\n",
              " 'METHODS',\n",
              " 'METHODS',\n",
              " 'RESULTS',\n",
              " 'RESULTS',\n",
              " 'RESULTS',\n",
              " 'RESULTS',\n",
              " 'RESULTS',\n",
              " 'RESULTS',\n",
              " 'RESULTS',\n",
              " 'CONCLUSIONS',\n",
              " 'CONCLUSIONS',\n",
              " 'BACKGROUND',\n",
              " 'OBJECTIVE',\n",
              " 'METHODS',\n",
              " 'METHODS',\n",
              " 'METHODS',\n",
              " 'RESULTS',\n",
              " 'RESULTS',\n",
              " 'RESULTS',\n",
              " 'CONCLUSIONS',\n",
              " 'BACKGROUND',\n",
              " 'BACKGROUND',\n",
              " 'METHODS',\n",
              " 'METHODS',\n",
              " 'METHODS',\n",
              " 'METHODS',\n",
              " 'METHODS',\n",
              " 'METHODS',\n",
              " 'RESULTS',\n",
              " 'RESULTS',\n",
              " 'RESULTS',\n",
              " 'RESULTS',\n",
              " 'RESULTS',\n",
              " ...]"
            ]
          },
          "metadata": {},
          "execution_count": 164
        }
      ]
    },
    {
      "cell_type": "code",
      "source": [
        "model5_test_result = calculate_results(test_label_enc, model5_test_predicts.numpy())"
      ],
      "metadata": {
        "id": "60iic7HyL0bB"
      },
      "execution_count": 165,
      "outputs": []
    },
    {
      "cell_type": "code",
      "source": [
        "model5_test_result"
      ],
      "metadata": {
        "colab": {
          "base_uri": "https://localhost:8080/"
        },
        "id": "gVPqdr5fMNKP",
        "outputId": "7e655f8d-f755-4ef9-a7eb-8b242bd81d0b"
      },
      "execution_count": 166,
      "outputs": [
        {
          "output_type": "execute_result",
          "data": {
            "text/plain": [
              "{'accuracy': 86.94209391073503,\n",
              " 'precision': 0.8733904856457456,\n",
              " 'recall': 0.8694209391073503,\n",
              " 'f1': 0.8656222388928156}"
            ]
          },
          "metadata": {},
          "execution_count": 166
        }
      ]
    },
    {
      "cell_type": "code",
      "source": [
        "test_pd"
      ],
      "metadata": {
        "colab": {
          "base_uri": "https://localhost:8080/",
          "height": 424
        },
        "id": "BZtGQ1WQMTI_",
        "outputId": "6b5e326e-602c-4e7d-e9cb-ef714901e015"
      },
      "execution_count": 167,
      "outputs": [
        {
          "output_type": "execute_result",
          "data": {
            "text/plain": [
              "       line_number  total_lines       target  \\\n",
              "0                0            8   BACKGROUND   \n",
              "1                1            8      RESULTS   \n",
              "2                2            8      RESULTS   \n",
              "3                3            8      RESULTS   \n",
              "4                4            8      RESULTS   \n",
              "...            ...          ...          ...   \n",
              "30130           13           17      RESULTS   \n",
              "30131           14           17      RESULTS   \n",
              "30132           15           17      RESULTS   \n",
              "30133           16           17      RESULTS   \n",
              "30134           17           17  CONCLUSIONS   \n",
              "\n",
              "                                                    text  \n",
              "0      This study analyzed liver function abnormaliti...  \n",
              "1      A post hoc analysis was conducted with the use...  \n",
              "2      Liver function tests ( LFTs ) were measured at...  \n",
              "3      Survival analyses were used to assess the asso...  \n",
              "4      The percentage of patients with abnormal LFTs ...  \n",
              "...                                                  ...  \n",
              "30130  There was a statistically significant between-...  \n",
              "30131  There were no statistically significant betwee...  \n",
              "30132  There was no significant association between s...  \n",
              "30133                 No adverse effects were reported .  \n",
              "30134  Performing a @-week do-as-tolerated program of...  \n",
              "\n",
              "[30135 rows x 4 columns]"
            ],
            "text/html": [
              "\n",
              "  <div id=\"df-07c45229-ae66-4105-8a07-20d080d56bbe\">\n",
              "    <div class=\"colab-df-container\">\n",
              "      <div>\n",
              "<style scoped>\n",
              "    .dataframe tbody tr th:only-of-type {\n",
              "        vertical-align: middle;\n",
              "    }\n",
              "\n",
              "    .dataframe tbody tr th {\n",
              "        vertical-align: top;\n",
              "    }\n",
              "\n",
              "    .dataframe thead th {\n",
              "        text-align: right;\n",
              "    }\n",
              "</style>\n",
              "<table border=\"1\" class=\"dataframe\">\n",
              "  <thead>\n",
              "    <tr style=\"text-align: right;\">\n",
              "      <th></th>\n",
              "      <th>line_number</th>\n",
              "      <th>total_lines</th>\n",
              "      <th>target</th>\n",
              "      <th>text</th>\n",
              "    </tr>\n",
              "  </thead>\n",
              "  <tbody>\n",
              "    <tr>\n",
              "      <th>0</th>\n",
              "      <td>0</td>\n",
              "      <td>8</td>\n",
              "      <td>BACKGROUND</td>\n",
              "      <td>This study analyzed liver function abnormaliti...</td>\n",
              "    </tr>\n",
              "    <tr>\n",
              "      <th>1</th>\n",
              "      <td>1</td>\n",
              "      <td>8</td>\n",
              "      <td>RESULTS</td>\n",
              "      <td>A post hoc analysis was conducted with the use...</td>\n",
              "    </tr>\n",
              "    <tr>\n",
              "      <th>2</th>\n",
              "      <td>2</td>\n",
              "      <td>8</td>\n",
              "      <td>RESULTS</td>\n",
              "      <td>Liver function tests ( LFTs ) were measured at...</td>\n",
              "    </tr>\n",
              "    <tr>\n",
              "      <th>3</th>\n",
              "      <td>3</td>\n",
              "      <td>8</td>\n",
              "      <td>RESULTS</td>\n",
              "      <td>Survival analyses were used to assess the asso...</td>\n",
              "    </tr>\n",
              "    <tr>\n",
              "      <th>4</th>\n",
              "      <td>4</td>\n",
              "      <td>8</td>\n",
              "      <td>RESULTS</td>\n",
              "      <td>The percentage of patients with abnormal LFTs ...</td>\n",
              "    </tr>\n",
              "    <tr>\n",
              "      <th>...</th>\n",
              "      <td>...</td>\n",
              "      <td>...</td>\n",
              "      <td>...</td>\n",
              "      <td>...</td>\n",
              "    </tr>\n",
              "    <tr>\n",
              "      <th>30130</th>\n",
              "      <td>13</td>\n",
              "      <td>17</td>\n",
              "      <td>RESULTS</td>\n",
              "      <td>There was a statistically significant between-...</td>\n",
              "    </tr>\n",
              "    <tr>\n",
              "      <th>30131</th>\n",
              "      <td>14</td>\n",
              "      <td>17</td>\n",
              "      <td>RESULTS</td>\n",
              "      <td>There were no statistically significant betwee...</td>\n",
              "    </tr>\n",
              "    <tr>\n",
              "      <th>30132</th>\n",
              "      <td>15</td>\n",
              "      <td>17</td>\n",
              "      <td>RESULTS</td>\n",
              "      <td>There was no significant association between s...</td>\n",
              "    </tr>\n",
              "    <tr>\n",
              "      <th>30133</th>\n",
              "      <td>16</td>\n",
              "      <td>17</td>\n",
              "      <td>RESULTS</td>\n",
              "      <td>No adverse effects were reported .</td>\n",
              "    </tr>\n",
              "    <tr>\n",
              "      <th>30134</th>\n",
              "      <td>17</td>\n",
              "      <td>17</td>\n",
              "      <td>CONCLUSIONS</td>\n",
              "      <td>Performing a @-week do-as-tolerated program of...</td>\n",
              "    </tr>\n",
              "  </tbody>\n",
              "</table>\n",
              "<p>30135 rows × 4 columns</p>\n",
              "</div>\n",
              "      <button class=\"colab-df-convert\" onclick=\"convertToInteractive('df-07c45229-ae66-4105-8a07-20d080d56bbe')\"\n",
              "              title=\"Convert this dataframe to an interactive table.\"\n",
              "              style=\"display:none;\">\n",
              "        \n",
              "  <svg xmlns=\"http://www.w3.org/2000/svg\" height=\"24px\"viewBox=\"0 0 24 24\"\n",
              "       width=\"24px\">\n",
              "    <path d=\"M0 0h24v24H0V0z\" fill=\"none\"/>\n",
              "    <path d=\"M18.56 5.44l.94 2.06.94-2.06 2.06-.94-2.06-.94-.94-2.06-.94 2.06-2.06.94zm-11 1L8.5 8.5l.94-2.06 2.06-.94-2.06-.94L8.5 2.5l-.94 2.06-2.06.94zm10 10l.94 2.06.94-2.06 2.06-.94-2.06-.94-.94-2.06-.94 2.06-2.06.94z\"/><path d=\"M17.41 7.96l-1.37-1.37c-.4-.4-.92-.59-1.43-.59-.52 0-1.04.2-1.43.59L10.3 9.45l-7.72 7.72c-.78.78-.78 2.05 0 2.83L4 21.41c.39.39.9.59 1.41.59.51 0 1.02-.2 1.41-.59l7.78-7.78 2.81-2.81c.8-.78.8-2.07 0-2.86zM5.41 20L4 18.59l7.72-7.72 1.47 1.35L5.41 20z\"/>\n",
              "  </svg>\n",
              "      </button>\n",
              "      \n",
              "  <style>\n",
              "    .colab-df-container {\n",
              "      display:flex;\n",
              "      flex-wrap:wrap;\n",
              "      gap: 12px;\n",
              "    }\n",
              "\n",
              "    .colab-df-convert {\n",
              "      background-color: #E8F0FE;\n",
              "      border: none;\n",
              "      border-radius: 50%;\n",
              "      cursor: pointer;\n",
              "      display: none;\n",
              "      fill: #1967D2;\n",
              "      height: 32px;\n",
              "      padding: 0 0 0 0;\n",
              "      width: 32px;\n",
              "    }\n",
              "\n",
              "    .colab-df-convert:hover {\n",
              "      background-color: #E2EBFA;\n",
              "      box-shadow: 0px 1px 2px rgba(60, 64, 67, 0.3), 0px 1px 3px 1px rgba(60, 64, 67, 0.15);\n",
              "      fill: #174EA6;\n",
              "    }\n",
              "\n",
              "    [theme=dark] .colab-df-convert {\n",
              "      background-color: #3B4455;\n",
              "      fill: #D2E3FC;\n",
              "    }\n",
              "\n",
              "    [theme=dark] .colab-df-convert:hover {\n",
              "      background-color: #434B5C;\n",
              "      box-shadow: 0px 1px 3px 1px rgba(0, 0, 0, 0.15);\n",
              "      filter: drop-shadow(0px 1px 2px rgba(0, 0, 0, 0.3));\n",
              "      fill: #FFFFFF;\n",
              "    }\n",
              "  </style>\n",
              "\n",
              "      <script>\n",
              "        const buttonEl =\n",
              "          document.querySelector('#df-07c45229-ae66-4105-8a07-20d080d56bbe button.colab-df-convert');\n",
              "        buttonEl.style.display =\n",
              "          google.colab.kernel.accessAllowed ? 'block' : 'none';\n",
              "\n",
              "        async function convertToInteractive(key) {\n",
              "          const element = document.querySelector('#df-07c45229-ae66-4105-8a07-20d080d56bbe');\n",
              "          const dataTable =\n",
              "            await google.colab.kernel.invokeFunction('convertToInteractive',\n",
              "                                                     [key], {});\n",
              "          if (!dataTable) return;\n",
              "\n",
              "          const docLinkHtml = 'Like what you see? Visit the ' +\n",
              "            '<a target=\"_blank\" href=https://colab.research.google.com/notebooks/data_table.ipynb>data table notebook</a>'\n",
              "            + ' to learn more about interactive tables.';\n",
              "          element.innerHTML = '';\n",
              "          dataTable['output_type'] = 'display_data';\n",
              "          await google.colab.output.renderOutput(dataTable, element);\n",
              "          const docLink = document.createElement('div');\n",
              "          docLink.innerHTML = docLinkHtml;\n",
              "          element.appendChild(docLink);\n",
              "        }\n",
              "      </script>\n",
              "    </div>\n",
              "  </div>\n",
              "  "
            ]
          },
          "metadata": {},
          "execution_count": 167
        }
      ]
    },
    {
      "cell_type": "code",
      "source": [
        "test_pd[\"labels\"] = test_label_enc\n",
        "test_pd[\"predicts\"] = model5_test_predicts\n",
        "\n",
        "equation = np.where((test_pd[\"labels\"] == test_pd[\"predicts\"]) , True , False)\n",
        "test_pd[\"equ\"] = equation\n",
        "test_pd[\"probs\"] = model5_test_predict_porbs"
      ],
      "metadata": {
        "id": "mnqvpW7eMczN"
      },
      "execution_count": 168,
      "outputs": []
    },
    {
      "cell_type": "code",
      "source": [
        "wrong_test_predict = test_pd[test_pd[\"equ\"] == False]"
      ],
      "metadata": {
        "id": "OW9MyT_wNCh7"
      },
      "execution_count": 169,
      "outputs": []
    },
    {
      "cell_type": "code",
      "source": [
        "most_wrong_test_predict = wrong_test_predict.sort_values(\"probs\" , ascending = False)"
      ],
      "metadata": {
        "id": "4fUGyoZUNUyh"
      },
      "execution_count": 170,
      "outputs": []
    },
    {
      "cell_type": "code",
      "source": [
        "most_wrong_test_predict"
      ],
      "metadata": {
        "colab": {
          "base_uri": "https://localhost:8080/",
          "height": 424
        },
        "id": "-E75tx6bNXDY",
        "outputId": "33017b13-ed34-42ec-91b2-cd62e894accf"
      },
      "execution_count": 171,
      "outputs": [
        {
          "output_type": "execute_result",
          "data": {
            "text/plain": [
              "       line_number  total_lines      target  \\\n",
              "13860            0            9  BACKGROUND   \n",
              "22736            4           20   OBJECTIVE   \n",
              "16347            0           12  BACKGROUND   \n",
              "12158            9           12     METHODS   \n",
              "23251            3            9   OBJECTIVE   \n",
              "...            ...          ...         ...   \n",
              "22010            7           15  BACKGROUND   \n",
              "9663            14           16  BACKGROUND   \n",
              "6574             5           11     METHODS   \n",
              "7279             3            7     METHODS   \n",
              "23023            7           13  BACKGROUND   \n",
              "\n",
              "                                                    text  labels  predicts  \\\n",
              "13860  To evaluate efficacy and side effects of glyci...       0         3   \n",
              "22736  The National Institute of Oncology , Budapest ...       3         2   \n",
              "16347  To evaluate the effects of the lactic acid bac...       0         3   \n",
              "12158  In the saffron group , there was no decline in...       2         4   \n",
              "23251  Design and setting A cluster randomised contro...       3         2   \n",
              "...                                                  ...     ...       ...   \n",
              "22010  Aim of this prospective randomized trial is to...       0         2   \n",
              "9663   Primary ethics approval was received from the ...       0         4   \n",
              "6574   During BMC , the medical team facilitates the ...       2         4   \n",
              "7279   We describe the rationale and design of the RE...       2         0   \n",
              "23023  Our aims are to understand how , why , and for...       0         4   \n",
              "\n",
              "         equ     probs  \n",
              "13860  False  0.954592  \n",
              "22736  False  0.953911  \n",
              "16347  False  0.953824  \n",
              "12158  False  0.951839  \n",
              "23251  False  0.950952  \n",
              "...      ...       ...  \n",
              "22010  False  0.271728  \n",
              "9663   False  0.271521  \n",
              "6574   False  0.267164  \n",
              "7279   False  0.264567  \n",
              "23023  False  0.241317  \n",
              "\n",
              "[3935 rows x 8 columns]"
            ],
            "text/html": [
              "\n",
              "  <div id=\"df-0d774080-9538-46f1-b1c3-bda5be0117a2\">\n",
              "    <div class=\"colab-df-container\">\n",
              "      <div>\n",
              "<style scoped>\n",
              "    .dataframe tbody tr th:only-of-type {\n",
              "        vertical-align: middle;\n",
              "    }\n",
              "\n",
              "    .dataframe tbody tr th {\n",
              "        vertical-align: top;\n",
              "    }\n",
              "\n",
              "    .dataframe thead th {\n",
              "        text-align: right;\n",
              "    }\n",
              "</style>\n",
              "<table border=\"1\" class=\"dataframe\">\n",
              "  <thead>\n",
              "    <tr style=\"text-align: right;\">\n",
              "      <th></th>\n",
              "      <th>line_number</th>\n",
              "      <th>total_lines</th>\n",
              "      <th>target</th>\n",
              "      <th>text</th>\n",
              "      <th>labels</th>\n",
              "      <th>predicts</th>\n",
              "      <th>equ</th>\n",
              "      <th>probs</th>\n",
              "    </tr>\n",
              "  </thead>\n",
              "  <tbody>\n",
              "    <tr>\n",
              "      <th>13860</th>\n",
              "      <td>0</td>\n",
              "      <td>9</td>\n",
              "      <td>BACKGROUND</td>\n",
              "      <td>To evaluate efficacy and side effects of glyci...</td>\n",
              "      <td>0</td>\n",
              "      <td>3</td>\n",
              "      <td>False</td>\n",
              "      <td>0.954592</td>\n",
              "    </tr>\n",
              "    <tr>\n",
              "      <th>22736</th>\n",
              "      <td>4</td>\n",
              "      <td>20</td>\n",
              "      <td>OBJECTIVE</td>\n",
              "      <td>The National Institute of Oncology , Budapest ...</td>\n",
              "      <td>3</td>\n",
              "      <td>2</td>\n",
              "      <td>False</td>\n",
              "      <td>0.953911</td>\n",
              "    </tr>\n",
              "    <tr>\n",
              "      <th>16347</th>\n",
              "      <td>0</td>\n",
              "      <td>12</td>\n",
              "      <td>BACKGROUND</td>\n",
              "      <td>To evaluate the effects of the lactic acid bac...</td>\n",
              "      <td>0</td>\n",
              "      <td>3</td>\n",
              "      <td>False</td>\n",
              "      <td>0.953824</td>\n",
              "    </tr>\n",
              "    <tr>\n",
              "      <th>12158</th>\n",
              "      <td>9</td>\n",
              "      <td>12</td>\n",
              "      <td>METHODS</td>\n",
              "      <td>In the saffron group , there was no decline in...</td>\n",
              "      <td>2</td>\n",
              "      <td>4</td>\n",
              "      <td>False</td>\n",
              "      <td>0.951839</td>\n",
              "    </tr>\n",
              "    <tr>\n",
              "      <th>23251</th>\n",
              "      <td>3</td>\n",
              "      <td>9</td>\n",
              "      <td>OBJECTIVE</td>\n",
              "      <td>Design and setting A cluster randomised contro...</td>\n",
              "      <td>3</td>\n",
              "      <td>2</td>\n",
              "      <td>False</td>\n",
              "      <td>0.950952</td>\n",
              "    </tr>\n",
              "    <tr>\n",
              "      <th>...</th>\n",
              "      <td>...</td>\n",
              "      <td>...</td>\n",
              "      <td>...</td>\n",
              "      <td>...</td>\n",
              "      <td>...</td>\n",
              "      <td>...</td>\n",
              "      <td>...</td>\n",
              "      <td>...</td>\n",
              "    </tr>\n",
              "    <tr>\n",
              "      <th>22010</th>\n",
              "      <td>7</td>\n",
              "      <td>15</td>\n",
              "      <td>BACKGROUND</td>\n",
              "      <td>Aim of this prospective randomized trial is to...</td>\n",
              "      <td>0</td>\n",
              "      <td>2</td>\n",
              "      <td>False</td>\n",
              "      <td>0.271728</td>\n",
              "    </tr>\n",
              "    <tr>\n",
              "      <th>9663</th>\n",
              "      <td>14</td>\n",
              "      <td>16</td>\n",
              "      <td>BACKGROUND</td>\n",
              "      <td>Primary ethics approval was received from the ...</td>\n",
              "      <td>0</td>\n",
              "      <td>4</td>\n",
              "      <td>False</td>\n",
              "      <td>0.271521</td>\n",
              "    </tr>\n",
              "    <tr>\n",
              "      <th>6574</th>\n",
              "      <td>5</td>\n",
              "      <td>11</td>\n",
              "      <td>METHODS</td>\n",
              "      <td>During BMC , the medical team facilitates the ...</td>\n",
              "      <td>2</td>\n",
              "      <td>4</td>\n",
              "      <td>False</td>\n",
              "      <td>0.267164</td>\n",
              "    </tr>\n",
              "    <tr>\n",
              "      <th>7279</th>\n",
              "      <td>3</td>\n",
              "      <td>7</td>\n",
              "      <td>METHODS</td>\n",
              "      <td>We describe the rationale and design of the RE...</td>\n",
              "      <td>2</td>\n",
              "      <td>0</td>\n",
              "      <td>False</td>\n",
              "      <td>0.264567</td>\n",
              "    </tr>\n",
              "    <tr>\n",
              "      <th>23023</th>\n",
              "      <td>7</td>\n",
              "      <td>13</td>\n",
              "      <td>BACKGROUND</td>\n",
              "      <td>Our aims are to understand how , why , and for...</td>\n",
              "      <td>0</td>\n",
              "      <td>4</td>\n",
              "      <td>False</td>\n",
              "      <td>0.241317</td>\n",
              "    </tr>\n",
              "  </tbody>\n",
              "</table>\n",
              "<p>3935 rows × 8 columns</p>\n",
              "</div>\n",
              "      <button class=\"colab-df-convert\" onclick=\"convertToInteractive('df-0d774080-9538-46f1-b1c3-bda5be0117a2')\"\n",
              "              title=\"Convert this dataframe to an interactive table.\"\n",
              "              style=\"display:none;\">\n",
              "        \n",
              "  <svg xmlns=\"http://www.w3.org/2000/svg\" height=\"24px\"viewBox=\"0 0 24 24\"\n",
              "       width=\"24px\">\n",
              "    <path d=\"M0 0h24v24H0V0z\" fill=\"none\"/>\n",
              "    <path d=\"M18.56 5.44l.94 2.06.94-2.06 2.06-.94-2.06-.94-.94-2.06-.94 2.06-2.06.94zm-11 1L8.5 8.5l.94-2.06 2.06-.94-2.06-.94L8.5 2.5l-.94 2.06-2.06.94zm10 10l.94 2.06.94-2.06 2.06-.94-2.06-.94-.94-2.06-.94 2.06-2.06.94z\"/><path d=\"M17.41 7.96l-1.37-1.37c-.4-.4-.92-.59-1.43-.59-.52 0-1.04.2-1.43.59L10.3 9.45l-7.72 7.72c-.78.78-.78 2.05 0 2.83L4 21.41c.39.39.9.59 1.41.59.51 0 1.02-.2 1.41-.59l7.78-7.78 2.81-2.81c.8-.78.8-2.07 0-2.86zM5.41 20L4 18.59l7.72-7.72 1.47 1.35L5.41 20z\"/>\n",
              "  </svg>\n",
              "      </button>\n",
              "      \n",
              "  <style>\n",
              "    .colab-df-container {\n",
              "      display:flex;\n",
              "      flex-wrap:wrap;\n",
              "      gap: 12px;\n",
              "    }\n",
              "\n",
              "    .colab-df-convert {\n",
              "      background-color: #E8F0FE;\n",
              "      border: none;\n",
              "      border-radius: 50%;\n",
              "      cursor: pointer;\n",
              "      display: none;\n",
              "      fill: #1967D2;\n",
              "      height: 32px;\n",
              "      padding: 0 0 0 0;\n",
              "      width: 32px;\n",
              "    }\n",
              "\n",
              "    .colab-df-convert:hover {\n",
              "      background-color: #E2EBFA;\n",
              "      box-shadow: 0px 1px 2px rgba(60, 64, 67, 0.3), 0px 1px 3px 1px rgba(60, 64, 67, 0.15);\n",
              "      fill: #174EA6;\n",
              "    }\n",
              "\n",
              "    [theme=dark] .colab-df-convert {\n",
              "      background-color: #3B4455;\n",
              "      fill: #D2E3FC;\n",
              "    }\n",
              "\n",
              "    [theme=dark] .colab-df-convert:hover {\n",
              "      background-color: #434B5C;\n",
              "      box-shadow: 0px 1px 3px 1px rgba(0, 0, 0, 0.15);\n",
              "      filter: drop-shadow(0px 1px 2px rgba(0, 0, 0, 0.3));\n",
              "      fill: #FFFFFF;\n",
              "    }\n",
              "  </style>\n",
              "\n",
              "      <script>\n",
              "        const buttonEl =\n",
              "          document.querySelector('#df-0d774080-9538-46f1-b1c3-bda5be0117a2 button.colab-df-convert');\n",
              "        buttonEl.style.display =\n",
              "          google.colab.kernel.accessAllowed ? 'block' : 'none';\n",
              "\n",
              "        async function convertToInteractive(key) {\n",
              "          const element = document.querySelector('#df-0d774080-9538-46f1-b1c3-bda5be0117a2');\n",
              "          const dataTable =\n",
              "            await google.colab.kernel.invokeFunction('convertToInteractive',\n",
              "                                                     [key], {});\n",
              "          if (!dataTable) return;\n",
              "\n",
              "          const docLinkHtml = 'Like what you see? Visit the ' +\n",
              "            '<a target=\"_blank\" href=https://colab.research.google.com/notebooks/data_table.ipynb>data table notebook</a>'\n",
              "            + ' to learn more about interactive tables.';\n",
              "          element.innerHTML = '';\n",
              "          dataTable['output_type'] = 'display_data';\n",
              "          await google.colab.output.renderOutput(dataTable, element);\n",
              "          const docLink = document.createElement('div');\n",
              "          docLink.innerHTML = docLinkHtml;\n",
              "          element.appendChild(docLink);\n",
              "        }\n",
              "      </script>\n",
              "    </div>\n",
              "  </div>\n",
              "  "
            ]
          },
          "metadata": {},
          "execution_count": 171
        }
      ]
    },
    {
      "cell_type": "code",
      "source": [
        "wild_txt = \"The double-blind randomized controlled trial (RCT) is accepted by medicine as objective scientific methodology that, when ideally performed, produces knowledge untainted by bias. The validity of the RCT rests not just on theoretical arguments, but also on the discrepancy between the RCT and less rigorous evidence (the difference is sometimes considered an objective measure of bias). A brief overview of historical and recent developments in \\\"the discrepancy argument\\\" is presented. The article then examines the possibility that some of this \\\"deviation from truth\\\" may be the result of artifacts introduced by the masked RCT itself. Can an \\\"unbiased\\\" method produce bias? Among the experiments examined are those that augment the methodological stringency of a normal RCT in order to render the experiment less susceptible to subversion by the mind. This methodology, a hypothetical \\\"platinum\\\" standard, can be used to judge the \\\"gold\\\" standard. The concealment in a placebo-controlled RCT seems capable of generating a \\\"masking bias.\\\" Other potential biases, such as \\\"investigator self-selection,\" \"preference,\\\" and \\\"consent\\\" are also briefly discussed. Such potential distortions indicate that the double-blind RCT may not be objective in the realist sense, but rather is objective in a \\\"softer\\\" disciplinary sense. Some \\\"facts\\\" may not exist independent of the apparatus of their production.\"\n",
        "wild_txt = wild_txt.split(\".\")\n",
        "wild_txt = wild_txt[:len(wild_txt) - 1]\n",
        "wild_txt"
      ],
      "metadata": {
        "colab": {
          "base_uri": "https://localhost:8080/"
        },
        "id": "0FbPCplNb9rF",
        "outputId": "d46420e7-69be-40c0-8577-7f5bf9e61b29"
      },
      "execution_count": 172,
      "outputs": [
        {
          "output_type": "execute_result",
          "data": {
            "text/plain": [
              "['The double-blind randomized controlled trial (RCT) is accepted by medicine as objective scientific methodology that, when ideally performed, produces knowledge untainted by bias',\n",
              " ' The validity of the RCT rests not just on theoretical arguments, but also on the discrepancy between the RCT and less rigorous evidence (the difference is sometimes considered an objective measure of bias)',\n",
              " ' A brief overview of historical and recent developments in \"the discrepancy argument\" is presented',\n",
              " ' The article then examines the possibility that some of this \"deviation from truth\" may be the result of artifacts introduced by the masked RCT itself',\n",
              " ' Can an \"unbiased\" method produce bias? Among the experiments examined are those that augment the methodological stringency of a normal RCT in order to render the experiment less susceptible to subversion by the mind',\n",
              " ' This methodology, a hypothetical \"platinum\" standard, can be used to judge the \"gold\" standard',\n",
              " ' The concealment in a placebo-controlled RCT seems capable of generating a \"masking bias',\n",
              " '\" Other potential biases, such as \"investigator self-selection,preference,\" and \"consent\" are also briefly discussed',\n",
              " ' Such potential distortions indicate that the double-blind RCT may not be objective in the realist sense, but rather is objective in a \"softer\" disciplinary sense',\n",
              " ' Some \"facts\" may not exist independent of the apparatus of their production']"
            ]
          },
          "metadata": {},
          "execution_count": 172
        }
      ]
    },
    {
      "cell_type": "code",
      "source": [
        "wild_char = []\n",
        "for txt in wild_txt:\n",
        "  wild_char.append(token_to_char(txt))\n",
        "wild_char"
      ],
      "metadata": {
        "colab": {
          "base_uri": "https://localhost:8080/"
        },
        "id": "lgO_jsvle1mc",
        "outputId": "eb909901-fd9a-4282-a2f5-efb224ef21fa"
      },
      "execution_count": 173,
      "outputs": [
        {
          "output_type": "execute_result",
          "data": {
            "text/plain": [
              "['T h e   d o u b l e - b l i n d   r a n d o m i z e d   c o n t r o l l e d   t r i a l   ( R C T )   i s   a c c e p t e d   b y   m e d i c i n e   a s   o b j e c t i v e   s c i e n t i f i c   m e t h o d o l o g y   t h a t ,   w h e n   i d e a l l y   p e r f o r m e d ,   p r o d u c e s   k n o w l e d g e   u n t a i n t e d   b y   b i a s',\n",
              " '  T h e   v a l i d i t y   o f   t h e   R C T   r e s t s   n o t   j u s t   o n   t h e o r e t i c a l   a r g u m e n t s ,   b u t   a l s o   o n   t h e   d i s c r e p a n c y   b e t w e e n   t h e   R C T   a n d   l e s s   r i g o r o u s   e v i d e n c e   ( t h e   d i f f e r e n c e   i s   s o m e t i m e s   c o n s i d e r e d   a n   o b j e c t i v e   m e a s u r e   o f   b i a s )',\n",
              " '  A   b r i e f   o v e r v i e w   o f   h i s t o r i c a l   a n d   r e c e n t   d e v e l o p m e n t s   i n   \" t h e   d i s c r e p a n c y   a r g u m e n t \"   i s   p r e s e n t e d',\n",
              " '  T h e   a r t i c l e   t h e n   e x a m i n e s   t h e   p o s s i b i l i t y   t h a t   s o m e   o f   t h i s   \" d e v i a t i o n   f r o m   t r u t h \"   m a y   b e   t h e   r e s u l t   o f   a r t i f a c t s   i n t r o d u c e d   b y   t h e   m a s k e d   R C T   i t s e l f',\n",
              " '  C a n   a n   \" u n b i a s e d \"   m e t h o d   p r o d u c e   b i a s ?   A m o n g   t h e   e x p e r i m e n t s   e x a m i n e d   a r e   t h o s e   t h a t   a u g m e n t   t h e   m e t h o d o l o g i c a l   s t r i n g e n c y   o f   a   n o r m a l   R C T   i n   o r d e r   t o   r e n d e r   t h e   e x p e r i m e n t   l e s s   s u s c e p t i b l e   t o   s u b v e r s i o n   b y   t h e   m i n d',\n",
              " '  T h i s   m e t h o d o l o g y ,   a   h y p o t h e t i c a l   \" p l a t i n u m \"   s t a n d a r d ,   c a n   b e   u s e d   t o   j u d g e   t h e   \" g o l d \"   s t a n d a r d',\n",
              " '  T h e   c o n c e a l m e n t   i n   a   p l a c e b o - c o n t r o l l e d   R C T   s e e m s   c a p a b l e   o f   g e n e r a t i n g   a   \" m a s k i n g   b i a s',\n",
              " '\"   O t h e r   p o t e n t i a l   b i a s e s ,   s u c h   a s   \" i n v e s t i g a t o r   s e l f - s e l e c t i o n , p r e f e r e n c e , \"   a n d   \" c o n s e n t \"   a r e   a l s o   b r i e f l y   d i s c u s s e d',\n",
              " '  S u c h   p o t e n t i a l   d i s t o r t i o n s   i n d i c a t e   t h a t   t h e   d o u b l e - b l i n d   R C T   m a y   n o t   b e   o b j e c t i v e   i n   t h e   r e a l i s t   s e n s e ,   b u t   r a t h e r   i s   o b j e c t i v e   i n   a   \" s o f t e r \"   d i s c i p l i n a r y   s e n s e',\n",
              " '  S o m e   \" f a c t s \"   m a y   n o t   e x i s t   i n d e p e n d e n t   o f   t h e   a p p a r a t u s   o f   t h e i r   p r o d u c t i o n']"
            ]
          },
          "metadata": {},
          "execution_count": 173
        }
      ]
    },
    {
      "cell_type": "code",
      "source": [
        "wild_line_numbers = []\n",
        "i = 0\n",
        "for txt in wild_txt:\n",
        "  wild_line_numbers.append(i)\n",
        "  i = i + 1\n",
        "wild_line_numbers"
      ],
      "metadata": {
        "colab": {
          "base_uri": "https://localhost:8080/"
        },
        "id": "0uBwSK9sfEIK",
        "outputId": "63d662c8-4a77-475d-c167-1d27b6c55e68"
      },
      "execution_count": 174,
      "outputs": [
        {
          "output_type": "execute_result",
          "data": {
            "text/plain": [
              "[0, 1, 2, 3, 4, 5, 6, 7, 8, 9]"
            ]
          },
          "metadata": {},
          "execution_count": 174
        }
      ]
    },
    {
      "cell_type": "code",
      "source": [
        "wild_total_lines = [i-1 for b in range(i)]\n",
        "wild_total_lines"
      ],
      "metadata": {
        "colab": {
          "base_uri": "https://localhost:8080/"
        },
        "id": "hkmJnrhEg9QJ",
        "outputId": "20fba1dd-1ed8-4eb0-fdbb-b56c47490f34"
      },
      "execution_count": 175,
      "outputs": [
        {
          "output_type": "execute_result",
          "data": {
            "text/plain": [
              "[9, 9, 9, 9, 9, 9, 9, 9, 9, 9]"
            ]
          },
          "metadata": {},
          "execution_count": 175
        }
      ]
    },
    {
      "cell_type": "code",
      "source": [
        "wild_line_numbers_onehot = tf.one_hot(wild_line_numbers , depth = 15)\n",
        "wild_total_lines_onehot = tf.one_hot(wild_total_lines , depth = 20)"
      ],
      "metadata": {
        "id": "tJySwp9ngLwr"
      },
      "execution_count": 176,
      "outputs": []
    },
    {
      "cell_type": "code",
      "source": [
        "wild_predict = model5.predict(x = (tf.constant(wild_txt) , tf.constant(wild_char) , wild_line_numbers_onehot , wild_total_lines_onehot))"
      ],
      "metadata": {
        "id": "lT8sJIt0hkHo",
        "colab": {
          "base_uri": "https://localhost:8080/"
        },
        "outputId": "4b24fa2a-fc9c-4aab-cc81-2ca6b01f0d79"
      },
      "execution_count": 177,
      "outputs": [
        {
          "output_type": "stream",
          "name": "stdout",
          "text": [
            "1/1 [==============================] - 3s 3s/step\n"
          ]
        }
      ]
    },
    {
      "cell_type": "code",
      "source": [
        "wild_predict = tf.argmax(wild_predict , axis = 1)\n",
        "wild_predict"
      ],
      "metadata": {
        "colab": {
          "base_uri": "https://localhost:8080/"
        },
        "id": "H13fiA4Chypx",
        "outputId": "c8e10709-0a29-4824-bf21-ea2236fc6754"
      },
      "execution_count": 178,
      "outputs": [
        {
          "output_type": "execute_result",
          "data": {
            "text/plain": [
              "<tf.Tensor: shape=(10,), dtype=int64, numpy=array([0, 0, 2, 0, 2, 2, 4, 1, 1, 1])>"
            ]
          },
          "metadata": {},
          "execution_count": 178
        }
      ]
    },
    {
      "cell_type": "code",
      "source": [
        "classes = label_encoder.classes_"
      ],
      "metadata": {
        "id": "TRr1n9eVi1ps"
      },
      "execution_count": 179,
      "outputs": []
    },
    {
      "cell_type": "code",
      "source": [
        "wild_predicts = []\n",
        "for i in wild_predict.numpy():\n",
        "  wild_predicts.append(classes[i])\n",
        "wild_predicts"
      ],
      "metadata": {
        "colab": {
          "base_uri": "https://localhost:8080/"
        },
        "id": "izPXepgwjyu4",
        "outputId": "a6ce050e-170d-484e-a58b-43906646c33d"
      },
      "execution_count": 180,
      "outputs": [
        {
          "output_type": "execute_result",
          "data": {
            "text/plain": [
              "['BACKGROUND',\n",
              " 'BACKGROUND',\n",
              " 'METHODS',\n",
              " 'BACKGROUND',\n",
              " 'METHODS',\n",
              " 'METHODS',\n",
              " 'RESULTS',\n",
              " 'CONCLUSIONS',\n",
              " 'CONCLUSIONS',\n",
              " 'CONCLUSIONS']"
            ]
          },
          "metadata": {},
          "execution_count": 180
        }
      ]
    },
    {
      "cell_type": "code",
      "source": [
        "wild_result = pd.DataFrame({\"text\":wild_txt ,\"target\":wild_predicts})\n",
        "wild_result"
      ],
      "metadata": {
        "colab": {
          "base_uri": "https://localhost:8080/",
          "height": 363
        },
        "id": "nHxGZv6vjGJy",
        "outputId": "50b23036-d872-4c59-f17c-323394b67ad9"
      },
      "execution_count": 181,
      "outputs": [
        {
          "output_type": "execute_result",
          "data": {
            "text/plain": [
              "                                                text       target\n",
              "0  The double-blind randomized controlled trial (...   BACKGROUND\n",
              "1   The validity of the RCT rests not just on the...   BACKGROUND\n",
              "2   A brief overview of historical and recent dev...      METHODS\n",
              "3   The article then examines the possibility tha...   BACKGROUND\n",
              "4   Can an \"unbiased\" method produce bias? Among ...      METHODS\n",
              "5   This methodology, a hypothetical \"platinum\" s...      METHODS\n",
              "6   The concealment in a placebo-controlled RCT s...      RESULTS\n",
              "7  \" Other potential biases, such as \"investigato...  CONCLUSIONS\n",
              "8   Such potential distortions indicate that the ...  CONCLUSIONS\n",
              "9   Some \"facts\" may not exist independent of the...  CONCLUSIONS"
            ],
            "text/html": [
              "\n",
              "  <div id=\"df-70ad0a19-59c0-4cef-95cb-b7d275927394\">\n",
              "    <div class=\"colab-df-container\">\n",
              "      <div>\n",
              "<style scoped>\n",
              "    .dataframe tbody tr th:only-of-type {\n",
              "        vertical-align: middle;\n",
              "    }\n",
              "\n",
              "    .dataframe tbody tr th {\n",
              "        vertical-align: top;\n",
              "    }\n",
              "\n",
              "    .dataframe thead th {\n",
              "        text-align: right;\n",
              "    }\n",
              "</style>\n",
              "<table border=\"1\" class=\"dataframe\">\n",
              "  <thead>\n",
              "    <tr style=\"text-align: right;\">\n",
              "      <th></th>\n",
              "      <th>text</th>\n",
              "      <th>target</th>\n",
              "    </tr>\n",
              "  </thead>\n",
              "  <tbody>\n",
              "    <tr>\n",
              "      <th>0</th>\n",
              "      <td>The double-blind randomized controlled trial (...</td>\n",
              "      <td>BACKGROUND</td>\n",
              "    </tr>\n",
              "    <tr>\n",
              "      <th>1</th>\n",
              "      <td>The validity of the RCT rests not just on the...</td>\n",
              "      <td>BACKGROUND</td>\n",
              "    </tr>\n",
              "    <tr>\n",
              "      <th>2</th>\n",
              "      <td>A brief overview of historical and recent dev...</td>\n",
              "      <td>METHODS</td>\n",
              "    </tr>\n",
              "    <tr>\n",
              "      <th>3</th>\n",
              "      <td>The article then examines the possibility tha...</td>\n",
              "      <td>BACKGROUND</td>\n",
              "    </tr>\n",
              "    <tr>\n",
              "      <th>4</th>\n",
              "      <td>Can an \"unbiased\" method produce bias? Among ...</td>\n",
              "      <td>METHODS</td>\n",
              "    </tr>\n",
              "    <tr>\n",
              "      <th>5</th>\n",
              "      <td>This methodology, a hypothetical \"platinum\" s...</td>\n",
              "      <td>METHODS</td>\n",
              "    </tr>\n",
              "    <tr>\n",
              "      <th>6</th>\n",
              "      <td>The concealment in a placebo-controlled RCT s...</td>\n",
              "      <td>RESULTS</td>\n",
              "    </tr>\n",
              "    <tr>\n",
              "      <th>7</th>\n",
              "      <td>\" Other potential biases, such as \"investigato...</td>\n",
              "      <td>CONCLUSIONS</td>\n",
              "    </tr>\n",
              "    <tr>\n",
              "      <th>8</th>\n",
              "      <td>Such potential distortions indicate that the ...</td>\n",
              "      <td>CONCLUSIONS</td>\n",
              "    </tr>\n",
              "    <tr>\n",
              "      <th>9</th>\n",
              "      <td>Some \"facts\" may not exist independent of the...</td>\n",
              "      <td>CONCLUSIONS</td>\n",
              "    </tr>\n",
              "  </tbody>\n",
              "</table>\n",
              "</div>\n",
              "      <button class=\"colab-df-convert\" onclick=\"convertToInteractive('df-70ad0a19-59c0-4cef-95cb-b7d275927394')\"\n",
              "              title=\"Convert this dataframe to an interactive table.\"\n",
              "              style=\"display:none;\">\n",
              "        \n",
              "  <svg xmlns=\"http://www.w3.org/2000/svg\" height=\"24px\"viewBox=\"0 0 24 24\"\n",
              "       width=\"24px\">\n",
              "    <path d=\"M0 0h24v24H0V0z\" fill=\"none\"/>\n",
              "    <path d=\"M18.56 5.44l.94 2.06.94-2.06 2.06-.94-2.06-.94-.94-2.06-.94 2.06-2.06.94zm-11 1L8.5 8.5l.94-2.06 2.06-.94-2.06-.94L8.5 2.5l-.94 2.06-2.06.94zm10 10l.94 2.06.94-2.06 2.06-.94-2.06-.94-.94-2.06-.94 2.06-2.06.94z\"/><path d=\"M17.41 7.96l-1.37-1.37c-.4-.4-.92-.59-1.43-.59-.52 0-1.04.2-1.43.59L10.3 9.45l-7.72 7.72c-.78.78-.78 2.05 0 2.83L4 21.41c.39.39.9.59 1.41.59.51 0 1.02-.2 1.41-.59l7.78-7.78 2.81-2.81c.8-.78.8-2.07 0-2.86zM5.41 20L4 18.59l7.72-7.72 1.47 1.35L5.41 20z\"/>\n",
              "  </svg>\n",
              "      </button>\n",
              "      \n",
              "  <style>\n",
              "    .colab-df-container {\n",
              "      display:flex;\n",
              "      flex-wrap:wrap;\n",
              "      gap: 12px;\n",
              "    }\n",
              "\n",
              "    .colab-df-convert {\n",
              "      background-color: #E8F0FE;\n",
              "      border: none;\n",
              "      border-radius: 50%;\n",
              "      cursor: pointer;\n",
              "      display: none;\n",
              "      fill: #1967D2;\n",
              "      height: 32px;\n",
              "      padding: 0 0 0 0;\n",
              "      width: 32px;\n",
              "    }\n",
              "\n",
              "    .colab-df-convert:hover {\n",
              "      background-color: #E2EBFA;\n",
              "      box-shadow: 0px 1px 2px rgba(60, 64, 67, 0.3), 0px 1px 3px 1px rgba(60, 64, 67, 0.15);\n",
              "      fill: #174EA6;\n",
              "    }\n",
              "\n",
              "    [theme=dark] .colab-df-convert {\n",
              "      background-color: #3B4455;\n",
              "      fill: #D2E3FC;\n",
              "    }\n",
              "\n",
              "    [theme=dark] .colab-df-convert:hover {\n",
              "      background-color: #434B5C;\n",
              "      box-shadow: 0px 1px 3px 1px rgba(0, 0, 0, 0.15);\n",
              "      filter: drop-shadow(0px 1px 2px rgba(0, 0, 0, 0.3));\n",
              "      fill: #FFFFFF;\n",
              "    }\n",
              "  </style>\n",
              "\n",
              "      <script>\n",
              "        const buttonEl =\n",
              "          document.querySelector('#df-70ad0a19-59c0-4cef-95cb-b7d275927394 button.colab-df-convert');\n",
              "        buttonEl.style.display =\n",
              "          google.colab.kernel.accessAllowed ? 'block' : 'none';\n",
              "\n",
              "        async function convertToInteractive(key) {\n",
              "          const element = document.querySelector('#df-70ad0a19-59c0-4cef-95cb-b7d275927394');\n",
              "          const dataTable =\n",
              "            await google.colab.kernel.invokeFunction('convertToInteractive',\n",
              "                                                     [key], {});\n",
              "          if (!dataTable) return;\n",
              "\n",
              "          const docLinkHtml = 'Like what you see? Visit the ' +\n",
              "            '<a target=\"_blank\" href=https://colab.research.google.com/notebooks/data_table.ipynb>data table notebook</a>'\n",
              "            + ' to learn more about interactive tables.';\n",
              "          element.innerHTML = '';\n",
              "          dataTable['output_type'] = 'display_data';\n",
              "          await google.colab.output.renderOutput(dataTable, element);\n",
              "          const docLink = document.createElement('div');\n",
              "          docLink.innerHTML = docLinkHtml;\n",
              "          element.appendChild(docLink);\n",
              "        }\n",
              "      </script>\n",
              "    </div>\n",
              "  </div>\n",
              "  "
            ]
          },
          "metadata": {},
          "execution_count": 181
        }
      ]
    },
    {
      "cell_type": "code",
      "source": [],
      "metadata": {
        "id": "YkGC86GSjvBP"
      },
      "execution_count": 181,
      "outputs": []
    }
  ]
}